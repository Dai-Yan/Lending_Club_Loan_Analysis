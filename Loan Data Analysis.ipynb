{
 "cells": [
  {
   "cell_type": "markdown",
   "metadata": {},
   "source": [
    "# Lending Club Loan Analysis"
   ]
  },
  {
   "cell_type": "markdown",
   "metadata": {},
   "source": [
    "In this project, we use supervised learning models to predict the loan will be defaulted or not. "
   ]
  },
  {
   "cell_type": "markdown",
   "metadata": {},
   "source": [
    "## Contents"
   ]
  },
  {
   "cell_type": "markdown",
   "metadata": {},
   "source": [
    "* [Part 1: Load Data](#Part-1:-Load-Data)\n",
    "* [Part 2: Data Preprocess](#Part-2:-Data-Preprocess)\n",
    "* [Part 3: Data Cleaning](#Part-3:-Data-Cleaning)\n",
    "* [Part 4: Data Visualization](#Part-4:-Data-Visualization)\n",
    "* [Part 5: Feature Selection](#Part-5:-Feature-Selection)\n",
    "* [Part 6: Model Selection](#Part-6:-Model-Selection)\n",
    "* [Part 7: Model Evaluation](#Part-7:-Model-Evaluation)\n",
    "* [Part 8: Summary](#Part-7:-Summary)"
   ]
  },
  {
   "cell_type": "code",
   "execution_count": 1,
   "metadata": {},
   "outputs": [],
   "source": [
    "import numpy as np\n",
    "import pandas as pd\n",
    "import matplotlib.pyplot as plt\n",
    "import seaborn as sns\n",
    "\n",
    "import warnings\n",
    "warnings.filterwarnings('ignore')"
   ]
  },
  {
   "cell_type": "markdown",
   "metadata": {},
   "source": [
    "## Part 1: Load Dataset\n",
    "\n",
    "The raw dataset are stored in data/ directory. The two-year data files are separated into 4 quarters for each year. "
   ]
  },
  {
   "cell_type": "code",
   "execution_count": 2,
   "metadata": {},
   "outputs": [],
   "source": [
    "import glob\n",
    "path = r'./data/' \n",
    "all_files = glob.glob(path + \"/2016*.csv.gz\")\n",
    "\n",
    "list_2016 = []\n",
    "for filename in all_files:\n",
    "    df = pd.read_csv(filename)\n",
    "    list_2016.append(df)"
   ]
  },
  {
   "cell_type": "code",
   "execution_count": 3,
   "metadata": {},
   "outputs": [],
   "source": [
    "path = r'./data/' \n",
    "all_files = glob.glob(path + \"/2017*.csv.gz\")\n",
    "\n",
    "list_2017 = []\n",
    "for filename in all_files:\n",
    "    df = pd.read_csv(filename)\n",
    "    list_2017.append(df)"
   ]
  },
  {
   "cell_type": "markdown",
   "metadata": {},
   "source": [
    "## Part 2: Data Preprocess"
   ]
  },
  {
   "cell_type": "code",
   "execution_count": 4,
   "metadata": {},
   "outputs": [],
   "source": [
    "# combine same year data\n",
    "data_2016 = pd.concat(list_2016, axis=0)\n",
    "data_2017 = pd.concat(list_2017, axis=0)"
   ]
  },
  {
   "cell_type": "code",
   "execution_count": 5,
   "metadata": {},
   "outputs": [
    {
     "data": {
      "text/html": [
       "<div>\n",
       "<style scoped>\n",
       "    .dataframe tbody tr th:only-of-type {\n",
       "        vertical-align: middle;\n",
       "    }\n",
       "\n",
       "    .dataframe tbody tr th {\n",
       "        vertical-align: top;\n",
       "    }\n",
       "\n",
       "    .dataframe thead th {\n",
       "        text-align: right;\n",
       "    }\n",
       "</style>\n",
       "<table border=\"1\" class=\"dataframe\">\n",
       "  <thead>\n",
       "    <tr style=\"text-align: right;\">\n",
       "      <th></th>\n",
       "      <th>Unnamed: 0</th>\n",
       "      <th>id</th>\n",
       "      <th>member_id</th>\n",
       "      <th>loan_amnt</th>\n",
       "      <th>funded_amnt</th>\n",
       "      <th>funded_amnt_inv</th>\n",
       "      <th>term</th>\n",
       "      <th>int_rate</th>\n",
       "      <th>installment</th>\n",
       "      <th>grade</th>\n",
       "      <th>...</th>\n",
       "      <th>hardship_payoff_balance_amount</th>\n",
       "      <th>hardship_last_payment_amount</th>\n",
       "      <th>disbursement_method</th>\n",
       "      <th>debt_settlement_flag</th>\n",
       "      <th>debt_settlement_flag_date</th>\n",
       "      <th>settlement_status</th>\n",
       "      <th>settlement_date</th>\n",
       "      <th>settlement_amount</th>\n",
       "      <th>settlement_percentage</th>\n",
       "      <th>settlement_term</th>\n",
       "    </tr>\n",
       "  </thead>\n",
       "  <tbody>\n",
       "    <tr>\n",
       "      <td>0</td>\n",
       "      <td>0</td>\n",
       "      <td>90217342</td>\n",
       "      <td>NaN</td>\n",
       "      <td>26000</td>\n",
       "      <td>26000</td>\n",
       "      <td>26000.0</td>\n",
       "      <td>36 months</td>\n",
       "      <td>14.49%</td>\n",
       "      <td>894.82</td>\n",
       "      <td>C</td>\n",
       "      <td>...</td>\n",
       "      <td>NaN</td>\n",
       "      <td>NaN</td>\n",
       "      <td>Cash</td>\n",
       "      <td>N</td>\n",
       "      <td>NaN</td>\n",
       "      <td>NaN</td>\n",
       "      <td>NaN</td>\n",
       "      <td>NaN</td>\n",
       "      <td>NaN</td>\n",
       "      <td>NaN</td>\n",
       "    </tr>\n",
       "    <tr>\n",
       "      <td>1</td>\n",
       "      <td>1</td>\n",
       "      <td>89996652</td>\n",
       "      <td>NaN</td>\n",
       "      <td>12000</td>\n",
       "      <td>12000</td>\n",
       "      <td>12000.0</td>\n",
       "      <td>36 months</td>\n",
       "      <td>5.32%</td>\n",
       "      <td>361.38</td>\n",
       "      <td>A</td>\n",
       "      <td>...</td>\n",
       "      <td>NaN</td>\n",
       "      <td>NaN</td>\n",
       "      <td>Cash</td>\n",
       "      <td>N</td>\n",
       "      <td>NaN</td>\n",
       "      <td>NaN</td>\n",
       "      <td>NaN</td>\n",
       "      <td>NaN</td>\n",
       "      <td>NaN</td>\n",
       "      <td>NaN</td>\n",
       "    </tr>\n",
       "    <tr>\n",
       "      <td>2</td>\n",
       "      <td>2</td>\n",
       "      <td>90118352</td>\n",
       "      <td>NaN</td>\n",
       "      <td>3000</td>\n",
       "      <td>3000</td>\n",
       "      <td>3000.0</td>\n",
       "      <td>36 months</td>\n",
       "      <td>13.99%</td>\n",
       "      <td>102.52</td>\n",
       "      <td>C</td>\n",
       "      <td>...</td>\n",
       "      <td>NaN</td>\n",
       "      <td>NaN</td>\n",
       "      <td>Cash</td>\n",
       "      <td>Y</td>\n",
       "      <td>Aug-18</td>\n",
       "      <td>COMPLETE</td>\n",
       "      <td>Aug-17</td>\n",
       "      <td>1270.81</td>\n",
       "      <td>45.0</td>\n",
       "      <td>12.0</td>\n",
       "    </tr>\n",
       "    <tr>\n",
       "      <td>3</td>\n",
       "      <td>3</td>\n",
       "      <td>89924687</td>\n",
       "      <td>NaN</td>\n",
       "      <td>8000</td>\n",
       "      <td>8000</td>\n",
       "      <td>8000.0</td>\n",
       "      <td>36 months</td>\n",
       "      <td>7.59%</td>\n",
       "      <td>249.19</td>\n",
       "      <td>A</td>\n",
       "      <td>...</td>\n",
       "      <td>NaN</td>\n",
       "      <td>NaN</td>\n",
       "      <td>Cash</td>\n",
       "      <td>N</td>\n",
       "      <td>NaN</td>\n",
       "      <td>NaN</td>\n",
       "      <td>NaN</td>\n",
       "      <td>NaN</td>\n",
       "      <td>NaN</td>\n",
       "      <td>NaN</td>\n",
       "    </tr>\n",
       "    <tr>\n",
       "      <td>4</td>\n",
       "      <td>4</td>\n",
       "      <td>90945154</td>\n",
       "      <td>NaN</td>\n",
       "      <td>18000</td>\n",
       "      <td>18000</td>\n",
       "      <td>18000.0</td>\n",
       "      <td>60 months</td>\n",
       "      <td>14.49%</td>\n",
       "      <td>423.42</td>\n",
       "      <td>C</td>\n",
       "      <td>...</td>\n",
       "      <td>NaN</td>\n",
       "      <td>NaN</td>\n",
       "      <td>Cash</td>\n",
       "      <td>N</td>\n",
       "      <td>NaN</td>\n",
       "      <td>NaN</td>\n",
       "      <td>NaN</td>\n",
       "      <td>NaN</td>\n",
       "      <td>NaN</td>\n",
       "      <td>NaN</td>\n",
       "    </tr>\n",
       "  </tbody>\n",
       "</table>\n",
       "<p>5 rows × 152 columns</p>\n",
       "</div>"
      ],
      "text/plain": [
       "   Unnamed: 0        id  member_id  loan_amnt  funded_amnt  funded_amnt_inv  \\\n",
       "0           0  90217342        NaN      26000        26000          26000.0   \n",
       "1           1  89996652        NaN      12000        12000          12000.0   \n",
       "2           2  90118352        NaN       3000         3000           3000.0   \n",
       "3           3  89924687        NaN       8000         8000           8000.0   \n",
       "4           4  90945154        NaN      18000        18000          18000.0   \n",
       "\n",
       "         term int_rate  installment grade  ... hardship_payoff_balance_amount  \\\n",
       "0   36 months   14.49%       894.82     C  ...                            NaN   \n",
       "1   36 months    5.32%       361.38     A  ...                            NaN   \n",
       "2   36 months   13.99%       102.52     C  ...                            NaN   \n",
       "3   36 months    7.59%       249.19     A  ...                            NaN   \n",
       "4   60 months   14.49%       423.42     C  ...                            NaN   \n",
       "\n",
       "  hardship_last_payment_amount disbursement_method debt_settlement_flag  \\\n",
       "0                          NaN                Cash                    N   \n",
       "1                          NaN                Cash                    N   \n",
       "2                          NaN                Cash                    Y   \n",
       "3                          NaN                Cash                    N   \n",
       "4                          NaN                Cash                    N   \n",
       "\n",
       "   debt_settlement_flag_date settlement_status settlement_date  \\\n",
       "0                        NaN               NaN             NaN   \n",
       "1                        NaN               NaN             NaN   \n",
       "2                     Aug-18          COMPLETE          Aug-17   \n",
       "3                        NaN               NaN             NaN   \n",
       "4                        NaN               NaN             NaN   \n",
       "\n",
       "  settlement_amount settlement_percentage settlement_term  \n",
       "0               NaN                   NaN             NaN  \n",
       "1               NaN                   NaN             NaN  \n",
       "2           1270.81                  45.0            12.0  \n",
       "3               NaN                   NaN             NaN  \n",
       "4               NaN                   NaN             NaN  \n",
       "\n",
       "[5 rows x 152 columns]"
      ]
     },
     "execution_count": 5,
     "metadata": {},
     "output_type": "execute_result"
    }
   ],
   "source": [
    "data_2016.head()"
   ]
  },
  {
   "cell_type": "code",
   "execution_count": 6,
   "metadata": {},
   "outputs": [
    {
     "data": {
      "text/html": [
       "<div>\n",
       "<style scoped>\n",
       "    .dataframe tbody tr th:only-of-type {\n",
       "        vertical-align: middle;\n",
       "    }\n",
       "\n",
       "    .dataframe tbody tr th {\n",
       "        vertical-align: top;\n",
       "    }\n",
       "\n",
       "    .dataframe thead th {\n",
       "        text-align: right;\n",
       "    }\n",
       "</style>\n",
       "<table border=\"1\" class=\"dataframe\">\n",
       "  <thead>\n",
       "    <tr style=\"text-align: right;\">\n",
       "      <th></th>\n",
       "      <th>Unnamed: 0</th>\n",
       "      <th>id</th>\n",
       "      <th>member_id</th>\n",
       "      <th>loan_amnt</th>\n",
       "      <th>funded_amnt</th>\n",
       "      <th>funded_amnt_inv</th>\n",
       "      <th>term</th>\n",
       "      <th>int_rate</th>\n",
       "      <th>installment</th>\n",
       "      <th>grade</th>\n",
       "      <th>...</th>\n",
       "      <th>hardship_payoff_balance_amount</th>\n",
       "      <th>hardship_last_payment_amount</th>\n",
       "      <th>disbursement_method</th>\n",
       "      <th>debt_settlement_flag</th>\n",
       "      <th>debt_settlement_flag_date</th>\n",
       "      <th>settlement_status</th>\n",
       "      <th>settlement_date</th>\n",
       "      <th>settlement_amount</th>\n",
       "      <th>settlement_percentage</th>\n",
       "      <th>settlement_term</th>\n",
       "    </tr>\n",
       "  </thead>\n",
       "  <tbody>\n",
       "    <tr>\n",
       "      <td>0</td>\n",
       "      <td>0</td>\n",
       "      <td>119374887</td>\n",
       "      <td>NaN</td>\n",
       "      <td>32000</td>\n",
       "      <td>32000</td>\n",
       "      <td>32000.0</td>\n",
       "      <td>36 months</td>\n",
       "      <td>11.99%</td>\n",
       "      <td>1062.71</td>\n",
       "      <td>B</td>\n",
       "      <td>...</td>\n",
       "      <td>NaN</td>\n",
       "      <td>NaN</td>\n",
       "      <td>Cash</td>\n",
       "      <td>N</td>\n",
       "      <td>NaN</td>\n",
       "      <td>NaN</td>\n",
       "      <td>NaN</td>\n",
       "      <td>NaN</td>\n",
       "      <td>NaN</td>\n",
       "      <td>NaN</td>\n",
       "    </tr>\n",
       "    <tr>\n",
       "      <td>1</td>\n",
       "      <td>1</td>\n",
       "      <td>118659541</td>\n",
       "      <td>NaN</td>\n",
       "      <td>33000</td>\n",
       "      <td>33000</td>\n",
       "      <td>33000.0</td>\n",
       "      <td>36 months</td>\n",
       "      <td>7.21%</td>\n",
       "      <td>1022.12</td>\n",
       "      <td>A</td>\n",
       "      <td>...</td>\n",
       "      <td>NaN</td>\n",
       "      <td>NaN</td>\n",
       "      <td>Cash</td>\n",
       "      <td>N</td>\n",
       "      <td>NaN</td>\n",
       "      <td>NaN</td>\n",
       "      <td>NaN</td>\n",
       "      <td>NaN</td>\n",
       "      <td>NaN</td>\n",
       "      <td>NaN</td>\n",
       "    </tr>\n",
       "    <tr>\n",
       "      <td>2</td>\n",
       "      <td>2</td>\n",
       "      <td>120122535</td>\n",
       "      <td>NaN</td>\n",
       "      <td>12000</td>\n",
       "      <td>12000</td>\n",
       "      <td>12000.0</td>\n",
       "      <td>36 months</td>\n",
       "      <td>7.97%</td>\n",
       "      <td>375.88</td>\n",
       "      <td>A</td>\n",
       "      <td>...</td>\n",
       "      <td>NaN</td>\n",
       "      <td>NaN</td>\n",
       "      <td>Cash</td>\n",
       "      <td>N</td>\n",
       "      <td>NaN</td>\n",
       "      <td>NaN</td>\n",
       "      <td>NaN</td>\n",
       "      <td>NaN</td>\n",
       "      <td>NaN</td>\n",
       "      <td>NaN</td>\n",
       "    </tr>\n",
       "    <tr>\n",
       "      <td>3</td>\n",
       "      <td>3</td>\n",
       "      <td>119246018</td>\n",
       "      <td>NaN</td>\n",
       "      <td>7000</td>\n",
       "      <td>7000</td>\n",
       "      <td>7000.0</td>\n",
       "      <td>36 months</td>\n",
       "      <td>7.97%</td>\n",
       "      <td>219.26</td>\n",
       "      <td>A</td>\n",
       "      <td>...</td>\n",
       "      <td>NaN</td>\n",
       "      <td>NaN</td>\n",
       "      <td>Cash</td>\n",
       "      <td>N</td>\n",
       "      <td>NaN</td>\n",
       "      <td>NaN</td>\n",
       "      <td>NaN</td>\n",
       "      <td>NaN</td>\n",
       "      <td>NaN</td>\n",
       "      <td>NaN</td>\n",
       "    </tr>\n",
       "    <tr>\n",
       "      <td>4</td>\n",
       "      <td>4</td>\n",
       "      <td>119321612</td>\n",
       "      <td>NaN</td>\n",
       "      <td>40000</td>\n",
       "      <td>40000</td>\n",
       "      <td>40000.0</td>\n",
       "      <td>60 months</td>\n",
       "      <td>15.05%</td>\n",
       "      <td>952.65</td>\n",
       "      <td>C</td>\n",
       "      <td>...</td>\n",
       "      <td>NaN</td>\n",
       "      <td>NaN</td>\n",
       "      <td>Cash</td>\n",
       "      <td>N</td>\n",
       "      <td>NaN</td>\n",
       "      <td>NaN</td>\n",
       "      <td>NaN</td>\n",
       "      <td>NaN</td>\n",
       "      <td>NaN</td>\n",
       "      <td>NaN</td>\n",
       "    </tr>\n",
       "  </tbody>\n",
       "</table>\n",
       "<p>5 rows × 152 columns</p>\n",
       "</div>"
      ],
      "text/plain": [
       "   Unnamed: 0         id  member_id  loan_amnt  funded_amnt  funded_amnt_inv  \\\n",
       "0           0  119374887        NaN      32000        32000          32000.0   \n",
       "1           1  118659541        NaN      33000        33000          33000.0   \n",
       "2           2  120122535        NaN      12000        12000          12000.0   \n",
       "3           3  119246018        NaN       7000         7000           7000.0   \n",
       "4           4  119321612        NaN      40000        40000          40000.0   \n",
       "\n",
       "         term int_rate  installment grade  ... hardship_payoff_balance_amount  \\\n",
       "0   36 months   11.99%      1062.71     B  ...                            NaN   \n",
       "1   36 months    7.21%      1022.12     A  ...                            NaN   \n",
       "2   36 months    7.97%       375.88     A  ...                            NaN   \n",
       "3   36 months    7.97%       219.26     A  ...                            NaN   \n",
       "4   60 months   15.05%       952.65     C  ...                            NaN   \n",
       "\n",
       "  hardship_last_payment_amount disbursement_method debt_settlement_flag  \\\n",
       "0                          NaN                Cash                    N   \n",
       "1                          NaN                Cash                    N   \n",
       "2                          NaN                Cash                    N   \n",
       "3                          NaN                Cash                    N   \n",
       "4                          NaN                Cash                    N   \n",
       "\n",
       "   debt_settlement_flag_date settlement_status settlement_date  \\\n",
       "0                        NaN               NaN             NaN   \n",
       "1                        NaN               NaN             NaN   \n",
       "2                        NaN               NaN             NaN   \n",
       "3                        NaN               NaN             NaN   \n",
       "4                        NaN               NaN             NaN   \n",
       "\n",
       "  settlement_amount settlement_percentage settlement_term  \n",
       "0               NaN                   NaN             NaN  \n",
       "1               NaN                   NaN             NaN  \n",
       "2               NaN                   NaN             NaN  \n",
       "3               NaN                   NaN             NaN  \n",
       "4               NaN                   NaN             NaN  \n",
       "\n",
       "[5 rows x 152 columns]"
      ]
     },
     "execution_count": 6,
     "metadata": {},
     "output_type": "execute_result"
    }
   ],
   "source": [
    "data_2017.head()"
   ]
  },
  {
   "cell_type": "code",
   "execution_count": 7,
   "metadata": {},
   "outputs": [
    {
     "name": "stdout",
     "output_type": "stream",
     "text": [
      "<class 'pandas.core.frame.DataFrame'>\n",
      "Int64Index: 434407 entries, 0 to 97853\n",
      "Columns: 152 entries, Unnamed: 0 to settlement_term\n",
      "dtypes: float64(68), int64(46), object(38)\n",
      "memory usage: 507.1+ MB\n"
     ]
    }
   ],
   "source": [
    "data_2016.info()"
   ]
  },
  {
   "cell_type": "code",
   "execution_count": 8,
   "metadata": {},
   "outputs": [
    {
     "name": "stdout",
     "output_type": "stream",
     "text": [
      "<class 'pandas.core.frame.DataFrame'>\n",
      "Int64Index: 443579 entries, 0 to 105450\n",
      "Columns: 152 entries, Unnamed: 0 to settlement_term\n",
      "dtypes: float64(57), int64(57), object(38)\n",
      "memory usage: 517.8+ MB\n"
     ]
    }
   ],
   "source": [
    "data_2017.info()"
   ]
  },
  {
   "cell_type": "code",
   "execution_count": 9,
   "metadata": {},
   "outputs": [
    {
     "name": "stdout",
     "output_type": "stream",
     "text": [
      "2016 dataset has 434407 rows and 152 columns\n",
      "2017 dataset has 443579 rows and 152 columns\n"
     ]
    }
   ],
   "source": [
    "# dimensionans of dataset\n",
    "print ('2016 dataset has ' + str(data_2016.shape[0]) + ' rows and ' + str(data_2016.shape[1]) + ' columns')\n",
    "print ('2017 dataset has ' + str(data_2017.shape[0]) + ' rows and ' + str(data_2017.shape[1]) + ' columns')"
   ]
  },
  {
   "cell_type": "code",
   "execution_count": 10,
   "metadata": {},
   "outputs": [
    {
     "data": {
      "text/html": [
       "<div>\n",
       "<style scoped>\n",
       "    .dataframe tbody tr th:only-of-type {\n",
       "        vertical-align: middle;\n",
       "    }\n",
       "\n",
       "    .dataframe tbody tr th {\n",
       "        vertical-align: top;\n",
       "    }\n",
       "\n",
       "    .dataframe thead th {\n",
       "        text-align: right;\n",
       "    }\n",
       "</style>\n",
       "<table border=\"1\" class=\"dataframe\">\n",
       "  <thead>\n",
       "    <tr style=\"text-align: right;\">\n",
       "      <th></th>\n",
       "      <th>Unnamed: 0</th>\n",
       "      <th>id</th>\n",
       "      <th>member_id</th>\n",
       "      <th>loan_amnt</th>\n",
       "      <th>funded_amnt</th>\n",
       "      <th>funded_amnt_inv</th>\n",
       "      <th>term</th>\n",
       "      <th>int_rate</th>\n",
       "      <th>installment</th>\n",
       "      <th>grade</th>\n",
       "      <th>...</th>\n",
       "      <th>hardship_payoff_balance_amount</th>\n",
       "      <th>hardship_last_payment_amount</th>\n",
       "      <th>disbursement_method</th>\n",
       "      <th>debt_settlement_flag</th>\n",
       "      <th>debt_settlement_flag_date</th>\n",
       "      <th>settlement_status</th>\n",
       "      <th>settlement_date</th>\n",
       "      <th>settlement_amount</th>\n",
       "      <th>settlement_percentage</th>\n",
       "      <th>settlement_term</th>\n",
       "    </tr>\n",
       "  </thead>\n",
       "  <tbody>\n",
       "    <tr>\n",
       "      <td>0</td>\n",
       "      <td>0</td>\n",
       "      <td>90217342</td>\n",
       "      <td>NaN</td>\n",
       "      <td>26000</td>\n",
       "      <td>26000</td>\n",
       "      <td>26000.0</td>\n",
       "      <td>36 months</td>\n",
       "      <td>14.49%</td>\n",
       "      <td>894.82</td>\n",
       "      <td>C</td>\n",
       "      <td>...</td>\n",
       "      <td>NaN</td>\n",
       "      <td>NaN</td>\n",
       "      <td>Cash</td>\n",
       "      <td>N</td>\n",
       "      <td>NaN</td>\n",
       "      <td>NaN</td>\n",
       "      <td>NaN</td>\n",
       "      <td>NaN</td>\n",
       "      <td>NaN</td>\n",
       "      <td>NaN</td>\n",
       "    </tr>\n",
       "    <tr>\n",
       "      <td>1</td>\n",
       "      <td>1</td>\n",
       "      <td>89996652</td>\n",
       "      <td>NaN</td>\n",
       "      <td>12000</td>\n",
       "      <td>12000</td>\n",
       "      <td>12000.0</td>\n",
       "      <td>36 months</td>\n",
       "      <td>5.32%</td>\n",
       "      <td>361.38</td>\n",
       "      <td>A</td>\n",
       "      <td>...</td>\n",
       "      <td>NaN</td>\n",
       "      <td>NaN</td>\n",
       "      <td>Cash</td>\n",
       "      <td>N</td>\n",
       "      <td>NaN</td>\n",
       "      <td>NaN</td>\n",
       "      <td>NaN</td>\n",
       "      <td>NaN</td>\n",
       "      <td>NaN</td>\n",
       "      <td>NaN</td>\n",
       "    </tr>\n",
       "    <tr>\n",
       "      <td>2</td>\n",
       "      <td>2</td>\n",
       "      <td>90118352</td>\n",
       "      <td>NaN</td>\n",
       "      <td>3000</td>\n",
       "      <td>3000</td>\n",
       "      <td>3000.0</td>\n",
       "      <td>36 months</td>\n",
       "      <td>13.99%</td>\n",
       "      <td>102.52</td>\n",
       "      <td>C</td>\n",
       "      <td>...</td>\n",
       "      <td>NaN</td>\n",
       "      <td>NaN</td>\n",
       "      <td>Cash</td>\n",
       "      <td>Y</td>\n",
       "      <td>Aug-18</td>\n",
       "      <td>COMPLETE</td>\n",
       "      <td>Aug-17</td>\n",
       "      <td>1270.81</td>\n",
       "      <td>45.0</td>\n",
       "      <td>12.0</td>\n",
       "    </tr>\n",
       "    <tr>\n",
       "      <td>3</td>\n",
       "      <td>3</td>\n",
       "      <td>89924687</td>\n",
       "      <td>NaN</td>\n",
       "      <td>8000</td>\n",
       "      <td>8000</td>\n",
       "      <td>8000.0</td>\n",
       "      <td>36 months</td>\n",
       "      <td>7.59%</td>\n",
       "      <td>249.19</td>\n",
       "      <td>A</td>\n",
       "      <td>...</td>\n",
       "      <td>NaN</td>\n",
       "      <td>NaN</td>\n",
       "      <td>Cash</td>\n",
       "      <td>N</td>\n",
       "      <td>NaN</td>\n",
       "      <td>NaN</td>\n",
       "      <td>NaN</td>\n",
       "      <td>NaN</td>\n",
       "      <td>NaN</td>\n",
       "      <td>NaN</td>\n",
       "    </tr>\n",
       "    <tr>\n",
       "      <td>4</td>\n",
       "      <td>4</td>\n",
       "      <td>90945154</td>\n",
       "      <td>NaN</td>\n",
       "      <td>18000</td>\n",
       "      <td>18000</td>\n",
       "      <td>18000.0</td>\n",
       "      <td>60 months</td>\n",
       "      <td>14.49%</td>\n",
       "      <td>423.42</td>\n",
       "      <td>C</td>\n",
       "      <td>...</td>\n",
       "      <td>NaN</td>\n",
       "      <td>NaN</td>\n",
       "      <td>Cash</td>\n",
       "      <td>N</td>\n",
       "      <td>NaN</td>\n",
       "      <td>NaN</td>\n",
       "      <td>NaN</td>\n",
       "      <td>NaN</td>\n",
       "      <td>NaN</td>\n",
       "      <td>NaN</td>\n",
       "    </tr>\n",
       "  </tbody>\n",
       "</table>\n",
       "<p>5 rows × 152 columns</p>\n",
       "</div>"
      ],
      "text/plain": [
       "   Unnamed: 0        id  member_id  loan_amnt  funded_amnt  funded_amnt_inv  \\\n",
       "0           0  90217342        NaN      26000        26000          26000.0   \n",
       "1           1  89996652        NaN      12000        12000          12000.0   \n",
       "2           2  90118352        NaN       3000         3000           3000.0   \n",
       "3           3  89924687        NaN       8000         8000           8000.0   \n",
       "4           4  90945154        NaN      18000        18000          18000.0   \n",
       "\n",
       "         term int_rate  installment grade  ... hardship_payoff_balance_amount  \\\n",
       "0   36 months   14.49%       894.82     C  ...                            NaN   \n",
       "1   36 months    5.32%       361.38     A  ...                            NaN   \n",
       "2   36 months   13.99%       102.52     C  ...                            NaN   \n",
       "3   36 months    7.59%       249.19     A  ...                            NaN   \n",
       "4   60 months   14.49%       423.42     C  ...                            NaN   \n",
       "\n",
       "  hardship_last_payment_amount disbursement_method debt_settlement_flag  \\\n",
       "0                          NaN                Cash                    N   \n",
       "1                          NaN                Cash                    N   \n",
       "2                          NaN                Cash                    Y   \n",
       "3                          NaN                Cash                    N   \n",
       "4                          NaN                Cash                    N   \n",
       "\n",
       "   debt_settlement_flag_date settlement_status settlement_date  \\\n",
       "0                        NaN               NaN             NaN   \n",
       "1                        NaN               NaN             NaN   \n",
       "2                     Aug-18          COMPLETE          Aug-17   \n",
       "3                        NaN               NaN             NaN   \n",
       "4                        NaN               NaN             NaN   \n",
       "\n",
       "  settlement_amount settlement_percentage settlement_term  \n",
       "0               NaN                   NaN             NaN  \n",
       "1               NaN                   NaN             NaN  \n",
       "2           1270.81                  45.0            12.0  \n",
       "3               NaN                   NaN             NaN  \n",
       "4               NaN                   NaN             NaN  \n",
       "\n",
       "[5 rows x 152 columns]"
      ]
     },
     "execution_count": 10,
     "metadata": {},
     "output_type": "execute_result"
    }
   ],
   "source": [
    "# combine two 2016, 2017 datasets\n",
    "data = pd.concat([data_2016, data_2017], axis=0)\n",
    "data.head()"
   ]
  },
  {
   "cell_type": "code",
   "execution_count": 11,
   "metadata": {},
   "outputs": [
    {
     "name": "stdout",
     "output_type": "stream",
     "text": [
      "<class 'pandas.core.frame.DataFrame'>\n",
      "Int64Index: 877986 entries, 0 to 105450\n",
      "Columns: 152 entries, Unnamed: 0 to settlement_term\n",
      "dtypes: float64(68), int64(45), object(39)\n",
      "memory usage: 1.0+ GB\n"
     ]
    }
   ],
   "source": [
    "data.info()"
   ]
  },
  {
   "cell_type": "markdown",
   "metadata": {},
   "source": [
    "## Part 3: Data Cleaning "
   ]
  },
  {
   "cell_type": "code",
   "execution_count": 12,
   "metadata": {},
   "outputs": [
    {
     "data": {
      "text/plain": [
       "Unnamed: 0               133887\n",
       "id                       877986\n",
       "member_id                     0\n",
       "loan_amnt                  1560\n",
       "funded_amnt                1560\n",
       "                          ...  \n",
       "settlement_status             3\n",
       "settlement_date              29\n",
       "settlement_amount          8565\n",
       "settlement_percentage       598\n",
       "settlement_term              34\n",
       "Length: 152, dtype: int64"
      ]
     },
     "execution_count": 12,
     "metadata": {},
     "output_type": "execute_result"
    }
   ],
   "source": [
    "# Get unique count for each feature\n",
    "data.nunique()"
   ]
  },
  {
   "cell_type": "markdown",
   "metadata": {},
   "source": [
    "### Part 3.0: Duplicated Data"
   ]
  },
  {
   "cell_type": "code",
   "execution_count": 13,
   "metadata": {},
   "outputs": [
    {
     "name": "stdout",
     "output_type": "stream",
     "text": [
      "duplicated rows = 0\n",
      "duplicated columns = 0\n"
     ]
    }
   ],
   "source": [
    "# duplicated values\n",
    "print ('duplicated rows =', data.duplicated().sum())\n",
    "print ('duplicated columns =', data.columns.duplicated().sum())"
   ]
  },
  {
   "cell_type": "markdown",
   "metadata": {},
   "source": [
    "### Part 3.1: Missing Data"
   ]
  },
  {
   "cell_type": "code",
   "execution_count": 14,
   "metadata": {},
   "outputs": [
    {
     "name": "stdout",
     "output_type": "stream",
     "text": [
      "missing value = 36443546\n"
     ]
    }
   ],
   "source": [
    "# total missing values\n",
    "print ('missing value =', data.isnull().sum().sum())"
   ]
  },
  {
   "cell_type": "markdown",
   "metadata": {},
   "source": [
    "We see that there are lots of missing data, and we will remove features with no-entry first."
   ]
  },
  {
   "cell_type": "code",
   "execution_count": 15,
   "metadata": {},
   "outputs": [
    {
     "data": {
      "text/plain": [
       "Unnamed: 0                    0\n",
       "id                            0\n",
       "member_id                877986\n",
       "loan_amnt                     0\n",
       "funded_amnt                   0\n",
       "                          ...  \n",
       "settlement_status        867536\n",
       "settlement_date          867536\n",
       "settlement_amount        867536\n",
       "settlement_percentage    867536\n",
       "settlement_term          867536\n",
       "Length: 152, dtype: int64"
      ]
     },
     "execution_count": 15,
     "metadata": {},
     "output_type": "execute_result"
    }
   ],
   "source": [
    "# missing values\n",
    "data.isnull().sum()"
   ]
  },
  {
   "cell_type": "code",
   "execution_count": 16,
   "metadata": {},
   "outputs": [
    {
     "name": "stdout",
     "output_type": "stream",
     "text": [
      "Unnamed: 0                 0.0\n",
      "id                         0.0\n",
      "member_id                100.0\n",
      "loan_amnt                  0.0\n",
      "funded_amnt                0.0\n",
      "                         ...  \n",
      "settlement_status         99.0\n",
      "settlement_date           99.0\n",
      "settlement_amount         99.0\n",
      "settlement_percentage     99.0\n",
      "settlement_term           99.0\n",
      "Length: 152, dtype: float64\n"
     ]
    }
   ],
   "source": [
    "# missing ratio\n",
    "missing_data = round(data.isnull().sum() / len(data), 2) * 100\n",
    "print(missing_data)"
   ]
  },
  {
   "cell_type": "code",
   "execution_count": 17,
   "metadata": {},
   "outputs": [
    {
     "data": {
      "text/plain": [
       "array([  0.,   1.,   3.,   5.,   7.,  11.,  14.,  39.,  49.,  65.,  72.,\n",
       "        76.,  82.,  94.,  96.,  98.,  99., 100.])"
      ]
     },
     "execution_count": 17,
     "metadata": {},
     "output_type": "execute_result"
    }
   ],
   "source": [
    "# get unique missing ratios\n",
    "missing_data.sort_values().unique()"
   ]
  },
  {
   "cell_type": "code",
   "execution_count": 18,
   "metadata": {},
   "outputs": [
    {
     "name": "stdout",
     "output_type": "stream",
     "text": [
      "Index(['member_id', 'desc', 'annual_inc_joint', 'dti_joint',\n",
      "       'verification_status_joint', 'revol_bal_joint',\n",
      "       'sec_app_fico_range_low', 'sec_app_fico_range_high',\n",
      "       'sec_app_earliest_cr_line', 'sec_app_inq_last_6mths',\n",
      "       'sec_app_mort_acc', 'sec_app_open_acc', 'sec_app_revol_util',\n",
      "       'sec_app_open_act_il', 'sec_app_num_rev_accts',\n",
      "       'sec_app_chargeoff_within_12_mths',\n",
      "       'sec_app_collections_12_mths_ex_med',\n",
      "       'sec_app_mths_since_last_major_derog', 'hardship_type',\n",
      "       'hardship_reason', 'hardship_status', 'deferral_term',\n",
      "       'hardship_amount', 'hardship_start_date', 'hardship_end_date',\n",
      "       'payment_plan_start_date', 'hardship_length', 'hardship_dpd',\n",
      "       'hardship_loan_status', 'orig_projected_additional_accrued_interest',\n",
      "       'hardship_payoff_balance_amount', 'hardship_last_payment_amount',\n",
      "       'debt_settlement_flag_date', 'settlement_status', 'settlement_date',\n",
      "       'settlement_amount', 'settlement_percentage', 'settlement_term'],\n",
      "      dtype='object')\n"
     ]
    }
   ],
   "source": [
    "# list missing_columns with missing ratio greater than 90%\n",
    "missing_columns = data.columns[missing_data > 90]\n",
    "print(missing_columns)"
   ]
  },
  {
   "cell_type": "code",
   "execution_count": 19,
   "metadata": {},
   "outputs": [
    {
     "name": "stdout",
     "output_type": "stream",
     "text": [
      "There are 38 columns with missing ratio greater than 90%.\n"
     ]
    }
   ],
   "source": [
    "print('There are ' + str(len(missing_columns)) + ' columns with missing ratio greater than 90%.')"
   ]
  },
  {
   "cell_type": "code",
   "execution_count": 20,
   "metadata": {},
   "outputs": [
    {
     "name": "stdout",
     "output_type": "stream",
     "text": [
      "(877986, 114)\n"
     ]
    }
   ],
   "source": [
    "# drop columns with 90% missing data\n",
    "data = data.drop(missing_columns, axis=1)\n",
    "print(data.shape)"
   ]
  },
  {
   "cell_type": "code",
   "execution_count": 21,
   "metadata": {},
   "outputs": [
    {
     "name": "stdout",
     "output_type": "stream",
     "text": [
      "mths_since_last_record            82.0\n",
      "mths_since_recent_bc_dlq          76.0\n",
      "mths_since_last_major_derog       72.0\n",
      "mths_since_recent_revol_delinq    65.0\n",
      "mths_since_last_delinq            49.0\n",
      "                                  ... \n",
      "inq_last_12m                       0.0\n",
      "acc_open_past_24mths               0.0\n",
      "avg_cur_bal                        0.0\n",
      "chargeoff_within_12_mths           0.0\n",
      "Unnamed: 0                         0.0\n",
      "Length: 114, dtype: float64\n"
     ]
    }
   ],
   "source": [
    "missing_data = round(data.isnull().sum() / len(data), 2) * 100\n",
    "print(missing_data.sort_values(ascending=False))"
   ]
  },
  {
   "cell_type": "code",
   "execution_count": 22,
   "metadata": {},
   "outputs": [
    {
     "name": "stdout",
     "output_type": "stream",
     "text": [
      "There are 18 columns with missing values.\n"
     ]
    }
   ],
   "source": [
    "missing_columns = data.columns[missing_data > 0]\n",
    "print('There are ' + str(len(missing_columns)) + ' columns with missing values.')"
   ]
  },
  {
   "cell_type": "markdown",
   "metadata": {},
   "source": [
    "Columns descrition based on the data_dictionary: \n",
    "\n",
    "mths_since_last_record         (82%): The number of months since the last public record\n",
    "\n",
    "mths_since_recent_bc_dlq       (76%): Months since most recent bankcard delinquency\n",
    "\n",
    "mths_since_last_major_derog    (72%): Months since most recent 90-day or worse rating\n",
    "\n",
    "mths_since_recent_revol_delinq (65%): Months since most recent revolving delinquency\n",
    "\n",
    "mths_since_last_delinq         (49%): The number of months since the borrower's last delinquency\n",
    "\n",
    "next_pymnt_d                   (39%): Next scheduled payment date\n",
    "\n",
    "il_util                        (14%): Ratio of total current balance to high credit/credit limit on all install acct\n",
    "\n",
    "mths_since_recent_inq          (11%): Months since most recent inquiry\n",
    "\n",
    "emp_title                      ( 7%): The job title supplied by the Borrower when applying for the loan\n",
    "\n",
    "emp_length                     ( 7%): Employment length in years. \n",
    "\n",
    "num_tl_120dpd_2m               ( 5%): Number of accounts currently 120 days past due\n",
    "\n",
    "mths_since_rcnt_il             ( 3%): Months since most recent installment accounts opened\n",
    "\n",
    "mo_sin_old_il_acct             ( 3%): Months since oldest bank installment account opened\n",
    "\n",
    "title                          ( 3%): The loan title provided by the borrower\n",
    "\n",
    "mths_since_recent_bc           ( 1%): Months since most recent bankcard account opened\n",
    "\n",
    "bc_util                        ( 1%): Ratio of total current balance to high credit/credit limit for all bankcard accounts\n",
    "\n",
    "bc_open_to_buy                 ( 1%): Total open to buy on revolving bankcards\n",
    "\n",
    "percent_bc_gt_75               ( 1%): Percentage of all bankcard accounts > 75% of limit"
   ]
  },
  {
   "cell_type": "markdown",
   "metadata": {},
   "source": [
    "__These 18 columns with missing values are worth disccussing whether they are related to the scope of this project.__"
   ]
  },
  {
   "cell_type": "code",
   "execution_count": 23,
   "metadata": {},
   "outputs": [
    {
     "name": "stdout",
     "output_type": "stream",
     "text": [
      "(877986, 106)\n"
     ]
    }
   ],
   "source": [
    "# drop columns with 10% missing data\n",
    "data = data.drop(data.columns[missing_data > 10], axis=1)\n",
    "print(data.shape)"
   ]
  },
  {
   "cell_type": "markdown",
   "metadata": {},
   "source": [
    "So far, we have dropped columns with more than 10% missing values. \n",
    "\n",
    "Now we take a close look at the data with missing values less than 10%. "
   ]
  },
  {
   "cell_type": "markdown",
   "metadata": {},
   "source": [
    "#### 3.1.1 emp_title"
   ]
  },
  {
   "cell_type": "code",
   "execution_count": 24,
   "metadata": {},
   "outputs": [
    {
     "data": {
      "text/plain": [
       "count      817149\n",
       "unique     205587\n",
       "top       Teacher\n",
       "freq        16673\n",
       "Name: emp_title, dtype: object"
      ]
     },
     "execution_count": 24,
     "metadata": {},
     "output_type": "execute_result"
    }
   ],
   "source": [
    "# emp_title statistics\n",
    "data['emp_title'].describe()"
   ]
  },
  {
   "cell_type": "code",
   "execution_count": 25,
   "metadata": {},
   "outputs": [
    {
     "data": {
      "text/plain": [
       "array(['Owner ', nan, 'member service', 'RN SUPERVISOR',\n",
       "       ' utility technician 2'], dtype=object)"
      ]
     },
     "execution_count": 25,
     "metadata": {},
     "output_type": "execute_result"
    }
   ],
   "source": [
    "# look at first five entries of data['emp_title']\n",
    "data['emp_title'].values[:5]"
   ]
  },
  {
   "cell_type": "code",
   "execution_count": 26,
   "metadata": {},
   "outputs": [],
   "source": [
    "# fill the missing value in emp_title with 'missing'\n",
    "data['emp_title'] = data['emp_title'].fillna(value='missing')"
   ]
  },
  {
   "cell_type": "markdown",
   "metadata": {},
   "source": [
    "#### 3.1.2 emp_length "
   ]
  },
  {
   "cell_type": "code",
   "execution_count": 27,
   "metadata": {},
   "outputs": [
    {
     "data": {
      "text/plain": [
       "count        817901\n",
       "unique           11\n",
       "top       10+ years\n",
       "freq         296029\n",
       "Name: emp_length, dtype: object"
      ]
     },
     "execution_count": 27,
     "metadata": {},
     "output_type": "execute_result"
    }
   ],
   "source": [
    "# emp_length statistics\n",
    "data['emp_length'].describe()"
   ]
  },
  {
   "cell_type": "code",
   "execution_count": 28,
   "metadata": {},
   "outputs": [
    {
     "data": {
      "text/plain": [
       "array(['1 year', '10+ years', '2 years', '3 years', '4 years', '5 years',\n",
       "       '6 years', '7 years', '8 years', '9 years', '< 1 year', nan],\n",
       "      dtype=object)"
      ]
     },
     "execution_count": 28,
     "metadata": {},
     "output_type": "execute_result"
    }
   ],
   "source": [
    "# look at unique entries of data['emp_length']\n",
    "data['emp_length'].sort_values().unique()"
   ]
  },
  {
   "cell_type": "code",
   "execution_count": 29,
   "metadata": {},
   "outputs": [],
   "source": [
    "# fill the missing value in emp_length with 0\n",
    "data['emp_length'] = data['emp_length'].fillna(value='other')"
   ]
  },
  {
   "cell_type": "markdown",
   "metadata": {},
   "source": [
    "#### 3.1.3 num_tl_120dpd_2m   "
   ]
  },
  {
   "cell_type": "code",
   "execution_count": 30,
   "metadata": {},
   "outputs": [
    {
     "data": {
      "text/plain": [
       "array([0., 0., 0., 0., 0., 0., 0., 0., 0., 0.])"
      ]
     },
     "execution_count": 30,
     "metadata": {},
     "output_type": "execute_result"
    }
   ],
   "source": [
    "# look at first five entries of data['num_tl_120dpd_2m']\n",
    "data['num_tl_120dpd_2m'].values[:10]"
   ]
  },
  {
   "cell_type": "code",
   "execution_count": 31,
   "metadata": {},
   "outputs": [
    {
     "data": {
      "text/plain": [
       "array([ 0.,  1.,  2.,  3.,  4.,  7., nan])"
      ]
     },
     "execution_count": 31,
     "metadata": {},
     "output_type": "execute_result"
    }
   ],
   "source": [
    "# unique values in num_tl_120dpd_2m\n",
    "data['num_tl_120dpd_2m'].sort_values().unique()"
   ]
  },
  {
   "cell_type": "code",
   "execution_count": 32,
   "metadata": {},
   "outputs": [
    {
     "data": {
      "text/plain": [
       "count    834355.000000\n",
       "mean          0.000888\n",
       "std           0.032186\n",
       "min           0.000000\n",
       "25%           0.000000\n",
       "50%           0.000000\n",
       "75%           0.000000\n",
       "max           7.000000\n",
       "Name: num_tl_120dpd_2m, dtype: float64"
      ]
     },
     "execution_count": 32,
     "metadata": {},
     "output_type": "execute_result"
    }
   ],
   "source": [
    "# num_tl_120dpd_2m statistics\n",
    "data['num_tl_120dpd_2m'].describe()"
   ]
  },
  {
   "cell_type": "code",
   "execution_count": 33,
   "metadata": {},
   "outputs": [],
   "source": [
    "# fill the missing value in num_tl_120dpd_2m with 0\n",
    "data['num_tl_120dpd_2m'] = data['num_tl_120dpd_2m'].fillna(value=0)"
   ]
  },
  {
   "cell_type": "markdown",
   "metadata": {},
   "source": [
    "#### 3.1.4 mths_since_rcnt_il"
   ]
  },
  {
   "cell_type": "code",
   "execution_count": 34,
   "metadata": {},
   "outputs": [
    {
     "data": {
      "text/plain": [
       "array([ 7., 18.,  8., 12., 18., 13., 13.,  6.,  1.,  2.])"
      ]
     },
     "execution_count": 34,
     "metadata": {},
     "output_type": "execute_result"
    }
   ],
   "source": [
    "# look at first ten entries of data['mths_since_rcnt_il']\n",
    "data['mths_since_rcnt_il'].values[:10]"
   ]
  },
  {
   "cell_type": "code",
   "execution_count": 35,
   "metadata": {},
   "outputs": [
    {
     "data": {
      "text/plain": [
       "count    853102.000000\n",
       "mean         21.298049\n",
       "std          26.172225\n",
       "min           0.000000\n",
       "25%           7.000000\n",
       "50%          13.000000\n",
       "75%          24.000000\n",
       "max         511.000000\n",
       "Name: mths_since_rcnt_il, dtype: float64"
      ]
     },
     "execution_count": 35,
     "metadata": {},
     "output_type": "execute_result"
    }
   ],
   "source": [
    "# mths_since_rcnt_il statistics\n",
    "data['mths_since_rcnt_il'].describe()"
   ]
  },
  {
   "cell_type": "code",
   "execution_count": 36,
   "metadata": {},
   "outputs": [],
   "source": [
    "# fill the missing value with the median in mths_since_recent_inq\n",
    "mths_since_recent_inq_median = data['mths_since_rcnt_il'].median()\n",
    "data['mths_since_rcnt_il'] = data['mths_since_rcnt_il'].fillna(value=mths_since_recent_inq_median)"
   ]
  },
  {
   "cell_type": "markdown",
   "metadata": {},
   "source": [
    "#### 3.1.5 mo_sin_old_il_acct"
   ]
  },
  {
   "cell_type": "code",
   "execution_count": 37,
   "metadata": {},
   "outputs": [
    {
     "data": {
      "text/plain": [
       "count    853157.000000\n",
       "mean        125.787449\n",
       "std          53.509897\n",
       "min           0.000000\n",
       "25%          97.000000\n",
       "50%         130.000000\n",
       "75%         154.000000\n",
       "max         999.000000\n",
       "Name: mo_sin_old_il_acct, dtype: float64"
      ]
     },
     "execution_count": 37,
     "metadata": {},
     "output_type": "execute_result"
    }
   ],
   "source": [
    "# mo_sin_old_il_acct statistics\n",
    "data['mo_sin_old_il_acct'].describe()"
   ]
  },
  {
   "cell_type": "code",
   "execution_count": 38,
   "metadata": {},
   "outputs": [],
   "source": [
    "# fill the missing value with the median in mo_sin_old_il_acct\n",
    "mo_sin_old_il_acct_median = data['mo_sin_old_il_acct'].median()\n",
    "data['mo_sin_old_il_acct'] = data['mo_sin_old_il_acct'].fillna(value=mo_sin_old_il_acct_median)"
   ]
  },
  {
   "cell_type": "markdown",
   "metadata": {},
   "source": [
    "#### 3.1.6 title   "
   ]
  },
  {
   "cell_type": "code",
   "execution_count": 39,
   "metadata": {},
   "outputs": [
    {
     "data": {
      "text/plain": [
       "count                 854813\n",
       "unique                    14\n",
       "top       Debt consolidation\n",
       "freq                  479644\n",
       "Name: title, dtype: object"
      ]
     },
     "execution_count": 39,
     "metadata": {},
     "output_type": "execute_result"
    }
   ],
   "source": [
    "# title statistics\n",
    "data['title'].describe()"
   ]
  },
  {
   "cell_type": "code",
   "execution_count": 40,
   "metadata": {},
   "outputs": [
    {
     "data": {
      "text/plain": [
       "array(['Business', 'Car financing', 'Credit Card Consolidation',\n",
       "       'Credit card refinancing', 'Debt consolidation', 'Green loan',\n",
       "       'Home buying', 'Home improvement', 'Learning and training',\n",
       "       'Major purchase', 'Medical expenses', 'Moving and relocation',\n",
       "       'Other', 'Vacation', nan], dtype=object)"
      ]
     },
     "execution_count": 40,
     "metadata": {},
     "output_type": "execute_result"
    }
   ],
   "source": [
    "# unique values in title\n",
    "data['title'].sort_values().unique()"
   ]
  },
  {
   "cell_type": "code",
   "execution_count": 41,
   "metadata": {},
   "outputs": [],
   "source": [
    "# fill the missing value in title with 'missing'\n",
    "data['title'] = data['title'].fillna(value='missing')"
   ]
  },
  {
   "cell_type": "markdown",
   "metadata": {},
   "source": [
    "#### 3.1.7 mths_since_recent_bc"
   ]
  },
  {
   "cell_type": "code",
   "execution_count": 42,
   "metadata": {},
   "outputs": [
    {
     "data": {
      "text/plain": [
       "count    868179.000000\n",
       "mean         24.379527\n",
       "std          32.569366\n",
       "min           0.000000\n",
       "25%           6.000000\n",
       "50%          13.000000\n",
       "75%          29.000000\n",
       "max         656.000000\n",
       "Name: mths_since_recent_bc, dtype: float64"
      ]
     },
     "execution_count": 42,
     "metadata": {},
     "output_type": "execute_result"
    }
   ],
   "source": [
    "# mths_since_recent_bc statistics\n",
    "data['mths_since_recent_bc'].describe()"
   ]
  },
  {
   "cell_type": "code",
   "execution_count": 43,
   "metadata": {},
   "outputs": [],
   "source": [
    "# fill the missing value with the median in mths_since_recent_bc\n",
    "mths_since_recent_bc_median = data['mths_since_recent_bc'].median()\n",
    "data['mths_since_recent_bc'] = data['mths_since_recent_bc'].fillna(value=mths_since_recent_bc_median)"
   ]
  },
  {
   "cell_type": "markdown",
   "metadata": {},
   "source": [
    "#### 3.1.8 bc_util"
   ]
  },
  {
   "cell_type": "code",
   "execution_count": 44,
   "metadata": {},
   "outputs": [
    {
     "data": {
      "text/plain": [
       "count    867203.000000\n",
       "mean         56.683403\n",
       "std          28.542247\n",
       "min           0.000000\n",
       "25%          34.000000\n",
       "50%          58.200000\n",
       "75%          81.800000\n",
       "max         252.300000\n",
       "Name: bc_util, dtype: float64"
      ]
     },
     "execution_count": 44,
     "metadata": {},
     "output_type": "execute_result"
    }
   ],
   "source": [
    "# bc_util statistics\n",
    "data['bc_util'].describe()"
   ]
  },
  {
   "cell_type": "code",
   "execution_count": 45,
   "metadata": {},
   "outputs": [],
   "source": [
    "# fill the missing value with the median in bc_util\n",
    "bc_util_median = data['bc_util'].median()\n",
    "data['bc_util'] = data['bc_util'].fillna(value=bc_util_median)"
   ]
  },
  {
   "cell_type": "markdown",
   "metadata": {},
   "source": [
    "#### 3.1.9 bc_open_to_buy"
   ]
  },
  {
   "cell_type": "code",
   "execution_count": 46,
   "metadata": {},
   "outputs": [
    {
     "data": {
      "text/plain": [
       "count    867607.000000\n",
       "mean      11611.298961\n",
       "std       16634.741515\n",
       "min           0.000000\n",
       "25%        1908.000000\n",
       "50%        5768.000000\n",
       "75%       14466.000000\n",
       "max      711140.000000\n",
       "Name: bc_open_to_buy, dtype: float64"
      ]
     },
     "execution_count": 46,
     "metadata": {},
     "output_type": "execute_result"
    }
   ],
   "source": [
    "# bc_open_to_buy statistics\n",
    "data['bc_open_to_buy'].describe()"
   ]
  },
  {
   "cell_type": "code",
   "execution_count": 47,
   "metadata": {},
   "outputs": [],
   "source": [
    "# fill the missing value with the median in percent_bc_gt_75\n",
    "bc_open_to_buy_median = data['bc_open_to_buy'].median()\n",
    "data['bc_open_to_buy'] = data['bc_open_to_buy'].fillna(value=bc_open_to_buy_median)  "
   ]
  },
  {
   "cell_type": "markdown",
   "metadata": {},
   "source": [
    "#### 3.1.10 percent_bc_gt_75  "
   ]
  },
  {
   "cell_type": "code",
   "execution_count": 48,
   "metadata": {},
   "outputs": [
    {
     "data": {
      "text/plain": [
       "count    867562.000000\n",
       "mean         40.827452\n",
       "std          36.190550\n",
       "min           0.000000\n",
       "25%           0.000000\n",
       "50%          33.300000\n",
       "75%          66.700000\n",
       "max         100.000000\n",
       "Name: percent_bc_gt_75, dtype: float64"
      ]
     },
     "execution_count": 48,
     "metadata": {},
     "output_type": "execute_result"
    }
   ],
   "source": [
    "# percent_bc_gt_75 statistics\n",
    "data['percent_bc_gt_75'].describe() "
   ]
  },
  {
   "cell_type": "code",
   "execution_count": 49,
   "metadata": {},
   "outputs": [],
   "source": [
    "# fill the missing value with the median in percent_bc_gt_75\n",
    "percent_bc_gt_75_median = data['percent_bc_gt_75'].median()\n",
    "data['percent_bc_gt_75'] = data['percent_bc_gt_75'].fillna(value=percent_bc_gt_75_median)  "
   ]
  },
  {
   "cell_type": "code",
   "execution_count": 50,
   "metadata": {},
   "outputs": [
    {
     "name": "stdout",
     "output_type": "stream",
     "text": [
      "missing value = 3268\n"
     ]
    }
   ],
   "source": [
    "# total missing values\n",
    "print ('missing value =', data.isnull().sum().sum())"
   ]
  },
  {
   "cell_type": "code",
   "execution_count": 51,
   "metadata": {},
   "outputs": [
    {
     "name": "stdout",
     "output_type": "stream",
     "text": [
      "missing value = last_pymnt_d             1117\n",
      "revol_util                708\n",
      "dti                       577\n",
      "all_util                  151\n",
      "inq_last_12m               62\n",
      "                         ... \n",
      "mo_sin_rcnt_rev_tl_op       0\n",
      "mo_sin_rcnt_tl              0\n",
      "mort_acc                    0\n",
      "mths_since_recent_bc        0\n",
      "Unnamed: 0                  0\n",
      "Length: 106, dtype: int64\n"
     ]
    }
   ],
   "source": [
    "# total missing values\n",
    "print ('missing value =', data.isnull().sum().sort_values(ascending=False))"
   ]
  },
  {
   "cell_type": "code",
   "execution_count": 52,
   "metadata": {},
   "outputs": [
    {
     "name": "stdout",
     "output_type": "stream",
     "text": [
      "last_pymnt_d             0.127223\n",
      "revol_util               0.080639\n",
      "dti                      0.065719\n",
      "all_util                 0.017198\n",
      "inq_last_12m             0.007062\n",
      "                           ...   \n",
      "mo_sin_rcnt_rev_tl_op    0.000000\n",
      "mo_sin_rcnt_tl           0.000000\n",
      "mort_acc                 0.000000\n",
      "mths_since_recent_bc     0.000000\n",
      "Unnamed: 0               0.000000\n",
      "Length: 106, dtype: float64\n"
     ]
    }
   ],
   "source": [
    "# missing ratio\n",
    "missing_data = round(data.isnull().sum() / len(data), 10) * 100\n",
    "print(missing_data.sort_values(ascending=False))"
   ]
  },
  {
   "cell_type": "code",
   "execution_count": 53,
   "metadata": {},
   "outputs": [],
   "source": [
    "# fill the missing value with the median in dti \n",
    "dti_median = data['dti'].median()\n",
    "data['dti'] = data['dti'].fillna(value=dti_median)"
   ]
  },
  {
   "cell_type": "markdown",
   "metadata": {},
   "source": [
    "We have cleaned missing data in the dataset. \n",
    "\n",
    "Next, we will take a look at the data types and its format."
   ]
  },
  {
   "cell_type": "markdown",
   "metadata": {},
   "source": [
    "### Part 3.2: Data Type"
   ]
  },
  {
   "cell_type": "code",
   "execution_count": 54,
   "metadata": {},
   "outputs": [
    {
     "name": "stdout",
     "output_type": "stream",
     "text": [
      "<class 'pandas.core.frame.DataFrame'>\n",
      "Int64Index: 877986 entries, 0 to 105450\n",
      "Columns: 106 entries, Unnamed: 0 to debt_settlement_flag\n",
      "dtypes: float64(36), int64(45), object(25)\n",
      "memory usage: 716.7+ MB\n"
     ]
    }
   ],
   "source": [
    "data.info()"
   ]
  },
  {
   "cell_type": "code",
   "execution_count": 55,
   "metadata": {},
   "outputs": [
    {
     "data": {
      "text/plain": [
       "Unnamed: 0                      int64\n",
       "id                              int64\n",
       "loan_amnt                       int64\n",
       "funded_amnt                     int64\n",
       "funded_amnt_inv               float64\n",
       "                               ...   \n",
       "total_bc_limit                  int64\n",
       "total_il_high_credit_limit      int64\n",
       "hardship_flag                  object\n",
       "disbursement_method            object\n",
       "debt_settlement_flag           object\n",
       "Length: 106, dtype: object"
      ]
     },
     "execution_count": 55,
     "metadata": {},
     "output_type": "execute_result"
    }
   ],
   "source": [
    "data.dtypes"
   ]
  },
  {
   "cell_type": "code",
   "execution_count": 56,
   "metadata": {},
   "outputs": [
    {
     "data": {
      "text/html": [
       "<div>\n",
       "<style scoped>\n",
       "    .dataframe tbody tr th:only-of-type {\n",
       "        vertical-align: middle;\n",
       "    }\n",
       "\n",
       "    .dataframe tbody tr th {\n",
       "        vertical-align: top;\n",
       "    }\n",
       "\n",
       "    .dataframe thead th {\n",
       "        text-align: right;\n",
       "    }\n",
       "</style>\n",
       "<table border=\"1\" class=\"dataframe\">\n",
       "  <thead>\n",
       "    <tr style=\"text-align: right;\">\n",
       "      <th></th>\n",
       "      <th>term</th>\n",
       "      <th>int_rate</th>\n",
       "      <th>grade</th>\n",
       "      <th>sub_grade</th>\n",
       "      <th>emp_title</th>\n",
       "      <th>emp_length</th>\n",
       "      <th>home_ownership</th>\n",
       "      <th>verification_status</th>\n",
       "      <th>issue_d</th>\n",
       "      <th>loan_status</th>\n",
       "      <th>...</th>\n",
       "      <th>addr_state</th>\n",
       "      <th>earliest_cr_line</th>\n",
       "      <th>revol_util</th>\n",
       "      <th>initial_list_status</th>\n",
       "      <th>last_pymnt_d</th>\n",
       "      <th>last_credit_pull_d</th>\n",
       "      <th>application_type</th>\n",
       "      <th>hardship_flag</th>\n",
       "      <th>disbursement_method</th>\n",
       "      <th>debt_settlement_flag</th>\n",
       "    </tr>\n",
       "  </thead>\n",
       "  <tbody>\n",
       "    <tr>\n",
       "      <td>0</td>\n",
       "      <td>36 months</td>\n",
       "      <td>14.49%</td>\n",
       "      <td>C</td>\n",
       "      <td>C4</td>\n",
       "      <td>Owner</td>\n",
       "      <td>10+ years</td>\n",
       "      <td>RENT</td>\n",
       "      <td>Not Verified</td>\n",
       "      <td>Sep-16</td>\n",
       "      <td>Current</td>\n",
       "      <td>...</td>\n",
       "      <td>IN</td>\n",
       "      <td>Mar-96</td>\n",
       "      <td>37.70%</td>\n",
       "      <td>w</td>\n",
       "      <td>Oct-18</td>\n",
       "      <td>Oct-18</td>\n",
       "      <td>Individual</td>\n",
       "      <td>N</td>\n",
       "      <td>Cash</td>\n",
       "      <td>N</td>\n",
       "    </tr>\n",
       "    <tr>\n",
       "      <td>1</td>\n",
       "      <td>36 months</td>\n",
       "      <td>5.32%</td>\n",
       "      <td>A</td>\n",
       "      <td>A1</td>\n",
       "      <td>missing</td>\n",
       "      <td>other</td>\n",
       "      <td>MORTGAGE</td>\n",
       "      <td>Not Verified</td>\n",
       "      <td>Sep-16</td>\n",
       "      <td>Fully Paid</td>\n",
       "      <td>...</td>\n",
       "      <td>FL</td>\n",
       "      <td>Apr-86</td>\n",
       "      <td>11.90%</td>\n",
       "      <td>f</td>\n",
       "      <td>Apr-17</td>\n",
       "      <td>Oct-18</td>\n",
       "      <td>Individual</td>\n",
       "      <td>N</td>\n",
       "      <td>Cash</td>\n",
       "      <td>N</td>\n",
       "    </tr>\n",
       "    <tr>\n",
       "      <td>2</td>\n",
       "      <td>36 months</td>\n",
       "      <td>13.99%</td>\n",
       "      <td>C</td>\n",
       "      <td>C3</td>\n",
       "      <td>member service</td>\n",
       "      <td>10+ years</td>\n",
       "      <td>MORTGAGE</td>\n",
       "      <td>Source Verified</td>\n",
       "      <td>Sep-16</td>\n",
       "      <td>Charged Off</td>\n",
       "      <td>...</td>\n",
       "      <td>TX</td>\n",
       "      <td>Sep-03</td>\n",
       "      <td>92.60%</td>\n",
       "      <td>w</td>\n",
       "      <td>Mar-17</td>\n",
       "      <td>Aug-18</td>\n",
       "      <td>Individual</td>\n",
       "      <td>N</td>\n",
       "      <td>Cash</td>\n",
       "      <td>Y</td>\n",
       "    </tr>\n",
       "    <tr>\n",
       "      <td>3</td>\n",
       "      <td>36 months</td>\n",
       "      <td>7.59%</td>\n",
       "      <td>A</td>\n",
       "      <td>A3</td>\n",
       "      <td>RN SUPERVISOR</td>\n",
       "      <td>4 years</td>\n",
       "      <td>MORTGAGE</td>\n",
       "      <td>Source Verified</td>\n",
       "      <td>Sep-16</td>\n",
       "      <td>Current</td>\n",
       "      <td>...</td>\n",
       "      <td>NC</td>\n",
       "      <td>Oct-77</td>\n",
       "      <td>61.50%</td>\n",
       "      <td>f</td>\n",
       "      <td>Oct-18</td>\n",
       "      <td>Oct-18</td>\n",
       "      <td>Individual</td>\n",
       "      <td>N</td>\n",
       "      <td>Cash</td>\n",
       "      <td>N</td>\n",
       "    </tr>\n",
       "    <tr>\n",
       "      <td>4</td>\n",
       "      <td>60 months</td>\n",
       "      <td>14.49%</td>\n",
       "      <td>C</td>\n",
       "      <td>C4</td>\n",
       "      <td>utility technician 2</td>\n",
       "      <td>10+ years</td>\n",
       "      <td>RENT</td>\n",
       "      <td>Not Verified</td>\n",
       "      <td>Sep-16</td>\n",
       "      <td>Charged Off</td>\n",
       "      <td>...</td>\n",
       "      <td>IL</td>\n",
       "      <td>Apr-08</td>\n",
       "      <td>46.90%</td>\n",
       "      <td>w</td>\n",
       "      <td>Nov-17</td>\n",
       "      <td>Oct-18</td>\n",
       "      <td>Individual</td>\n",
       "      <td>N</td>\n",
       "      <td>Cash</td>\n",
       "      <td>N</td>\n",
       "    </tr>\n",
       "    <tr>\n",
       "      <td>...</td>\n",
       "      <td>...</td>\n",
       "      <td>...</td>\n",
       "      <td>...</td>\n",
       "      <td>...</td>\n",
       "      <td>...</td>\n",
       "      <td>...</td>\n",
       "      <td>...</td>\n",
       "      <td>...</td>\n",
       "      <td>...</td>\n",
       "      <td>...</td>\n",
       "      <td>...</td>\n",
       "      <td>...</td>\n",
       "      <td>...</td>\n",
       "      <td>...</td>\n",
       "      <td>...</td>\n",
       "      <td>...</td>\n",
       "      <td>...</td>\n",
       "      <td>...</td>\n",
       "      <td>...</td>\n",
       "      <td>...</td>\n",
       "      <td>...</td>\n",
       "    </tr>\n",
       "    <tr>\n",
       "      <td>105446</td>\n",
       "      <td>60 months</td>\n",
       "      <td>23.99%</td>\n",
       "      <td>E</td>\n",
       "      <td>E2</td>\n",
       "      <td>Senior Escrow Officer</td>\n",
       "      <td>&lt; 1 year</td>\n",
       "      <td>RENT</td>\n",
       "      <td>Source Verified</td>\n",
       "      <td>Apr-17</td>\n",
       "      <td>Charged Off</td>\n",
       "      <td>...</td>\n",
       "      <td>CO</td>\n",
       "      <td>Apr-95</td>\n",
       "      <td>24.90%</td>\n",
       "      <td>f</td>\n",
       "      <td>Mar-18</td>\n",
       "      <td>Oct-18</td>\n",
       "      <td>Individual</td>\n",
       "      <td>N</td>\n",
       "      <td>Cash</td>\n",
       "      <td>N</td>\n",
       "    </tr>\n",
       "    <tr>\n",
       "      <td>105447</td>\n",
       "      <td>36 months</td>\n",
       "      <td>7.99%</td>\n",
       "      <td>A</td>\n",
       "      <td>A5</td>\n",
       "      <td>Rn</td>\n",
       "      <td>10+ years</td>\n",
       "      <td>MORTGAGE</td>\n",
       "      <td>Source Verified</td>\n",
       "      <td>Apr-17</td>\n",
       "      <td>Current</td>\n",
       "      <td>...</td>\n",
       "      <td>PA</td>\n",
       "      <td>Sep-93</td>\n",
       "      <td>15.70%</td>\n",
       "      <td>w</td>\n",
       "      <td>Oct-18</td>\n",
       "      <td>Oct-18</td>\n",
       "      <td>Individual</td>\n",
       "      <td>N</td>\n",
       "      <td>Cash</td>\n",
       "      <td>N</td>\n",
       "    </tr>\n",
       "    <tr>\n",
       "      <td>105448</td>\n",
       "      <td>36 months</td>\n",
       "      <td>16.99%</td>\n",
       "      <td>D</td>\n",
       "      <td>D1</td>\n",
       "      <td>Sales Associate</td>\n",
       "      <td>8 years</td>\n",
       "      <td>RENT</td>\n",
       "      <td>Not Verified</td>\n",
       "      <td>Apr-17</td>\n",
       "      <td>Current</td>\n",
       "      <td>...</td>\n",
       "      <td>VA</td>\n",
       "      <td>May-93</td>\n",
       "      <td>47%</td>\n",
       "      <td>w</td>\n",
       "      <td>Sep-18</td>\n",
       "      <td>Oct-18</td>\n",
       "      <td>Individual</td>\n",
       "      <td>N</td>\n",
       "      <td>Cash</td>\n",
       "      <td>N</td>\n",
       "    </tr>\n",
       "    <tr>\n",
       "      <td>105449</td>\n",
       "      <td>36 months</td>\n",
       "      <td>11.44%</td>\n",
       "      <td>B</td>\n",
       "      <td>B4</td>\n",
       "      <td>Contact input</td>\n",
       "      <td>5 years</td>\n",
       "      <td>RENT</td>\n",
       "      <td>Source Verified</td>\n",
       "      <td>Apr-17</td>\n",
       "      <td>Current</td>\n",
       "      <td>...</td>\n",
       "      <td>NY</td>\n",
       "      <td>May-90</td>\n",
       "      <td>10.10%</td>\n",
       "      <td>w</td>\n",
       "      <td>Sep-18</td>\n",
       "      <td>Oct-18</td>\n",
       "      <td>Individual</td>\n",
       "      <td>N</td>\n",
       "      <td>Cash</td>\n",
       "      <td>N</td>\n",
       "    </tr>\n",
       "    <tr>\n",
       "      <td>105450</td>\n",
       "      <td>60 months</td>\n",
       "      <td>25.49%</td>\n",
       "      <td>E</td>\n",
       "      <td>E4</td>\n",
       "      <td>Assistant Manager</td>\n",
       "      <td>4 years</td>\n",
       "      <td>MORTGAGE</td>\n",
       "      <td>Verified</td>\n",
       "      <td>Apr-17</td>\n",
       "      <td>Charged Off</td>\n",
       "      <td>...</td>\n",
       "      <td>TX</td>\n",
       "      <td>Nov-97</td>\n",
       "      <td>72.60%</td>\n",
       "      <td>w</td>\n",
       "      <td>Oct-17</td>\n",
       "      <td>Nov-17</td>\n",
       "      <td>Individual</td>\n",
       "      <td>N</td>\n",
       "      <td>Cash</td>\n",
       "      <td>N</td>\n",
       "    </tr>\n",
       "  </tbody>\n",
       "</table>\n",
       "<p>877986 rows × 25 columns</p>\n",
       "</div>"
      ],
      "text/plain": [
       "              term int_rate grade sub_grade              emp_title emp_length  \\\n",
       "0        36 months   14.49%     C        C4                 Owner   10+ years   \n",
       "1        36 months    5.32%     A        A1                missing      other   \n",
       "2        36 months   13.99%     C        C3         member service  10+ years   \n",
       "3        36 months    7.59%     A        A3          RN SUPERVISOR    4 years   \n",
       "4        60 months   14.49%     C        C4   utility technician 2  10+ years   \n",
       "...            ...      ...   ...       ...                    ...        ...   \n",
       "105446   60 months   23.99%     E        E2  Senior Escrow Officer   < 1 year   \n",
       "105447   36 months    7.99%     A        A5                     Rn  10+ years   \n",
       "105448   36 months   16.99%     D        D1        Sales Associate    8 years   \n",
       "105449   36 months   11.44%     B        B4          Contact input    5 years   \n",
       "105450   60 months   25.49%     E        E4      Assistant Manager    4 years   \n",
       "\n",
       "       home_ownership verification_status issue_d  loan_status  ...  \\\n",
       "0                RENT        Not Verified  Sep-16      Current  ...   \n",
       "1            MORTGAGE        Not Verified  Sep-16   Fully Paid  ...   \n",
       "2            MORTGAGE     Source Verified  Sep-16  Charged Off  ...   \n",
       "3            MORTGAGE     Source Verified  Sep-16      Current  ...   \n",
       "4                RENT        Not Verified  Sep-16  Charged Off  ...   \n",
       "...               ...                 ...     ...          ...  ...   \n",
       "105446           RENT     Source Verified  Apr-17  Charged Off  ...   \n",
       "105447       MORTGAGE     Source Verified  Apr-17      Current  ...   \n",
       "105448           RENT        Not Verified  Apr-17      Current  ...   \n",
       "105449           RENT     Source Verified  Apr-17      Current  ...   \n",
       "105450       MORTGAGE            Verified  Apr-17  Charged Off  ...   \n",
       "\n",
       "       addr_state earliest_cr_line revol_util initial_list_status  \\\n",
       "0              IN           Mar-96     37.70%                   w   \n",
       "1              FL           Apr-86     11.90%                   f   \n",
       "2              TX           Sep-03     92.60%                   w   \n",
       "3              NC           Oct-77     61.50%                   f   \n",
       "4              IL           Apr-08     46.90%                   w   \n",
       "...           ...              ...        ...                 ...   \n",
       "105446         CO           Apr-95     24.90%                   f   \n",
       "105447         PA           Sep-93     15.70%                   w   \n",
       "105448         VA           May-93        47%                   w   \n",
       "105449         NY           May-90     10.10%                   w   \n",
       "105450         TX           Nov-97     72.60%                   w   \n",
       "\n",
       "       last_pymnt_d last_credit_pull_d application_type hardship_flag  \\\n",
       "0            Oct-18             Oct-18       Individual             N   \n",
       "1            Apr-17             Oct-18       Individual             N   \n",
       "2            Mar-17             Aug-18       Individual             N   \n",
       "3            Oct-18             Oct-18       Individual             N   \n",
       "4            Nov-17             Oct-18       Individual             N   \n",
       "...             ...                ...              ...           ...   \n",
       "105446       Mar-18             Oct-18       Individual             N   \n",
       "105447       Oct-18             Oct-18       Individual             N   \n",
       "105448       Sep-18             Oct-18       Individual             N   \n",
       "105449       Sep-18             Oct-18       Individual             N   \n",
       "105450       Oct-17             Nov-17       Individual             N   \n",
       "\n",
       "       disbursement_method debt_settlement_flag  \n",
       "0                     Cash                    N  \n",
       "1                     Cash                    N  \n",
       "2                     Cash                    Y  \n",
       "3                     Cash                    N  \n",
       "4                     Cash                    N  \n",
       "...                    ...                  ...  \n",
       "105446                Cash                    N  \n",
       "105447                Cash                    N  \n",
       "105448                Cash                    N  \n",
       "105449                Cash                    N  \n",
       "105450                Cash                    N  \n",
       "\n",
       "[877986 rows x 25 columns]"
      ]
     },
     "execution_count": 56,
     "metadata": {},
     "output_type": "execute_result"
    }
   ],
   "source": [
    "data.select_dtypes(include=['object'])"
   ]
  },
  {
   "cell_type": "code",
   "execution_count": 57,
   "metadata": {},
   "outputs": [
    {
     "data": {
      "text/plain": [
       "term                    877986\n",
       "int_rate                877986\n",
       "grade                   877986\n",
       "sub_grade               877986\n",
       "emp_title               877986\n",
       "emp_length              877986\n",
       "home_ownership          877986\n",
       "verification_status     877986\n",
       "issue_d                 877986\n",
       "loan_status             877986\n",
       "pymnt_plan              877986\n",
       "url                     877986\n",
       "purpose                 877986\n",
       "title                   877986\n",
       "zip_code                877985\n",
       "addr_state              877986\n",
       "earliest_cr_line        877986\n",
       "revol_util              877278\n",
       "initial_list_status     877986\n",
       "last_pymnt_d            876869\n",
       "last_credit_pull_d      877965\n",
       "application_type        877986\n",
       "hardship_flag           877986\n",
       "disbursement_method     877986\n",
       "debt_settlement_flag    877986\n",
       "dtype: int64"
      ]
     },
     "execution_count": 57,
     "metadata": {},
     "output_type": "execute_result"
    }
   ],
   "source": [
    "data.select_dtypes(include=['object']).count()"
   ]
  },
  {
   "cell_type": "markdown",
   "metadata": {},
   "source": [
    "#### 3.2.1 term"
   ]
  },
  {
   "cell_type": "code",
   "execution_count": 58,
   "metadata": {},
   "outputs": [
    {
     "data": {
      "text/plain": [
       "count         877986\n",
       "unique             2\n",
       "top        36 months\n",
       "freq          643914\n",
       "Name: term, dtype: object"
      ]
     },
     "execution_count": 58,
     "metadata": {},
     "output_type": "execute_result"
    }
   ],
   "source": [
    "data['term'].describe()"
   ]
  },
  {
   "cell_type": "code",
   "execution_count": 59,
   "metadata": {},
   "outputs": [
    {
     "data": {
      "text/plain": [
       "array([' 36 months', ' 60 months'], dtype=object)"
      ]
     },
     "execution_count": 59,
     "metadata": {},
     "output_type": "execute_result"
    }
   ],
   "source": [
    "data['term'].unique()"
   ]
  },
  {
   "cell_type": "code",
   "execution_count": 60,
   "metadata": {},
   "outputs": [],
   "source": [
    "# remove the heading and trailing whitespaces\n",
    "data['term'] = data['term'].apply(lambda x: x.strip())"
   ]
  },
  {
   "cell_type": "code",
   "execution_count": 61,
   "metadata": {},
   "outputs": [],
   "source": [
    "# encode term into numerical variable\n",
    "term_map = {'36 months': 36, '60 months': 60} \n",
    "data['term'] = data['term'].apply(lambda x: term_map[x])"
   ]
  },
  {
   "cell_type": "code",
   "execution_count": 62,
   "metadata": {},
   "outputs": [
    {
     "data": {
      "text/plain": [
       "0    36\n",
       "0    36\n",
       "0    36\n",
       "0    60\n",
       "0    36\n",
       "0    36\n",
       "0    60\n",
       "0    36\n",
       "Name: term, dtype: int64"
      ]
     },
     "execution_count": 62,
     "metadata": {},
     "output_type": "execute_result"
    }
   ],
   "source": [
    "data['term'][0]"
   ]
  },
  {
   "cell_type": "markdown",
   "metadata": {},
   "source": [
    "#### 3.2.2 emp_title"
   ]
  },
  {
   "cell_type": "code",
   "execution_count": 63,
   "metadata": {},
   "outputs": [
    {
     "data": {
      "text/plain": [
       "count      877986\n",
       "unique     205588\n",
       "top       missing\n",
       "freq        60837\n",
       "Name: emp_title, dtype: object"
      ]
     },
     "execution_count": 63,
     "metadata": {},
     "output_type": "execute_result"
    }
   ],
   "source": [
    "data['emp_title'].describe()"
   ]
  },
  {
   "cell_type": "code",
   "execution_count": 64,
   "metadata": {},
   "outputs": [],
   "source": [
    "# emp_title has to many inputs, we can delete this column.\n",
    "data = data.drop('emp_title', axis=1)"
   ]
  },
  {
   "cell_type": "markdown",
   "metadata": {},
   "source": [
    "#### 3.2.3 emp_length"
   ]
  },
  {
   "cell_type": "code",
   "execution_count": 65,
   "metadata": {},
   "outputs": [
    {
     "data": {
      "text/plain": [
       "array(['10+ years', 'other', '4 years', '3 years', '8 years', '7 years',\n",
       "       '< 1 year', '1 year', '6 years', '2 years', '5 years', '9 years'],\n",
       "      dtype=object)"
      ]
     },
     "execution_count": 65,
     "metadata": {},
     "output_type": "execute_result"
    }
   ],
   "source": [
    "data['emp_length'].unique()"
   ]
  },
  {
   "cell_type": "code",
   "execution_count": 66,
   "metadata": {},
   "outputs": [],
   "source": [
    "# encode emp_length into numerical variable\n",
    "emp_length_map = {'other': 0,\n",
    "                  '< 1 year': 0.5, \n",
    "                  '1 year': 1, \n",
    "                  '2 years': 2, \n",
    "                  '3 years': 3, \n",
    "                  '4 years': 4, \n",
    "                  '5 years': 5, \n",
    "                  '6 years': 6, \n",
    "                  '7 years': 7, \n",
    "                  '8 years': 8, \n",
    "                  '9 years': 9, \n",
    "                  '10+ years': 10}\n",
    "data['emp_length'] = data['emp_length'].apply(lambda x: emp_length_map[x])"
   ]
  },
  {
   "cell_type": "code",
   "execution_count": 67,
   "metadata": {},
   "outputs": [
    {
     "data": {
      "text/plain": [
       "0    10.0\n",
       "0     2.0\n",
       "0    10.0\n",
       "0    10.0\n",
       "0    10.0\n",
       "0     9.0\n",
       "0     7.0\n",
       "0     5.0\n",
       "Name: emp_length, dtype: float64"
      ]
     },
     "execution_count": 67,
     "metadata": {},
     "output_type": "execute_result"
    }
   ],
   "source": [
    "data['emp_length'][0]"
   ]
  },
  {
   "cell_type": "markdown",
   "metadata": {},
   "source": [
    "#### 3.2.4 home_ownership"
   ]
  },
  {
   "cell_type": "code",
   "execution_count": 68,
   "metadata": {},
   "outputs": [
    {
     "data": {
      "text/plain": [
       "count       877986\n",
       "unique           5\n",
       "top       MORTGAGE\n",
       "freq        428639\n",
       "Name: home_ownership, dtype: object"
      ]
     },
     "execution_count": 68,
     "metadata": {},
     "output_type": "execute_result"
    }
   ],
   "source": [
    "data['home_ownership'].describe()"
   ]
  },
  {
   "cell_type": "code",
   "execution_count": 69,
   "metadata": {},
   "outputs": [
    {
     "data": {
      "text/plain": [
       "array(['RENT', 'MORTGAGE', 'OWN', 'ANY', 'NONE'], dtype=object)"
      ]
     },
     "execution_count": 69,
     "metadata": {},
     "output_type": "execute_result"
    }
   ],
   "source": [
    "data['home_ownership'].unique()"
   ]
  },
  {
   "cell_type": "code",
   "execution_count": 70,
   "metadata": {},
   "outputs": [
    {
     "data": {
      "text/plain": [
       "MORTGAGE    428639\n",
       "RENT        343387\n",
       "OWN         105451\n",
       "ANY            505\n",
       "NONE             4\n",
       "Name: home_ownership, dtype: int64"
      ]
     },
     "execution_count": 70,
     "metadata": {},
     "output_type": "execute_result"
    }
   ],
   "source": [
    "data['home_ownership'].value_counts()"
   ]
  },
  {
   "cell_type": "code",
   "execution_count": 71,
   "metadata": {},
   "outputs": [],
   "source": [
    "# combine ANY and NONE type into Other\n",
    "data.loc[data['home_ownership'].isin(['ANY', 'NONE']), 'home_ownership'] = 'Other'"
   ]
  },
  {
   "cell_type": "markdown",
   "metadata": {},
   "source": [
    "#### 3.2.5 int_rate"
   ]
  },
  {
   "cell_type": "code",
   "execution_count": 72,
   "metadata": {
    "scrolled": true
   },
   "outputs": [],
   "source": [
    "# convert int_rate to float\n",
    "data['int_rate'] = data['int_rate'].apply(lambda x: pd.to_numeric(x.split(\"%\")[0]))"
   ]
  },
  {
   "cell_type": "code",
   "execution_count": 73,
   "metadata": {
    "scrolled": true
   },
   "outputs": [
    {
     "data": {
      "text/html": [
       "<div>\n",
       "<style scoped>\n",
       "    .dataframe tbody tr th:only-of-type {\n",
       "        vertical-align: middle;\n",
       "    }\n",
       "\n",
       "    .dataframe tbody tr th {\n",
       "        vertical-align: top;\n",
       "    }\n",
       "\n",
       "    .dataframe thead th {\n",
       "        text-align: right;\n",
       "    }\n",
       "</style>\n",
       "<table border=\"1\" class=\"dataframe\">\n",
       "  <thead>\n",
       "    <tr style=\"text-align: right;\">\n",
       "      <th></th>\n",
       "      <th>funded_amnt_inv</th>\n",
       "      <th>int_rate</th>\n",
       "      <th>installment</th>\n",
       "      <th>emp_length</th>\n",
       "      <th>annual_inc</th>\n",
       "      <th>dti</th>\n",
       "      <th>inq_last_6mths</th>\n",
       "      <th>out_prncp</th>\n",
       "      <th>out_prncp_inv</th>\n",
       "      <th>total_pymnt</th>\n",
       "      <th>...</th>\n",
       "      <th>total_cu_tl</th>\n",
       "      <th>inq_last_12m</th>\n",
       "      <th>avg_cur_bal</th>\n",
       "      <th>bc_open_to_buy</th>\n",
       "      <th>bc_util</th>\n",
       "      <th>mo_sin_old_il_acct</th>\n",
       "      <th>mths_since_recent_bc</th>\n",
       "      <th>num_tl_120dpd_2m</th>\n",
       "      <th>pct_tl_nvr_dlq</th>\n",
       "      <th>percent_bc_gt_75</th>\n",
       "    </tr>\n",
       "  </thead>\n",
       "  <tbody>\n",
       "    <tr>\n",
       "      <td>0</td>\n",
       "      <td>26000.0</td>\n",
       "      <td>14.49</td>\n",
       "      <td>894.82</td>\n",
       "      <td>10.0</td>\n",
       "      <td>108329.0</td>\n",
       "      <td>26.75</td>\n",
       "      <td>1.0</td>\n",
       "      <td>9968.30</td>\n",
       "      <td>9968.30</td>\n",
       "      <td>21523.30000</td>\n",
       "      <td>...</td>\n",
       "      <td>4.0</td>\n",
       "      <td>1.0</td>\n",
       "      <td>2962.0</td>\n",
       "      <td>9097.0</td>\n",
       "      <td>50.0</td>\n",
       "      <td>143.0</td>\n",
       "      <td>6.0</td>\n",
       "      <td>0.0</td>\n",
       "      <td>89.7</td>\n",
       "      <td>20.0</td>\n",
       "    </tr>\n",
       "    <tr>\n",
       "      <td>1</td>\n",
       "      <td>12000.0</td>\n",
       "      <td>5.32</td>\n",
       "      <td>361.38</td>\n",
       "      <td>0.0</td>\n",
       "      <td>75000.0</td>\n",
       "      <td>26.45</td>\n",
       "      <td>0.0</td>\n",
       "      <td>0.00</td>\n",
       "      <td>0.00</td>\n",
       "      <td>12333.41143</td>\n",
       "      <td>...</td>\n",
       "      <td>1.0</td>\n",
       "      <td>0.0</td>\n",
       "      <td>12135.0</td>\n",
       "      <td>133803.0</td>\n",
       "      <td>12.9</td>\n",
       "      <td>130.0</td>\n",
       "      <td>13.0</td>\n",
       "      <td>0.0</td>\n",
       "      <td>100.0</td>\n",
       "      <td>0.0</td>\n",
       "    </tr>\n",
       "    <tr>\n",
       "      <td>2</td>\n",
       "      <td>3000.0</td>\n",
       "      <td>13.99</td>\n",
       "      <td>102.52</td>\n",
       "      <td>10.0</td>\n",
       "      <td>56000.0</td>\n",
       "      <td>21.80</td>\n",
       "      <td>1.0</td>\n",
       "      <td>0.00</td>\n",
       "      <td>0.00</td>\n",
       "      <td>1778.75000</td>\n",
       "      <td>...</td>\n",
       "      <td>0.0</td>\n",
       "      <td>4.0</td>\n",
       "      <td>12467.0</td>\n",
       "      <td>330.0</td>\n",
       "      <td>87.8</td>\n",
       "      <td>34.0</td>\n",
       "      <td>29.0</td>\n",
       "      <td>0.0</td>\n",
       "      <td>100.0</td>\n",
       "      <td>100.0</td>\n",
       "    </tr>\n",
       "    <tr>\n",
       "      <td>3</td>\n",
       "      <td>8000.0</td>\n",
       "      <td>7.59</td>\n",
       "      <td>249.19</td>\n",
       "      <td>4.0</td>\n",
       "      <td>110000.0</td>\n",
       "      <td>18.99</td>\n",
       "      <td>0.0</td>\n",
       "      <td>2206.31</td>\n",
       "      <td>2206.31</td>\n",
       "      <td>6594.62000</td>\n",
       "      <td>...</td>\n",
       "      <td>1.0</td>\n",
       "      <td>0.0</td>\n",
       "      <td>12897.0</td>\n",
       "      <td>14032.0</td>\n",
       "      <td>75.1</td>\n",
       "      <td>156.0</td>\n",
       "      <td>9.0</td>\n",
       "      <td>0.0</td>\n",
       "      <td>89.6</td>\n",
       "      <td>63.6</td>\n",
       "    </tr>\n",
       "    <tr>\n",
       "      <td>4</td>\n",
       "      <td>18000.0</td>\n",
       "      <td>14.49</td>\n",
       "      <td>423.42</td>\n",
       "      <td>10.0</td>\n",
       "      <td>75000.0</td>\n",
       "      <td>8.46</td>\n",
       "      <td>0.0</td>\n",
       "      <td>0.00</td>\n",
       "      <td>0.00</td>\n",
       "      <td>5475.48000</td>\n",
       "      <td>...</td>\n",
       "      <td>0.0</td>\n",
       "      <td>0.0</td>\n",
       "      <td>3161.0</td>\n",
       "      <td>7012.0</td>\n",
       "      <td>44.8</td>\n",
       "      <td>101.0</td>\n",
       "      <td>19.0</td>\n",
       "      <td>0.0</td>\n",
       "      <td>85.7</td>\n",
       "      <td>0.0</td>\n",
       "    </tr>\n",
       "    <tr>\n",
       "      <td>...</td>\n",
       "      <td>...</td>\n",
       "      <td>...</td>\n",
       "      <td>...</td>\n",
       "      <td>...</td>\n",
       "      <td>...</td>\n",
       "      <td>...</td>\n",
       "      <td>...</td>\n",
       "      <td>...</td>\n",
       "      <td>...</td>\n",
       "      <td>...</td>\n",
       "      <td>...</td>\n",
       "      <td>...</td>\n",
       "      <td>...</td>\n",
       "      <td>...</td>\n",
       "      <td>...</td>\n",
       "      <td>...</td>\n",
       "      <td>...</td>\n",
       "      <td>...</td>\n",
       "      <td>...</td>\n",
       "      <td>...</td>\n",
       "      <td>...</td>\n",
       "    </tr>\n",
       "    <tr>\n",
       "      <td>105446</td>\n",
       "      <td>24000.0</td>\n",
       "      <td>23.99</td>\n",
       "      <td>690.30</td>\n",
       "      <td>0.5</td>\n",
       "      <td>107000.0</td>\n",
       "      <td>11.65</td>\n",
       "      <td>1.0</td>\n",
       "      <td>0.00</td>\n",
       "      <td>0.00</td>\n",
       "      <td>7749.83000</td>\n",
       "      <td>...</td>\n",
       "      <td>0.0</td>\n",
       "      <td>2.0</td>\n",
       "      <td>5528.0</td>\n",
       "      <td>20859.0</td>\n",
       "      <td>26.0</td>\n",
       "      <td>90.0</td>\n",
       "      <td>18.0</td>\n",
       "      <td>0.0</td>\n",
       "      <td>87.5</td>\n",
       "      <td>0.0</td>\n",
       "    </tr>\n",
       "    <tr>\n",
       "      <td>105447</td>\n",
       "      <td>10000.0</td>\n",
       "      <td>7.99</td>\n",
       "      <td>313.32</td>\n",
       "      <td>10.0</td>\n",
       "      <td>65000.0</td>\n",
       "      <td>19.55</td>\n",
       "      <td>0.0</td>\n",
       "      <td>5298.47</td>\n",
       "      <td>5298.47</td>\n",
       "      <td>5635.32000</td>\n",
       "      <td>...</td>\n",
       "      <td>0.0</td>\n",
       "      <td>0.0</td>\n",
       "      <td>3724.0</td>\n",
       "      <td>26229.0</td>\n",
       "      <td>24.6</td>\n",
       "      <td>154.0</td>\n",
       "      <td>1.0</td>\n",
       "      <td>0.0</td>\n",
       "      <td>92.6</td>\n",
       "      <td>14.3</td>\n",
       "    </tr>\n",
       "    <tr>\n",
       "      <td>105448</td>\n",
       "      <td>10050.0</td>\n",
       "      <td>16.99</td>\n",
       "      <td>358.26</td>\n",
       "      <td>8.0</td>\n",
       "      <td>37000.0</td>\n",
       "      <td>20.56</td>\n",
       "      <td>1.0</td>\n",
       "      <td>5931.72</td>\n",
       "      <td>5931.72</td>\n",
       "      <td>6080.93000</td>\n",
       "      <td>...</td>\n",
       "      <td>0.0</td>\n",
       "      <td>1.0</td>\n",
       "      <td>1021.0</td>\n",
       "      <td>3054.0</td>\n",
       "      <td>66.1</td>\n",
       "      <td>129.0</td>\n",
       "      <td>6.0</td>\n",
       "      <td>0.0</td>\n",
       "      <td>95.2</td>\n",
       "      <td>0.0</td>\n",
       "    </tr>\n",
       "    <tr>\n",
       "      <td>105449</td>\n",
       "      <td>6000.0</td>\n",
       "      <td>11.44</td>\n",
       "      <td>197.69</td>\n",
       "      <td>5.0</td>\n",
       "      <td>41000.0</td>\n",
       "      <td>19.99</td>\n",
       "      <td>0.0</td>\n",
       "      <td>3420.53</td>\n",
       "      <td>3420.53</td>\n",
       "      <td>3366.46000</td>\n",
       "      <td>...</td>\n",
       "      <td>0.0</td>\n",
       "      <td>3.0</td>\n",
       "      <td>3275.0</td>\n",
       "      <td>7651.0</td>\n",
       "      <td>5.5</td>\n",
       "      <td>209.0</td>\n",
       "      <td>32.0</td>\n",
       "      <td>0.0</td>\n",
       "      <td>94.4</td>\n",
       "      <td>0.0</td>\n",
       "    </tr>\n",
       "    <tr>\n",
       "      <td>105450</td>\n",
       "      <td>30000.0</td>\n",
       "      <td>25.49</td>\n",
       "      <td>889.18</td>\n",
       "      <td>4.0</td>\n",
       "      <td>105700.0</td>\n",
       "      <td>27.26</td>\n",
       "      <td>0.0</td>\n",
       "      <td>0.00</td>\n",
       "      <td>0.00</td>\n",
       "      <td>5490.06000</td>\n",
       "      <td>...</td>\n",
       "      <td>0.0</td>\n",
       "      <td>1.0</td>\n",
       "      <td>19955.0</td>\n",
       "      <td>3107.0</td>\n",
       "      <td>80.6</td>\n",
       "      <td>186.0</td>\n",
       "      <td>42.0</td>\n",
       "      <td>0.0</td>\n",
       "      <td>91.3</td>\n",
       "      <td>66.7</td>\n",
       "    </tr>\n",
       "  </tbody>\n",
       "</table>\n",
       "<p>877986 rows × 38 columns</p>\n",
       "</div>"
      ],
      "text/plain": [
       "        funded_amnt_inv  int_rate  installment  emp_length  annual_inc    dti  \\\n",
       "0               26000.0     14.49       894.82        10.0    108329.0  26.75   \n",
       "1               12000.0      5.32       361.38         0.0     75000.0  26.45   \n",
       "2                3000.0     13.99       102.52        10.0     56000.0  21.80   \n",
       "3                8000.0      7.59       249.19         4.0    110000.0  18.99   \n",
       "4               18000.0     14.49       423.42        10.0     75000.0   8.46   \n",
       "...                 ...       ...          ...         ...         ...    ...   \n",
       "105446          24000.0     23.99       690.30         0.5    107000.0  11.65   \n",
       "105447          10000.0      7.99       313.32        10.0     65000.0  19.55   \n",
       "105448          10050.0     16.99       358.26         8.0     37000.0  20.56   \n",
       "105449           6000.0     11.44       197.69         5.0     41000.0  19.99   \n",
       "105450          30000.0     25.49       889.18         4.0    105700.0  27.26   \n",
       "\n",
       "        inq_last_6mths  out_prncp  out_prncp_inv  total_pymnt  ...  \\\n",
       "0                  1.0    9968.30        9968.30  21523.30000  ...   \n",
       "1                  0.0       0.00           0.00  12333.41143  ...   \n",
       "2                  1.0       0.00           0.00   1778.75000  ...   \n",
       "3                  0.0    2206.31        2206.31   6594.62000  ...   \n",
       "4                  0.0       0.00           0.00   5475.48000  ...   \n",
       "...                ...        ...            ...          ...  ...   \n",
       "105446             1.0       0.00           0.00   7749.83000  ...   \n",
       "105447             0.0    5298.47        5298.47   5635.32000  ...   \n",
       "105448             1.0    5931.72        5931.72   6080.93000  ...   \n",
       "105449             0.0    3420.53        3420.53   3366.46000  ...   \n",
       "105450             0.0       0.00           0.00   5490.06000  ...   \n",
       "\n",
       "        total_cu_tl  inq_last_12m  avg_cur_bal  bc_open_to_buy  bc_util  \\\n",
       "0               4.0           1.0       2962.0          9097.0     50.0   \n",
       "1               1.0           0.0      12135.0        133803.0     12.9   \n",
       "2               0.0           4.0      12467.0           330.0     87.8   \n",
       "3               1.0           0.0      12897.0         14032.0     75.1   \n",
       "4               0.0           0.0       3161.0          7012.0     44.8   \n",
       "...             ...           ...          ...             ...      ...   \n",
       "105446          0.0           2.0       5528.0         20859.0     26.0   \n",
       "105447          0.0           0.0       3724.0         26229.0     24.6   \n",
       "105448          0.0           1.0       1021.0          3054.0     66.1   \n",
       "105449          0.0           3.0       3275.0          7651.0      5.5   \n",
       "105450          0.0           1.0      19955.0          3107.0     80.6   \n",
       "\n",
       "        mo_sin_old_il_acct  mths_since_recent_bc  num_tl_120dpd_2m  \\\n",
       "0                    143.0                   6.0               0.0   \n",
       "1                    130.0                  13.0               0.0   \n",
       "2                     34.0                  29.0               0.0   \n",
       "3                    156.0                   9.0               0.0   \n",
       "4                    101.0                  19.0               0.0   \n",
       "...                    ...                   ...               ...   \n",
       "105446                90.0                  18.0               0.0   \n",
       "105447               154.0                   1.0               0.0   \n",
       "105448               129.0                   6.0               0.0   \n",
       "105449               209.0                  32.0               0.0   \n",
       "105450               186.0                  42.0               0.0   \n",
       "\n",
       "        pct_tl_nvr_dlq  percent_bc_gt_75  \n",
       "0                 89.7              20.0  \n",
       "1                100.0               0.0  \n",
       "2                100.0             100.0  \n",
       "3                 89.6              63.6  \n",
       "4                 85.7               0.0  \n",
       "...                ...               ...  \n",
       "105446            87.5               0.0  \n",
       "105447            92.6              14.3  \n",
       "105448            95.2               0.0  \n",
       "105449            94.4               0.0  \n",
       "105450            91.3              66.7  \n",
       "\n",
       "[877986 rows x 38 columns]"
      ]
     },
     "execution_count": 73,
     "metadata": {},
     "output_type": "execute_result"
    }
   ],
   "source": [
    "data.select_dtypes(include=['float'])"
   ]
  },
  {
   "cell_type": "code",
   "execution_count": 74,
   "metadata": {
    "scrolled": true
   },
   "outputs": [
    {
     "data": {
      "text/html": [
       "<div>\n",
       "<style scoped>\n",
       "    .dataframe tbody tr th:only-of-type {\n",
       "        vertical-align: middle;\n",
       "    }\n",
       "\n",
       "    .dataframe tbody tr th {\n",
       "        vertical-align: top;\n",
       "    }\n",
       "\n",
       "    .dataframe thead th {\n",
       "        text-align: right;\n",
       "    }\n",
       "</style>\n",
       "<table border=\"1\" class=\"dataframe\">\n",
       "  <thead>\n",
       "    <tr style=\"text-align: right;\">\n",
       "      <th></th>\n",
       "      <th>Unnamed: 0</th>\n",
       "      <th>id</th>\n",
       "      <th>loan_amnt</th>\n",
       "      <th>funded_amnt</th>\n",
       "      <th>term</th>\n",
       "      <th>delinq_2yrs</th>\n",
       "      <th>fico_range_low</th>\n",
       "      <th>fico_range_high</th>\n",
       "      <th>open_acc</th>\n",
       "      <th>pub_rec</th>\n",
       "      <th>...</th>\n",
       "      <th>num_sats</th>\n",
       "      <th>num_tl_30dpd</th>\n",
       "      <th>num_tl_90g_dpd_24m</th>\n",
       "      <th>num_tl_op_past_12m</th>\n",
       "      <th>pub_rec_bankruptcies</th>\n",
       "      <th>tax_liens</th>\n",
       "      <th>tot_hi_cred_lim</th>\n",
       "      <th>total_bal_ex_mort</th>\n",
       "      <th>total_bc_limit</th>\n",
       "      <th>total_il_high_credit_limit</th>\n",
       "    </tr>\n",
       "  </thead>\n",
       "  <tbody>\n",
       "    <tr>\n",
       "      <td>0</td>\n",
       "      <td>0</td>\n",
       "      <td>90217342</td>\n",
       "      <td>26000</td>\n",
       "      <td>26000</td>\n",
       "      <td>36</td>\n",
       "      <td>1</td>\n",
       "      <td>695</td>\n",
       "      <td>699</td>\n",
       "      <td>21</td>\n",
       "      <td>0</td>\n",
       "      <td>...</td>\n",
       "      <td>21</td>\n",
       "      <td>0</td>\n",
       "      <td>0</td>\n",
       "      <td>4</td>\n",
       "      <td>0</td>\n",
       "      <td>0</td>\n",
       "      <td>126593</td>\n",
       "      <td>56283</td>\n",
       "      <td>18200</td>\n",
       "      <td>93993</td>\n",
       "    </tr>\n",
       "    <tr>\n",
       "      <td>1</td>\n",
       "      <td>1</td>\n",
       "      <td>89996652</td>\n",
       "      <td>12000</td>\n",
       "      <td>12000</td>\n",
       "      <td>36</td>\n",
       "      <td>0</td>\n",
       "      <td>795</td>\n",
       "      <td>799</td>\n",
       "      <td>20</td>\n",
       "      <td>0</td>\n",
       "      <td>...</td>\n",
       "      <td>20</td>\n",
       "      <td>0</td>\n",
       "      <td>0</td>\n",
       "      <td>0</td>\n",
       "      <td>0</td>\n",
       "      <td>0</td>\n",
       "      <td>486000</td>\n",
       "      <td>37584</td>\n",
       "      <td>153700</td>\n",
       "      <td>39000</td>\n",
       "    </tr>\n",
       "    <tr>\n",
       "      <td>2</td>\n",
       "      <td>2</td>\n",
       "      <td>90118352</td>\n",
       "      <td>3000</td>\n",
       "      <td>3000</td>\n",
       "      <td>36</td>\n",
       "      <td>0</td>\n",
       "      <td>670</td>\n",
       "      <td>674</td>\n",
       "      <td>9</td>\n",
       "      <td>1</td>\n",
       "      <td>...</td>\n",
       "      <td>9</td>\n",
       "      <td>0</td>\n",
       "      <td>0</td>\n",
       "      <td>3</td>\n",
       "      <td>1</td>\n",
       "      <td>0</td>\n",
       "      <td>112925</td>\n",
       "      <td>22032</td>\n",
       "      <td>2700</td>\n",
       "      <td>27025</td>\n",
       "    </tr>\n",
       "    <tr>\n",
       "      <td>3</td>\n",
       "      <td>3</td>\n",
       "      <td>89924687</td>\n",
       "      <td>8000</td>\n",
       "      <td>8000</td>\n",
       "      <td>36</td>\n",
       "      <td>0</td>\n",
       "      <td>700</td>\n",
       "      <td>704</td>\n",
       "      <td>22</td>\n",
       "      <td>0</td>\n",
       "      <td>...</td>\n",
       "      <td>22</td>\n",
       "      <td>0</td>\n",
       "      <td>0</td>\n",
       "      <td>3</td>\n",
       "      <td>0</td>\n",
       "      <td>0</td>\n",
       "      <td>365263</td>\n",
       "      <td>55664</td>\n",
       "      <td>56300</td>\n",
       "      <td>19763</td>\n",
       "    </tr>\n",
       "    <tr>\n",
       "      <td>4</td>\n",
       "      <td>4</td>\n",
       "      <td>90945154</td>\n",
       "      <td>18000</td>\n",
       "      <td>18000</td>\n",
       "      <td>60</td>\n",
       "      <td>0</td>\n",
       "      <td>660</td>\n",
       "      <td>664</td>\n",
       "      <td>5</td>\n",
       "      <td>0</td>\n",
       "      <td>...</td>\n",
       "      <td>5</td>\n",
       "      <td>0</td>\n",
       "      <td>0</td>\n",
       "      <td>1</td>\n",
       "      <td>0</td>\n",
       "      <td>0</td>\n",
       "      <td>26627</td>\n",
       "      <td>15803</td>\n",
       "      <td>12700</td>\n",
       "      <td>12827</td>\n",
       "    </tr>\n",
       "    <tr>\n",
       "      <td>...</td>\n",
       "      <td>...</td>\n",
       "      <td>...</td>\n",
       "      <td>...</td>\n",
       "      <td>...</td>\n",
       "      <td>...</td>\n",
       "      <td>...</td>\n",
       "      <td>...</td>\n",
       "      <td>...</td>\n",
       "      <td>...</td>\n",
       "      <td>...</td>\n",
       "      <td>...</td>\n",
       "      <td>...</td>\n",
       "      <td>...</td>\n",
       "      <td>...</td>\n",
       "      <td>...</td>\n",
       "      <td>...</td>\n",
       "      <td>...</td>\n",
       "      <td>...</td>\n",
       "      <td>...</td>\n",
       "      <td>...</td>\n",
       "      <td>...</td>\n",
       "    </tr>\n",
       "    <tr>\n",
       "      <td>105446</td>\n",
       "      <td>105446</td>\n",
       "      <td>102556443</td>\n",
       "      <td>24000</td>\n",
       "      <td>24000</td>\n",
       "      <td>60</td>\n",
       "      <td>3</td>\n",
       "      <td>670</td>\n",
       "      <td>674</td>\n",
       "      <td>13</td>\n",
       "      <td>2</td>\n",
       "      <td>...</td>\n",
       "      <td>13</td>\n",
       "      <td>0</td>\n",
       "      <td>1</td>\n",
       "      <td>2</td>\n",
       "      <td>1</td>\n",
       "      <td>1</td>\n",
       "      <td>103322</td>\n",
       "      <td>60812</td>\n",
       "      <td>28200</td>\n",
       "      <td>64422</td>\n",
       "    </tr>\n",
       "    <tr>\n",
       "      <td>105447</td>\n",
       "      <td>105447</td>\n",
       "      <td>102653304</td>\n",
       "      <td>10000</td>\n",
       "      <td>10000</td>\n",
       "      <td>36</td>\n",
       "      <td>1</td>\n",
       "      <td>725</td>\n",
       "      <td>729</td>\n",
       "      <td>15</td>\n",
       "      <td>0</td>\n",
       "      <td>...</td>\n",
       "      <td>15</td>\n",
       "      <td>0</td>\n",
       "      <td>0</td>\n",
       "      <td>2</td>\n",
       "      <td>0</td>\n",
       "      <td>0</td>\n",
       "      <td>132303</td>\n",
       "      <td>55863</td>\n",
       "      <td>34800</td>\n",
       "      <td>70203</td>\n",
       "    </tr>\n",
       "    <tr>\n",
       "      <td>105448</td>\n",
       "      <td>105448</td>\n",
       "      <td>102628603</td>\n",
       "      <td>10050</td>\n",
       "      <td>10050</td>\n",
       "      <td>36</td>\n",
       "      <td>0</td>\n",
       "      <td>705</td>\n",
       "      <td>709</td>\n",
       "      <td>15</td>\n",
       "      <td>0</td>\n",
       "      <td>...</td>\n",
       "      <td>15</td>\n",
       "      <td>0</td>\n",
       "      <td>0</td>\n",
       "      <td>5</td>\n",
       "      <td>0</td>\n",
       "      <td>0</td>\n",
       "      <td>30400</td>\n",
       "      <td>14300</td>\n",
       "      <td>9000</td>\n",
       "      <td>0</td>\n",
       "    </tr>\n",
       "    <tr>\n",
       "      <td>105449</td>\n",
       "      <td>105449</td>\n",
       "      <td>102196576</td>\n",
       "      <td>6000</td>\n",
       "      <td>6000</td>\n",
       "      <td>36</td>\n",
       "      <td>1</td>\n",
       "      <td>670</td>\n",
       "      <td>674</td>\n",
       "      <td>9</td>\n",
       "      <td>0</td>\n",
       "      <td>...</td>\n",
       "      <td>8</td>\n",
       "      <td>0</td>\n",
       "      <td>0</td>\n",
       "      <td>1</td>\n",
       "      <td>0</td>\n",
       "      <td>0</td>\n",
       "      <td>47476</td>\n",
       "      <td>26201</td>\n",
       "      <td>8100</td>\n",
       "      <td>34076</td>\n",
       "    </tr>\n",
       "    <tr>\n",
       "      <td>105450</td>\n",
       "      <td>105450</td>\n",
       "      <td>99799684</td>\n",
       "      <td>30000</td>\n",
       "      <td>30000</td>\n",
       "      <td>60</td>\n",
       "      <td>1</td>\n",
       "      <td>695</td>\n",
       "      <td>699</td>\n",
       "      <td>12</td>\n",
       "      <td>0</td>\n",
       "      <td>...</td>\n",
       "      <td>12</td>\n",
       "      <td>0</td>\n",
       "      <td>0</td>\n",
       "      <td>1</td>\n",
       "      <td>0</td>\n",
       "      <td>0</td>\n",
       "      <td>275706</td>\n",
       "      <td>75819</td>\n",
       "      <td>16000</td>\n",
       "      <td>89732</td>\n",
       "    </tr>\n",
       "  </tbody>\n",
       "</table>\n",
       "<p>877986 rows × 46 columns</p>\n",
       "</div>"
      ],
      "text/plain": [
       "        Unnamed: 0         id  loan_amnt  funded_amnt  term  delinq_2yrs  \\\n",
       "0                0   90217342      26000        26000    36            1   \n",
       "1                1   89996652      12000        12000    36            0   \n",
       "2                2   90118352       3000         3000    36            0   \n",
       "3                3   89924687       8000         8000    36            0   \n",
       "4                4   90945154      18000        18000    60            0   \n",
       "...            ...        ...        ...          ...   ...          ...   \n",
       "105446      105446  102556443      24000        24000    60            3   \n",
       "105447      105447  102653304      10000        10000    36            1   \n",
       "105448      105448  102628603      10050        10050    36            0   \n",
       "105449      105449  102196576       6000         6000    36            1   \n",
       "105450      105450   99799684      30000        30000    60            1   \n",
       "\n",
       "        fico_range_low  fico_range_high  open_acc  pub_rec  ...  num_sats  \\\n",
       "0                  695              699        21        0  ...        21   \n",
       "1                  795              799        20        0  ...        20   \n",
       "2                  670              674         9        1  ...         9   \n",
       "3                  700              704        22        0  ...        22   \n",
       "4                  660              664         5        0  ...         5   \n",
       "...                ...              ...       ...      ...  ...       ...   \n",
       "105446             670              674        13        2  ...        13   \n",
       "105447             725              729        15        0  ...        15   \n",
       "105448             705              709        15        0  ...        15   \n",
       "105449             670              674         9        0  ...         8   \n",
       "105450             695              699        12        0  ...        12   \n",
       "\n",
       "        num_tl_30dpd  num_tl_90g_dpd_24m  num_tl_op_past_12m  \\\n",
       "0                  0                   0                   4   \n",
       "1                  0                   0                   0   \n",
       "2                  0                   0                   3   \n",
       "3                  0                   0                   3   \n",
       "4                  0                   0                   1   \n",
       "...              ...                 ...                 ...   \n",
       "105446             0                   1                   2   \n",
       "105447             0                   0                   2   \n",
       "105448             0                   0                   5   \n",
       "105449             0                   0                   1   \n",
       "105450             0                   0                   1   \n",
       "\n",
       "        pub_rec_bankruptcies  tax_liens  tot_hi_cred_lim  total_bal_ex_mort  \\\n",
       "0                          0          0           126593              56283   \n",
       "1                          0          0           486000              37584   \n",
       "2                          1          0           112925              22032   \n",
       "3                          0          0           365263              55664   \n",
       "4                          0          0            26627              15803   \n",
       "...                      ...        ...              ...                ...   \n",
       "105446                     1          1           103322              60812   \n",
       "105447                     0          0           132303              55863   \n",
       "105448                     0          0            30400              14300   \n",
       "105449                     0          0            47476              26201   \n",
       "105450                     0          0           275706              75819   \n",
       "\n",
       "        total_bc_limit  total_il_high_credit_limit  \n",
       "0                18200                       93993  \n",
       "1               153700                       39000  \n",
       "2                 2700                       27025  \n",
       "3                56300                       19763  \n",
       "4                12700                       12827  \n",
       "...                ...                         ...  \n",
       "105446           28200                       64422  \n",
       "105447           34800                       70203  \n",
       "105448            9000                           0  \n",
       "105449            8100                       34076  \n",
       "105450           16000                       89732  \n",
       "\n",
       "[877986 rows x 46 columns]"
      ]
     },
     "execution_count": 74,
     "metadata": {},
     "output_type": "execute_result"
    }
   ],
   "source": [
    "data.select_dtypes(include=['int'])"
   ]
  },
  {
   "cell_type": "markdown",
   "metadata": {},
   "source": [
    "## Part 4: Data Visualization"
   ]
  },
  {
   "cell_type": "code",
   "execution_count": 75,
   "metadata": {},
   "outputs": [
    {
     "name": "stdout",
     "output_type": "stream",
     "text": [
      "<class 'pandas.core.frame.DataFrame'>\n",
      "Int64Index: 877986 entries, 0 to 105450\n",
      "Columns: 105 entries, Unnamed: 0 to debt_settlement_flag\n",
      "dtypes: float64(38), int64(46), object(21)\n",
      "memory usage: 730.0+ MB\n"
     ]
    }
   ],
   "source": [
    "data.info()"
   ]
  },
  {
   "cell_type": "code",
   "execution_count": 76,
   "metadata": {},
   "outputs": [
    {
     "data": {
      "text/plain": [
       "Index(['Unnamed: 0', 'id', 'loan_amnt', 'funded_amnt', 'funded_amnt_inv',\n",
       "       'term', 'int_rate', 'installment', 'grade', 'sub_grade',\n",
       "       ...\n",
       "       'percent_bc_gt_75', 'pub_rec_bankruptcies', 'tax_liens',\n",
       "       'tot_hi_cred_lim', 'total_bal_ex_mort', 'total_bc_limit',\n",
       "       'total_il_high_credit_limit', 'hardship_flag', 'disbursement_method',\n",
       "       'debt_settlement_flag'],\n",
       "      dtype='object', length=105)"
      ]
     },
     "execution_count": 76,
     "metadata": {},
     "output_type": "execute_result"
    }
   ],
   "source": [
    "data.columns"
   ]
  },
  {
   "cell_type": "markdown",
   "metadata": {},
   "source": [
    "The target variable, which we want to compare across the independent variables, is loan status. \n",
    "\n",
    "The variables in the dataset that will affect the loan status are grade, sub_grade, annual income, purpose of the loan, loan_amount, annual income, emp_length etc.\n",
    "\n",
    "Here, we want to compare the average default rates across various independent variables and have a general idea about the variables that affect default rate."
   ]
  },
  {
   "cell_type": "markdown",
   "metadata": {},
   "source": [
    "#### 4.1 loan status"
   ]
  },
  {
   "cell_type": "markdown",
   "metadata": {},
   "source": [
    "Let's first take a look at the target variable - loan_status."
   ]
  },
  {
   "cell_type": "code",
   "execution_count": 77,
   "metadata": {},
   "outputs": [
    {
     "name": "stdout",
     "output_type": "stream",
     "text": [
      "loan_status\n",
      "Charged Off            80804\n",
      "Current               503359\n",
      "Default                  766\n",
      "Fully Paid            264241\n",
      "In Grace Period         8052\n",
      "Late (16-30 days)       4505\n",
      "Late (31-120 days)     16259\n",
      "dtype: int64\n"
     ]
    }
   ],
   "source": [
    "# Visualize loan_status\n",
    "loan_status = data.groupby('loan_status').size()\n",
    "print(loan_status)"
   ]
  },
  {
   "cell_type": "code",
   "execution_count": 78,
   "metadata": {},
   "outputs": [
    {
     "data": {
      "text/plain": [
       "Text(0, 0.5, '')"
      ]
     },
     "execution_count": 78,
     "metadata": {},
     "output_type": "execute_result"
    },
    {
     "data": {
      "image/png": "[encoded data removed]",
      "text/plain": [
       "<Figure size 792x792 with 1 Axes>"
      ]
     },
     "metadata": {},
     "output_type": "display_data"
    }
   ],
   "source": [
    "plot = loan_status.plot.pie(y='loan_status',figsize=(11, 11),autopct='%1.1f%%',legend=True,fontsize=12)\n",
    "plt.title('Loan Status')\n",
    "plt.xlabel('')\n",
    "plt.ylabel('')"
   ]
  },
  {
   "cell_type": "markdown",
   "metadata": {},
   "source": [
    "In this project, we are interested to know whether the loan is worth to invest or not, i.e., we want to know if the given loan is \"good\" or \"bad\". If the loan is \"fully paid off\", then it is good; it is bad if it is in the category of \"charged off\", \"default\", \"late (16-30 days)\" or \"late (31-120 days)\". For those that are in the \"current\" or \"in grace period\", we consider them as uncategoried due to uncertainty. "
   ]
  },
  {
   "cell_type": "code",
   "execution_count": 79,
   "metadata": {},
   "outputs": [
    {
     "data": {
      "text/plain": [
       "Fully Paid            264241\n",
       "Charged Off            80804\n",
       "Late (31-120 days)     16259\n",
       "Late (16-30 days)       4505\n",
       "Default                  766\n",
       "Name: loan_status, dtype: int64"
      ]
     },
     "execution_count": 79,
     "metadata": {},
     "output_type": "execute_result"
    }
   ],
   "source": [
    "category = ['Current','In Grace Period']\n",
    "data = data[~data.loan_status.isin(category)]\n",
    "data['loan_status'].value_counts()"
   ]
  },
  {
   "cell_type": "code",
   "execution_count": 80,
   "metadata": {},
   "outputs": [
    {
     "data": {
      "text/plain": [
       "0    264241\n",
       "1    102334\n",
       "Name: loan_status, dtype: int64"
      ]
     },
     "execution_count": 80,
     "metadata": {},
     "output_type": "execute_result"
    }
   ],
   "source": [
    "# encode loan_status as 0 - good, 1 - bad\n",
    "data['loan_status'] = data['loan_status'].apply(lambda x: 0 if x=='Fully Paid' else 1)\n",
    "\n",
    "# convert loan_status to int\n",
    "data['loan_status'] = data['loan_status'].apply(lambda x: pd.to_numeric(x))\n",
    "\n",
    "data['loan_status'].value_counts()"
   ]
  },
  {
   "cell_type": "markdown",
   "metadata": {},
   "source": [
    "#### 4.2 loan grade and subgrade"
   ]
  },
  {
   "cell_type": "code",
   "execution_count": 81,
   "metadata": {},
   "outputs": [
    {
     "name": "stdout",
     "output_type": "stream",
     "text": [
      "grade\n",
      "A     53803\n",
      "B    103395\n",
      "C    114767\n",
      "D     55377\n",
      "E     25547\n",
      "F      9863\n",
      "G      3823\n",
      "dtype: int64\n"
     ]
    }
   ],
   "source": [
    "# Visualize loan grade\n",
    "loan_grade = data.groupby('grade').size()\n",
    "print(loan_grade)"
   ]
  },
  {
   "cell_type": "code",
   "execution_count": 82,
   "metadata": {},
   "outputs": [
    {
     "data": {
      "image/png": "[encoded data removed]",
      "text/plain": [
       "<Figure size 864x360 with 1 Axes>"
      ]
     },
     "metadata": {
      "needs_background": "light"
     },
     "output_type": "display_data"
    }
   ],
   "source": [
    "plt.figure(figsize=(12, 5))\n",
    "sns.countplot(x='grade', data=data, order=['A', 'B', 'C', 'D', 'E', 'F', 'G'])\n",
    "plt.xlabel(\"Grade\", labelpad=14)\n",
    "plt.ylabel(\"Count\", labelpad=14)\n",
    "plt.show()"
   ]
  },
  {
   "cell_type": "code",
   "execution_count": 83,
   "metadata": {
    "scrolled": true
   },
   "outputs": [
    {
     "data": {
      "image/png": "[encoded data removed]",
      "text/plain": [
       "<Figure size 864x360 with 1 Axes>"
      ]
     },
     "metadata": {
      "needs_background": "light"
     },
     "output_type": "display_data"
    }
   ],
   "source": [
    "# plot default rates across grade of the loan\n",
    "result = data['grade'].sort_values().unique()\n",
    "fig, ax = plt.subplots(figsize=(12, 5))\n",
    "sns.barplot(x='grade', y='loan_status', data=data, order=result)\n",
    "plt.xlabel(\"Grade\", labelpad=14)\n",
    "plt.ylabel(\"loan_status\", labelpad=14)\n",
    "plt.show() "
   ]
  },
  {
   "cell_type": "markdown",
   "metadata": {},
   "source": [
    "As we can see from the above barplot, the default rate is higher as loan grade moves from grade A to grade G. "
   ]
  },
  {
   "cell_type": "code",
   "execution_count": 84,
   "metadata": {},
   "outputs": [
    {
     "data": {
      "image/png": "[encoded data removed]",
      "text/plain": [
       "<Figure size 864x360 with 1 Axes>"
      ]
     },
     "metadata": {
      "needs_background": "light"
     },
     "output_type": "display_data"
    }
   ],
   "source": [
    "result = data['sub_grade'].sort_values().unique()\n",
    "fig, ax = plt.subplots(figsize=(12, 5))\n",
    "sns.barplot(x='sub_grade', y='loan_status', data=data, order=result) \n",
    "plt.show()"
   ]
  },
  {
   "cell_type": "markdown",
   "metadata": {},
   "source": [
    "The dafault rate is higher as the subgrade changes from A1 to G5. "
   ]
  },
  {
   "cell_type": "markdown",
   "metadata": {},
   "source": []
  },
  {
   "cell_type": "markdown",
   "metadata": {},
   "source": [
    "#### 4.3 loan title"
   ]
  },
  {
   "cell_type": "code",
   "execution_count": 85,
   "metadata": {},
   "outputs": [
    {
     "data": {
      "text/plain": [
       "Debt consolidation         203517\n",
       "Credit card refinancing     67852\n",
       "Home improvement            27071\n",
       "Other                       24885\n",
       "missing                     13001\n",
       "Major purchase               8823\n",
       "Medical expenses             4928\n",
       "Car financing                4099\n",
       "Business                     3884\n",
       "Vacation                     3051\n",
       "Moving and relocation        2998\n",
       "Home buying                  2195\n",
       "Green loan                    271\n",
       "Name: title, dtype: int64"
      ]
     },
     "execution_count": 85,
     "metadata": {},
     "output_type": "execute_result"
    }
   ],
   "source": [
    "data['title'].value_counts()"
   ]
  },
  {
   "cell_type": "code",
   "execution_count": 86,
   "metadata": {},
   "outputs": [],
   "source": [
    "# change into lower case\n",
    "data['title'] = data['title'].apply(str.lower)\n",
    "lists = ['debt consolidation', 'credit card refinancing', 'business', 'vacation', \n",
    "         'home improvement', 'major purchase', 'medical expenses', 'car financing', \n",
    "         'moving and relocation', 'home buying', 'green loan', 'consolidation']\n",
    "\n",
    "data.loc[~data['title'].isin(lists), 'title'] = 'other'"
   ]
  },
  {
   "cell_type": "code",
   "execution_count": 87,
   "metadata": {},
   "outputs": [
    {
     "data": {
      "text/plain": [
       "<matplotlib.axes._subplots.AxesSubplot at 0x1a660fe5d0>"
      ]
     },
     "execution_count": 87,
     "metadata": {},
     "output_type": "execute_result"
    },
    {
     "data": {
      "image/png": "[encoded data removed]",
      "text/plain": [
       "<Figure size 1440x720 with 1 Axes>"
      ]
     },
     "metadata": {
      "needs_background": "light"
     },
     "output_type": "display_data"
    }
   ],
   "source": [
    "data['title'].value_counts().plot(kind='barh', figsize=(20,10))"
   ]
  },
  {
   "cell_type": "code",
   "execution_count": 88,
   "metadata": {},
   "outputs": [
    {
     "data": {
      "image/png": "[encoded data removed]",
      "text/plain": [
       "<Figure size 864x360 with 1 Axes>"
      ]
     },
     "metadata": {
      "needs_background": "light"
     },
     "output_type": "display_data"
    }
   ],
   "source": [
    "# plot default rates across loan title \n",
    "fig, ax = plt.subplots(figsize=(12, 5))\n",
    "chart = sns.barplot(x='title', y='loan_status', data=data)\n",
    "plt.xlabel(\"title\", labelpad=14)\n",
    "plt.ylabel(\"loan_status\", labelpad=14)\n",
    "chart.set_xticklabels(chart.get_xticklabels(), rotation=30)\n",
    "plt.show() "
   ]
  },
  {
   "cell_type": "markdown",
   "metadata": {},
   "source": [
    "#### 4.4 home_ownership"
   ]
  },
  {
   "cell_type": "code",
   "execution_count": 89,
   "metadata": {},
   "outputs": [
    {
     "data": {
      "text/plain": [
       "MORTGAGE    181488\n",
       "RENT        140479\n",
       "OWN          44393\n",
       "Other          215\n",
       "Name: home_ownership, dtype: int64"
      ]
     },
     "execution_count": 89,
     "metadata": {},
     "output_type": "execute_result"
    }
   ],
   "source": [
    "data['home_ownership'].value_counts()"
   ]
  },
  {
   "cell_type": "code",
   "execution_count": 90,
   "metadata": {},
   "outputs": [
    {
     "data": {
      "image/png": "[encoded data removed]",
      "text/plain": [
       "<Figure size 864x360 with 1 Axes>"
      ]
     },
     "metadata": {
      "needs_background": "light"
     },
     "output_type": "display_data"
    }
   ],
   "source": [
    "# plot default rates across home_ownership\n",
    "fig, ax = plt.subplots(figsize=(12, 5))\n",
    "chart = sns.barplot(x='home_ownership', y='loan_status', data=data)\n",
    "plt.xlabel(\"home_ownership\", labelpad=14)\n",
    "plt.ylabel(\"loan_status\", labelpad=14)\n",
    "plt.show() "
   ]
  },
  {
   "cell_type": "markdown",
   "metadata": {},
   "source": [
    "The renting has the highest default rate among four home-onwership categories. We also notice that the variance of other category is highest since it inculdes all other types of home owership.  "
   ]
  },
  {
   "cell_type": "markdown",
   "metadata": {},
   "source": [
    "#### 4.5 emp_length"
   ]
  },
  {
   "cell_type": "code",
   "execution_count": 91,
   "metadata": {},
   "outputs": [
    {
     "data": {
      "text/plain": [
       "count    366575.000000\n",
       "mean          5.586943\n",
       "std           3.846333\n",
       "min           0.000000\n",
       "25%           2.000000\n",
       "50%           5.000000\n",
       "75%          10.000000\n",
       "max          10.000000\n",
       "Name: emp_length, dtype: float64"
      ]
     },
     "execution_count": 91,
     "metadata": {},
     "output_type": "execute_result"
    }
   ],
   "source": [
    "data['emp_length'].describe()"
   ]
  },
  {
   "cell_type": "code",
   "execution_count": 92,
   "metadata": {},
   "outputs": [
    {
     "data": {
      "text/plain": [
       "10.0    123004\n",
       "2.0      33935\n",
       "0.5      29815\n",
       "3.0      29731\n",
       "1.0      24817\n",
       "0.0      24438\n",
       "5.0      22493\n",
       "4.0      21996\n",
       "6.0      15722\n",
       "8.0      14287\n",
       "9.0      13885\n",
       "7.0      12452\n",
       "Name: emp_length, dtype: int64"
      ]
     },
     "execution_count": 92,
     "metadata": {},
     "output_type": "execute_result"
    }
   ],
   "source": [
    "data['emp_length'].value_counts()"
   ]
  },
  {
   "cell_type": "code",
   "execution_count": 93,
   "metadata": {
    "scrolled": true
   },
   "outputs": [
    {
     "data": {
      "image/png": "[encoded data removed]",
      "text/plain": [
       "<Figure size 864x360 with 1 Axes>"
      ]
     },
     "metadata": {
      "needs_background": "light"
     },
     "output_type": "display_data"
    }
   ],
   "source": [
    "# plot default rates across emp_length\n",
    "fig, ax = plt.subplots(figsize=(12, 5))\n",
    "chart = sns.barplot(x='emp_length', y='loan_status', data=data)\n",
    "ax.set(ylim=(0.20, 0.4))\n",
    "plt.xlabel(\"emp_length\", labelpad=14)\n",
    "plt.ylabel(\"loan_status\", labelpad=14)\n",
    "plt.show() "
   ]
  },
  {
   "cell_type": "markdown",
   "metadata": {},
   "source": [
    "The dafault rate is between 0.27 to 0.30 for different emplyment lengths. The clients with longer employment length has lower default rate comparing with shorter employment length, but the difference is not that big.  "
   ]
  },
  {
   "cell_type": "markdown",
   "metadata": {},
   "source": [
    "## Part 5: Feature Selection"
   ]
  },
  {
   "cell_type": "markdown",
   "metadata": {},
   "source": [
    "The goal for this project is to predict whether a loan will be defaulted or not. To start with, let's identify the independent variables that are reated to the output - loan status. \n",
    "\n",
    "There are three types of independent variables that are closedly related to the defaultd loan. They are \n",
    "\n",
    "1. loan information, such as interest rate, loan amount, installment etc. \n",
    "\n",
    "2. application information, such as credit score, salary, occupation, age, assetts etc. \n",
    "\n",
    "3. customer behaviors which are generated after the loan is approved, such as delinquent amount, past-due amount. \n",
    "\n",
    "Notice that as an investor, we are not able to obtain type 3 - customer behaviors information before the loan is being approved. Hence, it cannot be included into the model prediction and we need to drop these features. "
   ]
  },
  {
   "cell_type": "markdown",
   "metadata": {},
   "source": [
    "#### 5.1 unrelated features"
   ]
  },
  {
   "cell_type": "code",
   "execution_count": 94,
   "metadata": {},
   "outputs": [],
   "source": [
    "# drop variables that are related future customer behaviors\n",
    "behavior_var = [\n",
    "    'collection_recovery_fee',\n",
    "    'delinq_2yrs',\n",
    "    'delinq_amnt',\n",
    "    'earliest_cr_line',\n",
    "    'initial_list_status',\n",
    "    'inq_fi',\n",
    "    'inq_last_12m',\n",
    "    'inq_last_6mths',\n",
    "    'last_pymnt_amnt',\n",
    "    'last_pymnt_d',\n",
    "    'open_acc',\n",
    "    'open_acc_6m',\n",
    "    'out_prncp',\n",
    "    'out_prncp_inv',\n",
    "    'pub_rec',\n",
    "    'pymnt_plan',\n",
    "    'recoveries',\n",
    "    'revol_bal',\n",
    "    'revol_util',\n",
    "    'total_acc',\n",
    "    'total_pymnt',\n",
    "    'total_pymnt_inv',\n",
    "    'total_rec_prncp',\n",
    "    'total_rec_int',\n",
    "    'total_rec_late_fee',\n",
    "    'total_rec_prncp',\n",
    "    'total_rev_hi_lim',\n",
    "    'recoveries',\n",
    "    'last_pymnt_d',\n",
    "    'last_pymnt_amnt',\n",
    "    'last_credit_pull_d',\n",
    "    'application_type',\n",
    "    'disbursement_method',\n",
    "    'debt_settlement_flag']\n",
    "\n",
    "data = data.drop(behavior_var, axis=1)"
   ]
  },
  {
   "cell_type": "code",
   "execution_count": 95,
   "metadata": {},
   "outputs": [
    {
     "data": {
      "text/plain": [
       "Index(['Unnamed: 0', 'id', 'loan_amnt', 'funded_amnt', 'funded_amnt_inv',\n",
       "       'term', 'int_rate', 'installment', 'grade', 'sub_grade', 'emp_length',\n",
       "       'home_ownership', 'annual_inc', 'verification_status', 'issue_d',\n",
       "       'loan_status', 'url', 'purpose', 'title', 'zip_code', 'addr_state',\n",
       "       'dti', 'fico_range_low', 'fico_range_high', 'last_fico_range_high',\n",
       "       'last_fico_range_low', 'collections_12_mths_ex_med', 'policy_code',\n",
       "       'acc_now_delinq', 'tot_coll_amt', 'tot_cur_bal', 'open_act_il',\n",
       "       'open_il_12m', 'open_il_24m', 'mths_since_rcnt_il', 'total_bal_il',\n",
       "       'open_rv_12m', 'open_rv_24m', 'max_bal_bc', 'all_util', 'total_cu_tl',\n",
       "       'acc_open_past_24mths', 'avg_cur_bal', 'bc_open_to_buy', 'bc_util',\n",
       "       'chargeoff_within_12_mths', 'mo_sin_old_il_acct',\n",
       "       'mo_sin_old_rev_tl_op', 'mo_sin_rcnt_rev_tl_op', 'mo_sin_rcnt_tl',\n",
       "       'mort_acc', 'mths_since_recent_bc', 'num_accts_ever_120_pd',\n",
       "       'num_actv_bc_tl', 'num_actv_rev_tl', 'num_bc_sats', 'num_bc_tl',\n",
       "       'num_il_tl', 'num_op_rev_tl', 'num_rev_accts', 'num_rev_tl_bal_gt_0',\n",
       "       'num_sats', 'num_tl_120dpd_2m', 'num_tl_30dpd', 'num_tl_90g_dpd_24m',\n",
       "       'num_tl_op_past_12m', 'pct_tl_nvr_dlq', 'percent_bc_gt_75',\n",
       "       'pub_rec_bankruptcies', 'tax_liens', 'tot_hi_cred_lim',\n",
       "       'total_bal_ex_mort', 'total_bc_limit', 'total_il_high_credit_limit',\n",
       "       'hardship_flag'],\n",
       "      dtype='object')"
      ]
     },
     "execution_count": 95,
     "metadata": {},
     "output_type": "execute_result"
    }
   ],
   "source": [
    "data.columns"
   ]
  },
  {
   "cell_type": "code",
   "execution_count": 96,
   "metadata": {},
   "outputs": [
    {
     "name": "stdout",
     "output_type": "stream",
     "text": [
      "There are about 75 columns.\n"
     ]
    }
   ],
   "source": [
    "print('There are about ' + str(data.shape[1]) + ' columns.')"
   ]
  },
  {
   "cell_type": "markdown",
   "metadata": {},
   "source": [
    "We can also drop some unrelated variables, such as Unnamed: 0, id, url. "
   ]
  },
  {
   "cell_type": "code",
   "execution_count": 97,
   "metadata": {},
   "outputs": [],
   "source": [
    "# drop unrelated variables\n",
    "data = data.drop(['Unnamed: 0', 'id', 'url', 'policy_code'], axis=1)"
   ]
  },
  {
   "cell_type": "code",
   "execution_count": 98,
   "metadata": {},
   "outputs": [
    {
     "name": "stdout",
     "output_type": "stream",
     "text": [
      "There are about 71 columns.\n"
     ]
    }
   ],
   "source": [
    "print('There are about ' + str(data.shape[1]) + ' columns.')"
   ]
  },
  {
   "cell_type": "markdown",
   "metadata": {},
   "source": [
    "#### 5.2 highly-correlated numerical features"
   ]
  },
  {
   "cell_type": "code",
   "execution_count": 99,
   "metadata": {},
   "outputs": [
    {
     "data": {
      "text/plain": [
       "loan_amnt                       int64\n",
       "funded_amnt                     int64\n",
       "funded_amnt_inv               float64\n",
       "term                            int64\n",
       "int_rate                      float64\n",
       "                               ...   \n",
       "tot_hi_cred_lim                 int64\n",
       "total_bal_ex_mort               int64\n",
       "total_bc_limit                  int64\n",
       "total_il_high_credit_limit      int64\n",
       "hardship_flag                  object\n",
       "Length: 71, dtype: object"
      ]
     },
     "execution_count": 99,
     "metadata": {},
     "output_type": "execute_result"
    }
   ],
   "source": [
    "data.dtypes"
   ]
  },
  {
   "cell_type": "code",
   "execution_count": 100,
   "metadata": {
    "scrolled": true
   },
   "outputs": [
    {
     "data": {
      "text/plain": [
       "(366575, 60)"
      ]
     },
     "execution_count": 100,
     "metadata": {},
     "output_type": "execute_result"
    }
   ],
   "source": [
    "num_data = data.select_dtypes(exclude=['object'])\n",
    "target = data['loan_status']\n",
    "num_data = num_data.drop('loan_status', axis=1)\n",
    "num_data.shape"
   ]
  },
  {
   "cell_type": "code",
   "execution_count": 101,
   "metadata": {},
   "outputs": [
    {
     "data": {
      "image/png": "[encoded data removed]",
      "text/plain": [
       "<Figure size 1152x1152 with 2 Axes>"
      ]
     },
     "metadata": {
      "needs_background": "light"
     },
     "output_type": "display_data"
    }
   ],
   "source": [
    "# calculate the pair-wise correlation for numerical features\n",
    "correlation = num_data.corr()      \n",
    "\n",
    "# visualize the pair-wise correlation             \n",
    "fig, ax = plt.subplots(figsize=(16, 16))\n",
    "sns.heatmap(correlation)\n",
    "plt.show()"
   ]
  },
  {
   "cell_type": "code",
   "execution_count": 102,
   "metadata": {
    "scrolled": true
   },
   "outputs": [
    {
     "data": {
      "text/html": [
       "<div>\n",
       "<style scoped>\n",
       "    .dataframe tbody tr th:only-of-type {\n",
       "        vertical-align: middle;\n",
       "    }\n",
       "\n",
       "    .dataframe tbody tr th {\n",
       "        vertical-align: top;\n",
       "    }\n",
       "\n",
       "    .dataframe thead th {\n",
       "        text-align: right;\n",
       "    }\n",
       "</style>\n",
       "<table border=\"1\" class=\"dataframe\">\n",
       "  <thead>\n",
       "    <tr style=\"text-align: right;\">\n",
       "      <th></th>\n",
       "      <th>loan_amnt</th>\n",
       "      <th>funded_amnt</th>\n",
       "      <th>funded_amnt_inv</th>\n",
       "      <th>term</th>\n",
       "      <th>int_rate</th>\n",
       "      <th>installment</th>\n",
       "      <th>emp_length</th>\n",
       "      <th>annual_inc</th>\n",
       "      <th>dti</th>\n",
       "      <th>fico_range_low</th>\n",
       "      <th>...</th>\n",
       "      <th>num_tl_90g_dpd_24m</th>\n",
       "      <th>num_tl_op_past_12m</th>\n",
       "      <th>pct_tl_nvr_dlq</th>\n",
       "      <th>percent_bc_gt_75</th>\n",
       "      <th>pub_rec_bankruptcies</th>\n",
       "      <th>tax_liens</th>\n",
       "      <th>tot_hi_cred_lim</th>\n",
       "      <th>total_bal_ex_mort</th>\n",
       "      <th>total_bc_limit</th>\n",
       "      <th>total_il_high_credit_limit</th>\n",
       "    </tr>\n",
       "  </thead>\n",
       "  <tbody>\n",
       "    <tr>\n",
       "      <td>loan_amnt</td>\n",
       "      <td>1.000000</td>\n",
       "      <td>1.000000</td>\n",
       "      <td>0.999993</td>\n",
       "      <td>0.373470</td>\n",
       "      <td>0.172861</td>\n",
       "      <td>0.954403</td>\n",
       "      <td>0.100000</td>\n",
       "      <td>0.288178</td>\n",
       "      <td>0.036103</td>\n",
       "      <td>0.073641</td>\n",
       "      <td>...</td>\n",
       "      <td>-0.016588</td>\n",
       "      <td>-0.012628</td>\n",
       "      <td>0.067416</td>\n",
       "      <td>0.040105</td>\n",
       "      <td>-0.071035</td>\n",
       "      <td>0.013051</td>\n",
       "      <td>0.321291</td>\n",
       "      <td>0.272144</td>\n",
       "      <td>0.346212</td>\n",
       "      <td>0.214384</td>\n",
       "    </tr>\n",
       "    <tr>\n",
       "      <td>funded_amnt</td>\n",
       "      <td>1.000000</td>\n",
       "      <td>1.000000</td>\n",
       "      <td>0.999993</td>\n",
       "      <td>0.373470</td>\n",
       "      <td>0.172861</td>\n",
       "      <td>0.954403</td>\n",
       "      <td>0.100000</td>\n",
       "      <td>0.288178</td>\n",
       "      <td>0.036103</td>\n",
       "      <td>0.073641</td>\n",
       "      <td>...</td>\n",
       "      <td>-0.016588</td>\n",
       "      <td>-0.012628</td>\n",
       "      <td>0.067416</td>\n",
       "      <td>0.040105</td>\n",
       "      <td>-0.071035</td>\n",
       "      <td>0.013051</td>\n",
       "      <td>0.321291</td>\n",
       "      <td>0.272144</td>\n",
       "      <td>0.346212</td>\n",
       "      <td>0.214384</td>\n",
       "    </tr>\n",
       "    <tr>\n",
       "      <td>funded_amnt_inv</td>\n",
       "      <td>0.999993</td>\n",
       "      <td>0.999993</td>\n",
       "      <td>1.000000</td>\n",
       "      <td>0.373709</td>\n",
       "      <td>0.172877</td>\n",
       "      <td>0.954306</td>\n",
       "      <td>0.100052</td>\n",
       "      <td>0.288192</td>\n",
       "      <td>0.036040</td>\n",
       "      <td>0.073757</td>\n",
       "      <td>...</td>\n",
       "      <td>-0.016617</td>\n",
       "      <td>-0.012667</td>\n",
       "      <td>0.067452</td>\n",
       "      <td>0.040094</td>\n",
       "      <td>-0.071069</td>\n",
       "      <td>0.013026</td>\n",
       "      <td>0.321331</td>\n",
       "      <td>0.272133</td>\n",
       "      <td>0.346230</td>\n",
       "      <td>0.214363</td>\n",
       "    </tr>\n",
       "    <tr>\n",
       "      <td>term</td>\n",
       "      <td>0.373470</td>\n",
       "      <td>0.373470</td>\n",
       "      <td>0.373709</td>\n",
       "      <td>1.000000</td>\n",
       "      <td>0.394703</td>\n",
       "      <td>0.148465</td>\n",
       "      <td>0.057616</td>\n",
       "      <td>0.053819</td>\n",
       "      <td>0.048137</td>\n",
       "      <td>0.003056</td>\n",
       "      <td>...</td>\n",
       "      <td>-0.009737</td>\n",
       "      <td>0.016720</td>\n",
       "      <td>0.036496</td>\n",
       "      <td>0.038438</td>\n",
       "      <td>-0.001897</td>\n",
       "      <td>-0.007403</td>\n",
       "      <td>0.099962</td>\n",
       "      <td>0.097948</td>\n",
       "      <td>0.065304</td>\n",
       "      <td>0.086330</td>\n",
       "    </tr>\n",
       "    <tr>\n",
       "      <td>int_rate</td>\n",
       "      <td>0.172861</td>\n",
       "      <td>0.172861</td>\n",
       "      <td>0.172877</td>\n",
       "      <td>0.394703</td>\n",
       "      <td>1.000000</td>\n",
       "      <td>0.216877</td>\n",
       "      <td>-0.018262</td>\n",
       "      <td>-0.070467</td>\n",
       "      <td>0.151462</td>\n",
       "      <td>-0.356728</td>\n",
       "      <td>...</td>\n",
       "      <td>0.021062</td>\n",
       "      <td>0.209866</td>\n",
       "      <td>-0.047944</td>\n",
       "      <td>0.208784</td>\n",
       "      <td>0.054860</td>\n",
       "      <td>0.013929</td>\n",
       "      <td>-0.111792</td>\n",
       "      <td>0.027587</td>\n",
       "      <td>-0.184343</td>\n",
       "      <td>0.014440</td>\n",
       "    </tr>\n",
       "    <tr>\n",
       "      <td>installment</td>\n",
       "      <td>0.954403</td>\n",
       "      <td>0.954403</td>\n",
       "      <td>0.954306</td>\n",
       "      <td>0.148465</td>\n",
       "      <td>0.216877</td>\n",
       "      <td>1.000000</td>\n",
       "      <td>0.087354</td>\n",
       "      <td>0.270690</td>\n",
       "      <td>0.047308</td>\n",
       "      <td>0.020625</td>\n",
       "      <td>...</td>\n",
       "      <td>-0.012232</td>\n",
       "      <td>0.013089</td>\n",
       "      <td>0.052710</td>\n",
       "      <td>0.061678</td>\n",
       "      <td>-0.062361</td>\n",
       "      <td>0.018569</td>\n",
       "      <td>0.282410</td>\n",
       "      <td>0.256854</td>\n",
       "      <td>0.309070</td>\n",
       "      <td>0.199471</td>\n",
       "    </tr>\n",
       "    <tr>\n",
       "      <td>emp_length</td>\n",
       "      <td>0.100000</td>\n",
       "      <td>0.100000</td>\n",
       "      <td>0.100052</td>\n",
       "      <td>0.057616</td>\n",
       "      <td>-0.018262</td>\n",
       "      <td>0.087354</td>\n",
       "      <td>1.000000</td>\n",
       "      <td>0.099267</td>\n",
       "      <td>-0.016195</td>\n",
       "      <td>0.008150</td>\n",
       "      <td>...</td>\n",
       "      <td>-0.003538</td>\n",
       "      <td>0.036481</td>\n",
       "      <td>-0.017413</td>\n",
       "      <td>0.035376</td>\n",
       "      <td>0.005385</td>\n",
       "      <td>0.006460</td>\n",
       "      <td>0.130405</td>\n",
       "      <td>0.035935</td>\n",
       "      <td>0.065046</td>\n",
       "      <td>0.028173</td>\n",
       "    </tr>\n",
       "    <tr>\n",
       "      <td>annual_inc</td>\n",
       "      <td>0.288178</td>\n",
       "      <td>0.288178</td>\n",
       "      <td>0.288192</td>\n",
       "      <td>0.053819</td>\n",
       "      <td>-0.070467</td>\n",
       "      <td>0.270690</td>\n",
       "      <td>0.099267</td>\n",
       "      <td>1.000000</td>\n",
       "      <td>-0.122219</td>\n",
       "      <td>0.056449</td>\n",
       "      <td>...</td>\n",
       "      <td>0.003431</td>\n",
       "      <td>0.052820</td>\n",
       "      <td>-0.001677</td>\n",
       "      <td>-0.000280</td>\n",
       "      <td>-0.036212</td>\n",
       "      <td>0.034795</td>\n",
       "      <td>0.381463</td>\n",
       "      <td>0.296553</td>\n",
       "      <td>0.253515</td>\n",
       "      <td>0.253781</td>\n",
       "    </tr>\n",
       "    <tr>\n",
       "      <td>dti</td>\n",
       "      <td>0.036103</td>\n",
       "      <td>0.036103</td>\n",
       "      <td>0.036040</td>\n",
       "      <td>0.048137</td>\n",
       "      <td>0.151462</td>\n",
       "      <td>0.047308</td>\n",
       "      <td>-0.016195</td>\n",
       "      <td>-0.122219</td>\n",
       "      <td>1.000000</td>\n",
       "      <td>-0.050191</td>\n",
       "      <td>...</td>\n",
       "      <td>-0.012101</td>\n",
       "      <td>0.052378</td>\n",
       "      <td>0.060422</td>\n",
       "      <td>0.126620</td>\n",
       "      <td>-0.011358</td>\n",
       "      <td>-0.024179</td>\n",
       "      <td>0.020597</td>\n",
       "      <td>0.199963</td>\n",
       "      <td>0.019644</td>\n",
       "      <td>0.225889</td>\n",
       "    </tr>\n",
       "    <tr>\n",
       "      <td>fico_range_low</td>\n",
       "      <td>0.073641</td>\n",
       "      <td>0.073641</td>\n",
       "      <td>0.073757</td>\n",
       "      <td>0.003056</td>\n",
       "      <td>-0.356728</td>\n",
       "      <td>0.020625</td>\n",
       "      <td>0.008150</td>\n",
       "      <td>0.056449</td>\n",
       "      <td>-0.050191</td>\n",
       "      <td>1.000000</td>\n",
       "      <td>...</td>\n",
       "      <td>-0.099888</td>\n",
       "      <td>-0.093862</td>\n",
       "      <td>0.295593</td>\n",
       "      <td>-0.402020</td>\n",
       "      <td>-0.204450</td>\n",
       "      <td>-0.059751</td>\n",
       "      <td>0.174649</td>\n",
       "      <td>0.012666</td>\n",
       "      <td>0.358986</td>\n",
       "      <td>0.052759</td>\n",
       "    </tr>\n",
       "    <tr>\n",
       "      <td>fico_range_high</td>\n",
       "      <td>0.073642</td>\n",
       "      <td>0.073642</td>\n",
       "      <td>0.073758</td>\n",
       "      <td>0.003056</td>\n",
       "      <td>-0.356725</td>\n",
       "      <td>0.020626</td>\n",
       "      <td>0.008150</td>\n",
       "      <td>0.056448</td>\n",
       "      <td>-0.050194</td>\n",
       "      <td>1.000000</td>\n",
       "      <td>...</td>\n",
       "      <td>-0.099886</td>\n",
       "      <td>-0.093865</td>\n",
       "      <td>0.295590</td>\n",
       "      <td>-0.402016</td>\n",
       "      <td>-0.204447</td>\n",
       "      <td>-0.059750</td>\n",
       "      <td>0.174649</td>\n",
       "      <td>0.012663</td>\n",
       "      <td>0.358986</td>\n",
       "      <td>0.052756</td>\n",
       "    </tr>\n",
       "    <tr>\n",
       "      <td>last_fico_range_high</td>\n",
       "      <td>0.021881</td>\n",
       "      <td>0.021881</td>\n",
       "      <td>0.021924</td>\n",
       "      <td>-0.082793</td>\n",
       "      <td>-0.348806</td>\n",
       "      <td>-0.004779</td>\n",
       "      <td>0.040397</td>\n",
       "      <td>0.064460</td>\n",
       "      <td>-0.070373</td>\n",
       "      <td>0.369687</td>\n",
       "      <td>...</td>\n",
       "      <td>-0.040604</td>\n",
       "      <td>-0.105637</td>\n",
       "      <td>0.105559</td>\n",
       "      <td>-0.178195</td>\n",
       "      <td>-0.058159</td>\n",
       "      <td>-0.021791</td>\n",
       "      <td>0.152178</td>\n",
       "      <td>0.026381</td>\n",
       "      <td>0.205185</td>\n",
       "      <td>0.030921</td>\n",
       "    </tr>\n",
       "    <tr>\n",
       "      <td>last_fico_range_low</td>\n",
       "      <td>0.028634</td>\n",
       "      <td>0.028634</td>\n",
       "      <td>0.028677</td>\n",
       "      <td>-0.059141</td>\n",
       "      <td>-0.265118</td>\n",
       "      <td>0.008290</td>\n",
       "      <td>0.041104</td>\n",
       "      <td>0.060022</td>\n",
       "      <td>-0.039856</td>\n",
       "      <td>0.254718</td>\n",
       "      <td>...</td>\n",
       "      <td>-0.020706</td>\n",
       "      <td>-0.070173</td>\n",
       "      <td>0.053884</td>\n",
       "      <td>-0.120771</td>\n",
       "      <td>-0.035460</td>\n",
       "      <td>-0.017784</td>\n",
       "      <td>0.139483</td>\n",
       "      <td>0.049647</td>\n",
       "      <td>0.149769</td>\n",
       "      <td>0.053911</td>\n",
       "    </tr>\n",
       "    <tr>\n",
       "      <td>collections_12_mths_ex_med</td>\n",
       "      <td>-0.019551</td>\n",
       "      <td>-0.019551</td>\n",
       "      <td>-0.019570</td>\n",
       "      <td>-0.007822</td>\n",
       "      <td>0.014067</td>\n",
       "      <td>-0.016311</td>\n",
       "      <td>-0.007990</td>\n",
       "      <td>-0.007598</td>\n",
       "      <td>-0.006342</td>\n",
       "      <td>-0.078264</td>\n",
       "      <td>...</td>\n",
       "      <td>0.124498</td>\n",
       "      <td>0.012950</td>\n",
       "      <td>-0.041753</td>\n",
       "      <td>-0.028031</td>\n",
       "      <td>-0.008078</td>\n",
       "      <td>0.007789</td>\n",
       "      <td>-0.015704</td>\n",
       "      <td>-0.012019</td>\n",
       "      <td>-0.030007</td>\n",
       "      <td>-0.001680</td>\n",
       "    </tr>\n",
       "    <tr>\n",
       "      <td>acc_now_delinq</td>\n",
       "      <td>0.001097</td>\n",
       "      <td>0.001097</td>\n",
       "      <td>0.001072</td>\n",
       "      <td>-0.003484</td>\n",
       "      <td>0.005268</td>\n",
       "      <td>0.002873</td>\n",
       "      <td>0.010853</td>\n",
       "      <td>0.012692</td>\n",
       "      <td>-0.001663</td>\n",
       "      <td>-0.041668</td>\n",
       "      <td>...</td>\n",
       "      <td>0.056850</td>\n",
       "      <td>-0.007060</td>\n",
       "      <td>-0.048179</td>\n",
       "      <td>-0.026060</td>\n",
       "      <td>-0.011823</td>\n",
       "      <td>0.006829</td>\n",
       "      <td>0.028232</td>\n",
       "      <td>0.008449</td>\n",
       "      <td>0.011368</td>\n",
       "      <td>0.014822</td>\n",
       "    </tr>\n",
       "    <tr>\n",
       "      <td>tot_coll_amt</td>\n",
       "      <td>-0.017210</td>\n",
       "      <td>-0.017210</td>\n",
       "      <td>-0.017228</td>\n",
       "      <td>-0.008731</td>\n",
       "      <td>0.006803</td>\n",
       "      <td>-0.014114</td>\n",
       "      <td>0.001150</td>\n",
       "      <td>-0.001945</td>\n",
       "      <td>-0.009014</td>\n",
       "      <td>-0.070424</td>\n",
       "      <td>...</td>\n",
       "      <td>0.002856</td>\n",
       "      <td>0.018633</td>\n",
       "      <td>-0.049356</td>\n",
       "      <td>-0.025749</td>\n",
       "      <td>0.003026</td>\n",
       "      <td>0.010558</td>\n",
       "      <td>-0.010897</td>\n",
       "      <td>-0.011421</td>\n",
       "      <td>-0.032863</td>\n",
       "      <td>-0.001952</td>\n",
       "    </tr>\n",
       "    <tr>\n",
       "      <td>tot_cur_bal</td>\n",
       "      <td>0.302851</td>\n",
       "      <td>0.302851</td>\n",
       "      <td>0.302892</td>\n",
       "      <td>0.103331</td>\n",
       "      <td>-0.081411</td>\n",
       "      <td>0.266939</td>\n",
       "      <td>0.119825</td>\n",
       "      <td>0.370632</td>\n",
       "      <td>0.013815</td>\n",
       "      <td>0.111813</td>\n",
       "      <td>...</td>\n",
       "      <td>0.003539</td>\n",
       "      <td>0.099711</td>\n",
       "      <td>0.010657</td>\n",
       "      <td>0.049435</td>\n",
       "      <td>-0.092489</td>\n",
       "      <td>-0.003734</td>\n",
       "      <td>0.965410</td>\n",
       "      <td>0.517340</td>\n",
       "      <td>0.309101</td>\n",
       "      <td>0.418698</td>\n",
       "    </tr>\n",
       "    <tr>\n",
       "      <td>open_act_il</td>\n",
       "      <td>0.032155</td>\n",
       "      <td>0.032155</td>\n",
       "      <td>0.032136</td>\n",
       "      <td>0.034981</td>\n",
       "      <td>0.033647</td>\n",
       "      <td>0.028944</td>\n",
       "      <td>-0.061235</td>\n",
       "      <td>0.064694</td>\n",
       "      <td>0.162316</td>\n",
       "      <td>-0.014137</td>\n",
       "      <td>...</td>\n",
       "      <td>0.062481</td>\n",
       "      <td>0.122484</td>\n",
       "      <td>-0.013495</td>\n",
       "      <td>0.042223</td>\n",
       "      <td>-0.028425</td>\n",
       "      <td>-0.011568</td>\n",
       "      <td>0.132194</td>\n",
       "      <td>0.478780</td>\n",
       "      <td>-0.017569</td>\n",
       "      <td>0.549629</td>\n",
       "    </tr>\n",
       "    <tr>\n",
       "      <td>open_il_12m</td>\n",
       "      <td>0.003835</td>\n",
       "      <td>0.003835</td>\n",
       "      <td>0.003814</td>\n",
       "      <td>0.040385</td>\n",
       "      <td>0.189657</td>\n",
       "      <td>0.019963</td>\n",
       "      <td>0.049371</td>\n",
       "      <td>0.081081</td>\n",
       "      <td>0.124568</td>\n",
       "      <td>-0.019937</td>\n",
       "      <td>...</td>\n",
       "      <td>-0.001809</td>\n",
       "      <td>0.559356</td>\n",
       "      <td>0.025347</td>\n",
       "      <td>-0.068778</td>\n",
       "      <td>0.045381</td>\n",
       "      <td>0.006449</td>\n",
       "      <td>0.100448</td>\n",
       "      <td>0.241179</td>\n",
       "      <td>-0.035422</td>\n",
       "      <td>0.283385</td>\n",
       "    </tr>\n",
       "    <tr>\n",
       "      <td>open_il_24m</td>\n",
       "      <td>0.033948</td>\n",
       "      <td>0.033948</td>\n",
       "      <td>0.033927</td>\n",
       "      <td>0.061504</td>\n",
       "      <td>0.169121</td>\n",
       "      <td>0.043702</td>\n",
       "      <td>0.063203</td>\n",
       "      <td>0.104205</td>\n",
       "      <td>0.170641</td>\n",
       "      <td>-0.016317</td>\n",
       "      <td>...</td>\n",
       "      <td>-0.022332</td>\n",
       "      <td>0.429027</td>\n",
       "      <td>0.064544</td>\n",
       "      <td>-0.052083</td>\n",
       "      <td>0.052110</td>\n",
       "      <td>0.003961</td>\n",
       "      <td>0.135242</td>\n",
       "      <td>0.306727</td>\n",
       "      <td>-0.026379</td>\n",
       "      <td>0.372282</td>\n",
       "    </tr>\n",
       "    <tr>\n",
       "      <td>mths_since_rcnt_il</td>\n",
       "      <td>-0.016274</td>\n",
       "      <td>-0.016274</td>\n",
       "      <td>-0.016258</td>\n",
       "      <td>-0.041710</td>\n",
       "      <td>-0.097591</td>\n",
       "      <td>-0.020590</td>\n",
       "      <td>-0.042116</td>\n",
       "      <td>-0.064374</td>\n",
       "      <td>-0.159082</td>\n",
       "      <td>-0.008979</td>\n",
       "      <td>...</td>\n",
       "      <td>0.013921</td>\n",
       "      <td>-0.248101</td>\n",
       "      <td>-0.062983</td>\n",
       "      <td>0.047285</td>\n",
       "      <td>-0.033596</td>\n",
       "      <td>0.001590</td>\n",
       "      <td>-0.087726</td>\n",
       "      <td>-0.189968</td>\n",
       "      <td>0.012708</td>\n",
       "      <td>-0.249409</td>\n",
       "    </tr>\n",
       "    <tr>\n",
       "      <td>total_bal_il</td>\n",
       "      <td>0.158961</td>\n",
       "      <td>0.158961</td>\n",
       "      <td>0.158949</td>\n",
       "      <td>0.077770</td>\n",
       "      <td>0.037410</td>\n",
       "      <td>0.147926</td>\n",
       "      <td>-0.003073</td>\n",
       "      <td>0.200246</td>\n",
       "      <td>0.181542</td>\n",
       "      <td>0.011531</td>\n",
       "      <td>...</td>\n",
       "      <td>0.037793</td>\n",
       "      <td>0.156654</td>\n",
       "      <td>0.006291</td>\n",
       "      <td>0.015374</td>\n",
       "      <td>-0.027450</td>\n",
       "      <td>0.001078</td>\n",
       "      <td>0.351538</td>\n",
       "      <td>0.900623</td>\n",
       "      <td>0.082054</td>\n",
       "      <td>0.957726</td>\n",
       "    </tr>\n",
       "    <tr>\n",
       "      <td>open_rv_12m</td>\n",
       "      <td>-0.036012</td>\n",
       "      <td>-0.036012</td>\n",
       "      <td>-0.036053</td>\n",
       "      <td>-0.015481</td>\n",
       "      <td>0.147988</td>\n",
       "      <td>-0.010725</td>\n",
       "      <td>0.009649</td>\n",
       "      <td>-0.003237</td>\n",
       "      <td>-0.001656</td>\n",
       "      <td>-0.108723</td>\n",
       "      <td>...</td>\n",
       "      <td>0.000723</td>\n",
       "      <td>0.838711</td>\n",
       "      <td>0.006950</td>\n",
       "      <td>-0.163660</td>\n",
       "      <td>0.079932</td>\n",
       "      <td>0.021059</td>\n",
       "      <td>-0.007102</td>\n",
       "      <td>-0.002879</td>\n",
       "      <td>0.094967</td>\n",
       "      <td>-0.016567</td>\n",
       "    </tr>\n",
       "    <tr>\n",
       "      <td>open_rv_24m</td>\n",
       "      <td>-0.018571</td>\n",
       "      <td>-0.018571</td>\n",
       "      <td>-0.018618</td>\n",
       "      <td>-0.007046</td>\n",
       "      <td>0.155773</td>\n",
       "      <td>0.007686</td>\n",
       "      <td>0.004701</td>\n",
       "      <td>-0.010015</td>\n",
       "      <td>0.021881</td>\n",
       "      <td>-0.132671</td>\n",
       "      <td>...</td>\n",
       "      <td>-0.022202</td>\n",
       "      <td>0.655155</td>\n",
       "      <td>0.040625</td>\n",
       "      <td>-0.162707</td>\n",
       "      <td>0.111763</td>\n",
       "      <td>0.024318</td>\n",
       "      <td>-0.021566</td>\n",
       "      <td>-0.002203</td>\n",
       "      <td>0.113809</td>\n",
       "      <td>-0.020119</td>\n",
       "    </tr>\n",
       "    <tr>\n",
       "      <td>max_bal_bc</td>\n",
       "      <td>0.352611</td>\n",
       "      <td>0.352611</td>\n",
       "      <td>0.352623</td>\n",
       "      <td>0.089209</td>\n",
       "      <td>-0.044168</td>\n",
       "      <td>0.330738</td>\n",
       "      <td>0.071347</td>\n",
       "      <td>0.246513</td>\n",
       "      <td>0.080815</td>\n",
       "      <td>0.047194</td>\n",
       "      <td>...</td>\n",
       "      <td>-0.046327</td>\n",
       "      <td>-0.095612</td>\n",
       "      <td>0.128981</td>\n",
       "      <td>0.206680</td>\n",
       "      <td>-0.127864</td>\n",
       "      <td>-0.020046</td>\n",
       "      <td>0.346031</td>\n",
       "      <td>0.331243</td>\n",
       "      <td>0.574207</td>\n",
       "      <td>0.146042</td>\n",
       "    </tr>\n",
       "    <tr>\n",
       "      <td>all_util</td>\n",
       "      <td>0.014959</td>\n",
       "      <td>0.014959</td>\n",
       "      <td>0.014938</td>\n",
       "      <td>0.049647</td>\n",
       "      <td>0.251880</td>\n",
       "      <td>0.037409</td>\n",
       "      <td>-0.015123</td>\n",
       "      <td>0.007240</td>\n",
       "      <td>0.159151</td>\n",
       "      <td>-0.414033</td>\n",
       "      <td>...</td>\n",
       "      <td>0.031767</td>\n",
       "      <td>-0.041784</td>\n",
       "      <td>-0.076382</td>\n",
       "      <td>0.483346</td>\n",
       "      <td>-0.017558</td>\n",
       "      <td>-0.001896</td>\n",
       "      <td>0.016255</td>\n",
       "      <td>0.294122</td>\n",
       "      <td>-0.284962</td>\n",
       "      <td>0.234326</td>\n",
       "    </tr>\n",
       "    <tr>\n",
       "      <td>total_cu_tl</td>\n",
       "      <td>0.070039</td>\n",
       "      <td>0.070039</td>\n",
       "      <td>0.070028</td>\n",
       "      <td>0.053014</td>\n",
       "      <td>0.018880</td>\n",
       "      <td>0.060262</td>\n",
       "      <td>0.083008</td>\n",
       "      <td>0.043233</td>\n",
       "      <td>0.090899</td>\n",
       "      <td>-0.001915</td>\n",
       "      <td>...</td>\n",
       "      <td>-0.002247</td>\n",
       "      <td>0.120238</td>\n",
       "      <td>0.046449</td>\n",
       "      <td>0.007579</td>\n",
       "      <td>0.017569</td>\n",
       "      <td>-0.014252</td>\n",
       "      <td>0.114659</td>\n",
       "      <td>0.121609</td>\n",
       "      <td>-0.031933</td>\n",
       "      <td>0.142088</td>\n",
       "    </tr>\n",
       "    <tr>\n",
       "      <td>acc_open_past_24mths</td>\n",
       "      <td>0.019825</td>\n",
       "      <td>0.019825</td>\n",
       "      <td>0.019782</td>\n",
       "      <td>0.035281</td>\n",
       "      <td>0.204571</td>\n",
       "      <td>0.042716</td>\n",
       "      <td>0.039987</td>\n",
       "      <td>0.061628</td>\n",
       "      <td>0.095395</td>\n",
       "      <td>-0.108139</td>\n",
       "      <td>...</td>\n",
       "      <td>-0.033396</td>\n",
       "      <td>0.771219</td>\n",
       "      <td>0.073154</td>\n",
       "      <td>-0.162042</td>\n",
       "      <td>0.114943</td>\n",
       "      <td>0.020068</td>\n",
       "      <td>0.115618</td>\n",
       "      <td>0.163096</td>\n",
       "      <td>0.091847</td>\n",
       "      <td>0.181390</td>\n",
       "    </tr>\n",
       "    <tr>\n",
       "      <td>avg_cur_bal</td>\n",
       "      <td>0.217032</td>\n",
       "      <td>0.217032</td>\n",
       "      <td>0.217086</td>\n",
       "      <td>0.075996</td>\n",
       "      <td>-0.088055</td>\n",
       "      <td>0.185400</td>\n",
       "      <td>0.095495</td>\n",
       "      <td>0.282856</td>\n",
       "      <td>-0.066925</td>\n",
       "      <td>0.104163</td>\n",
       "      <td>...</td>\n",
       "      <td>0.004162</td>\n",
       "      <td>-0.047148</td>\n",
       "      <td>-0.044784</td>\n",
       "      <td>0.075649</td>\n",
       "      <td>-0.080298</td>\n",
       "      <td>-0.000551</td>\n",
       "      <td>0.783266</td>\n",
       "      <td>0.286957</td>\n",
       "      <td>0.120469</td>\n",
       "      <td>0.215608</td>\n",
       "    </tr>\n",
       "    <tr>\n",
       "      <td>bc_open_to_buy</td>\n",
       "      <td>0.185704</td>\n",
       "      <td>0.185704</td>\n",
       "      <td>0.185731</td>\n",
       "      <td>0.019390</td>\n",
       "      <td>-0.243405</td>\n",
       "      <td>0.147176</td>\n",
       "      <td>0.021707</td>\n",
       "      <td>0.150397</td>\n",
       "      <td>-0.060600</td>\n",
       "      <td>0.506944</td>\n",
       "      <td>...</td>\n",
       "      <td>-0.043693</td>\n",
       "      <td>0.117209</td>\n",
       "      <td>0.163457</td>\n",
       "      <td>-0.423756</td>\n",
       "      <td>-0.098489</td>\n",
       "      <td>-0.018768</td>\n",
       "      <td>0.257671</td>\n",
       "      <td>0.106683</td>\n",
       "      <td>0.839917</td>\n",
       "      <td>0.064975</td>\n",
       "    </tr>\n",
       "    <tr>\n",
       "      <td>bc_util</td>\n",
       "      <td>0.067797</td>\n",
       "      <td>0.067797</td>\n",
       "      <td>0.067774</td>\n",
       "      <td>0.042180</td>\n",
       "      <td>0.219425</td>\n",
       "      <td>0.091508</td>\n",
       "      <td>0.040460</td>\n",
       "      <td>0.010077</td>\n",
       "      <td>0.144084</td>\n",
       "      <td>-0.481709</td>\n",
       "      <td>...</td>\n",
       "      <td>-0.010478</td>\n",
       "      <td>-0.184813</td>\n",
       "      <td>-0.039465</td>\n",
       "      <td>0.845333</td>\n",
       "      <td>-0.019455</td>\n",
       "      <td>-0.005401</td>\n",
       "      <td>0.005411</td>\n",
       "      <td>0.102191</td>\n",
       "      <td>-0.238800</td>\n",
       "      <td>0.036590</td>\n",
       "    </tr>\n",
       "    <tr>\n",
       "      <td>chargeoff_within_12_mths</td>\n",
       "      <td>-0.002306</td>\n",
       "      <td>-0.002306</td>\n",
       "      <td>-0.002317</td>\n",
       "      <td>-0.003023</td>\n",
       "      <td>0.006233</td>\n",
       "      <td>-0.000664</td>\n",
       "      <td>0.006293</td>\n",
       "      <td>0.004338</td>\n",
       "      <td>-0.002197</td>\n",
       "      <td>-0.052327</td>\n",
       "      <td>...</td>\n",
       "      <td>0.221950</td>\n",
       "      <td>-0.001425</td>\n",
       "      <td>-0.080140</td>\n",
       "      <td>-0.010095</td>\n",
       "      <td>-0.015201</td>\n",
       "      <td>-0.001650</td>\n",
       "      <td>0.004728</td>\n",
       "      <td>-0.004086</td>\n",
       "      <td>-0.017958</td>\n",
       "      <td>0.003398</td>\n",
       "    </tr>\n",
       "    <tr>\n",
       "      <td>mo_sin_old_il_acct</td>\n",
       "      <td>0.107342</td>\n",
       "      <td>0.107342</td>\n",
       "      <td>0.107350</td>\n",
       "      <td>0.056295</td>\n",
       "      <td>-0.066163</td>\n",
       "      <td>0.085472</td>\n",
       "      <td>0.108498</td>\n",
       "      <td>0.099566</td>\n",
       "      <td>0.037231</td>\n",
       "      <td>0.005941</td>\n",
       "      <td>...</td>\n",
       "      <td>0.052545</td>\n",
       "      <td>0.024400</td>\n",
       "      <td>-0.107421</td>\n",
       "      <td>0.053451</td>\n",
       "      <td>0.031736</td>\n",
       "      <td>0.015213</td>\n",
       "      <td>0.164817</td>\n",
       "      <td>0.208074</td>\n",
       "      <td>0.070114</td>\n",
       "      <td>0.216269</td>\n",
       "    </tr>\n",
       "    <tr>\n",
       "      <td>mo_sin_old_rev_tl_op</td>\n",
       "      <td>0.146602</td>\n",
       "      <td>0.146602</td>\n",
       "      <td>0.146616</td>\n",
       "      <td>0.038080</td>\n",
       "      <td>-0.130921</td>\n",
       "      <td>0.121624</td>\n",
       "      <td>0.111624</td>\n",
       "      <td>0.116967</td>\n",
       "      <td>0.031902</td>\n",
       "      <td>0.117453</td>\n",
       "      <td>...</td>\n",
       "      <td>0.023399</td>\n",
       "      <td>-0.012330</td>\n",
       "      <td>-0.069489</td>\n",
       "      <td>0.026793</td>\n",
       "      <td>0.048636</td>\n",
       "      <td>0.008809</td>\n",
       "      <td>0.207414</td>\n",
       "      <td>0.100241</td>\n",
       "      <td>0.251534</td>\n",
       "      <td>0.033436</td>\n",
       "    </tr>\n",
       "    <tr>\n",
       "      <td>mo_sin_rcnt_rev_tl_op</td>\n",
       "      <td>0.034083</td>\n",
       "      <td>0.034083</td>\n",
       "      <td>0.034117</td>\n",
       "      <td>0.007848</td>\n",
       "      <td>-0.100513</td>\n",
       "      <td>0.016295</td>\n",
       "      <td>0.012356</td>\n",
       "      <td>0.025114</td>\n",
       "      <td>-0.016820</td>\n",
       "      <td>0.102437</td>\n",
       "      <td>...</td>\n",
       "      <td>0.010627</td>\n",
       "      <td>-0.404504</td>\n",
       "      <td>-0.033861</td>\n",
       "      <td>0.118868</td>\n",
       "      <td>-0.080005</td>\n",
       "      <td>-0.008746</td>\n",
       "      <td>0.024459</td>\n",
       "      <td>0.007884</td>\n",
       "      <td>-0.044272</td>\n",
       "      <td>0.007695</td>\n",
       "    </tr>\n",
       "    <tr>\n",
       "      <td>mo_sin_rcnt_tl</td>\n",
       "      <td>0.015520</td>\n",
       "      <td>0.015520</td>\n",
       "      <td>0.015546</td>\n",
       "      <td>-0.017431</td>\n",
       "      <td>-0.124194</td>\n",
       "      <td>0.002555</td>\n",
       "      <td>-0.023405</td>\n",
       "      <td>-0.028868</td>\n",
       "      <td>-0.061310</td>\n",
       "      <td>0.066709</td>\n",
       "      <td>...</td>\n",
       "      <td>0.010522</td>\n",
       "      <td>-0.489991</td>\n",
       "      <td>-0.030124</td>\n",
       "      <td>0.121265</td>\n",
       "      <td>-0.065667</td>\n",
       "      <td>-0.009683</td>\n",
       "      <td>-0.070737</td>\n",
       "      <td>-0.088766</td>\n",
       "      <td>-0.025828</td>\n",
       "      <td>-0.110669</td>\n",
       "    </tr>\n",
       "    <tr>\n",
       "      <td>mort_acc</td>\n",
       "      <td>0.212000</td>\n",
       "      <td>0.212000</td>\n",
       "      <td>0.212041</td>\n",
       "      <td>0.089345</td>\n",
       "      <td>-0.112792</td>\n",
       "      <td>0.174358</td>\n",
       "      <td>0.157707</td>\n",
       "      <td>0.196837</td>\n",
       "      <td>-0.012528</td>\n",
       "      <td>0.105708</td>\n",
       "      <td>...</td>\n",
       "      <td>0.012476</td>\n",
       "      <td>0.067728</td>\n",
       "      <td>-0.015083</td>\n",
       "      <td>0.012069</td>\n",
       "      <td>-0.017227</td>\n",
       "      <td>-0.016712</td>\n",
       "      <td>0.544436</td>\n",
       "      <td>0.161547</td>\n",
       "      <td>0.215430</td>\n",
       "      <td>0.124355</td>\n",
       "    </tr>\n",
       "    <tr>\n",
       "      <td>mths_since_recent_bc</td>\n",
       "      <td>0.019630</td>\n",
       "      <td>0.019630</td>\n",
       "      <td>0.019668</td>\n",
       "      <td>0.007215</td>\n",
       "      <td>-0.092250</td>\n",
       "      <td>0.003083</td>\n",
       "      <td>0.022479</td>\n",
       "      <td>0.022045</td>\n",
       "      <td>-0.008621</td>\n",
       "      <td>0.078317</td>\n",
       "      <td>...</td>\n",
       "      <td>0.023900</td>\n",
       "      <td>-0.302006</td>\n",
       "      <td>-0.049797</td>\n",
       "      <td>0.144699</td>\n",
       "      <td>-0.061440</td>\n",
       "      <td>-0.006237</td>\n",
       "      <td>0.036353</td>\n",
       "      <td>0.014140</td>\n",
       "      <td>-0.100681</td>\n",
       "      <td>0.010533</td>\n",
       "    </tr>\n",
       "    <tr>\n",
       "      <td>num_accts_ever_120_pd</td>\n",
       "      <td>-0.041673</td>\n",
       "      <td>-0.041673</td>\n",
       "      <td>-0.041708</td>\n",
       "      <td>-0.016174</td>\n",
       "      <td>0.036635</td>\n",
       "      <td>-0.033158</td>\n",
       "      <td>0.005325</td>\n",
       "      <td>0.010851</td>\n",
       "      <td>-0.025608</td>\n",
       "      <td>-0.193050</td>\n",
       "      <td>...</td>\n",
       "      <td>0.320128</td>\n",
       "      <td>0.076213</td>\n",
       "      <td>-0.588266</td>\n",
       "      <td>-0.023193</td>\n",
       "      <td>-0.048445</td>\n",
       "      <td>0.009945</td>\n",
       "      <td>0.005237</td>\n",
       "      <td>0.032254</td>\n",
       "      <td>-0.119981</td>\n",
       "      <td>0.055111</td>\n",
       "    </tr>\n",
       "    <tr>\n",
       "      <td>num_actv_bc_tl</td>\n",
       "      <td>0.197155</td>\n",
       "      <td>0.197155</td>\n",
       "      <td>0.197122</td>\n",
       "      <td>0.051714</td>\n",
       "      <td>0.051725</td>\n",
       "      <td>0.200853</td>\n",
       "      <td>0.076234</td>\n",
       "      <td>0.106459</td>\n",
       "      <td>0.118944</td>\n",
       "      <td>-0.120830</td>\n",
       "      <td>...</td>\n",
       "      <td>-0.028882</td>\n",
       "      <td>0.199264</td>\n",
       "      <td>0.109645</td>\n",
       "      <td>0.038962</td>\n",
       "      <td>-0.053980</td>\n",
       "      <td>0.014250</td>\n",
       "      <td>0.141872</td>\n",
       "      <td>0.159222</td>\n",
       "      <td>0.481391</td>\n",
       "      <td>0.046571</td>\n",
       "    </tr>\n",
       "    <tr>\n",
       "      <td>num_actv_rev_tl</td>\n",
       "      <td>0.159398</td>\n",
       "      <td>0.159398</td>\n",
       "      <td>0.159355</td>\n",
       "      <td>0.055450</td>\n",
       "      <td>0.092839</td>\n",
       "      <td>0.166778</td>\n",
       "      <td>0.110878</td>\n",
       "      <td>0.078742</td>\n",
       "      <td>0.171679</td>\n",
       "      <td>-0.194822</td>\n",
       "      <td>...</td>\n",
       "      <td>-0.014051</td>\n",
       "      <td>0.288163</td>\n",
       "      <td>0.085705</td>\n",
       "      <td>0.099557</td>\n",
       "      <td>-0.001905</td>\n",
       "      <td>0.008872</td>\n",
       "      <td>0.132050</td>\n",
       "      <td>0.158010</td>\n",
       "      <td>0.302521</td>\n",
       "      <td>0.044894</td>\n",
       "    </tr>\n",
       "    <tr>\n",
       "      <td>num_bc_sats</td>\n",
       "      <td>0.217513</td>\n",
       "      <td>0.217513</td>\n",
       "      <td>0.217491</td>\n",
       "      <td>0.058574</td>\n",
       "      <td>-0.025517</td>\n",
       "      <td>0.207395</td>\n",
       "      <td>0.069734</td>\n",
       "      <td>0.122657</td>\n",
       "      <td>0.071320</td>\n",
       "      <td>0.062778</td>\n",
       "      <td>...</td>\n",
       "      <td>-0.023767</td>\n",
       "      <td>0.269023</td>\n",
       "      <td>0.140222</td>\n",
       "      <td>-0.150646</td>\n",
       "      <td>-0.062037</td>\n",
       "      <td>0.004347</td>\n",
       "      <td>0.181530</td>\n",
       "      <td>0.149171</td>\n",
       "      <td>0.620807</td>\n",
       "      <td>0.055659</td>\n",
       "    </tr>\n",
       "    <tr>\n",
       "      <td>num_bc_tl</td>\n",
       "      <td>0.197101</td>\n",
       "      <td>0.197101</td>\n",
       "      <td>0.197073</td>\n",
       "      <td>0.047984</td>\n",
       "      <td>-0.077065</td>\n",
       "      <td>0.182094</td>\n",
       "      <td>0.090977</td>\n",
       "      <td>0.128218</td>\n",
       "      <td>0.051856</td>\n",
       "      <td>0.073844</td>\n",
       "      <td>...</td>\n",
       "      <td>0.010321</td>\n",
       "      <td>0.260412</td>\n",
       "      <td>0.065240</td>\n",
       "      <td>-0.157611</td>\n",
       "      <td>-0.004538</td>\n",
       "      <td>-0.009497</td>\n",
       "      <td>0.199949</td>\n",
       "      <td>0.140825</td>\n",
       "      <td>0.539876</td>\n",
       "      <td>0.066578</td>\n",
       "    </tr>\n",
       "    <tr>\n",
       "      <td>num_il_tl</td>\n",
       "      <td>0.074557</td>\n",
       "      <td>0.074557</td>\n",
       "      <td>0.074537</td>\n",
       "      <td>0.065668</td>\n",
       "      <td>0.015168</td>\n",
       "      <td>0.061304</td>\n",
       "      <td>0.003593</td>\n",
       "      <td>0.093908</td>\n",
       "      <td>0.148537</td>\n",
       "      <td>-0.017943</td>\n",
       "      <td>...</td>\n",
       "      <td>0.075128</td>\n",
       "      <td>0.193666</td>\n",
       "      <td>-0.006209</td>\n",
       "      <td>0.018542</td>\n",
       "      <td>-0.009173</td>\n",
       "      <td>-0.015128</td>\n",
       "      <td>0.187042</td>\n",
       "      <td>0.505033</td>\n",
       "      <td>0.001221</td>\n",
       "      <td>0.569788</td>\n",
       "    </tr>\n",
       "    <tr>\n",
       "      <td>num_op_rev_tl</td>\n",
       "      <td>0.158490</td>\n",
       "      <td>0.158490</td>\n",
       "      <td>0.158461</td>\n",
       "      <td>0.049697</td>\n",
       "      <td>0.004829</td>\n",
       "      <td>0.154592</td>\n",
       "      <td>0.098311</td>\n",
       "      <td>0.077749</td>\n",
       "      <td>0.118923</td>\n",
       "      <td>0.013095</td>\n",
       "      <td>...</td>\n",
       "      <td>-0.022696</td>\n",
       "      <td>0.379874</td>\n",
       "      <td>0.131529</td>\n",
       "      <td>-0.134670</td>\n",
       "      <td>0.021009</td>\n",
       "      <td>0.000186</td>\n",
       "      <td>0.150137</td>\n",
       "      <td>0.139203</td>\n",
       "      <td>0.433881</td>\n",
       "      <td>0.058059</td>\n",
       "    </tr>\n",
       "    <tr>\n",
       "      <td>num_rev_accts</td>\n",
       "      <td>0.161299</td>\n",
       "      <td>0.161299</td>\n",
       "      <td>0.161270</td>\n",
       "      <td>0.048796</td>\n",
       "      <td>-0.056550</td>\n",
       "      <td>0.147985</td>\n",
       "      <td>0.116318</td>\n",
       "      <td>0.098235</td>\n",
       "      <td>0.091939</td>\n",
       "      <td>0.030252</td>\n",
       "      <td>...</td>\n",
       "      <td>0.023057</td>\n",
       "      <td>0.329591</td>\n",
       "      <td>0.053768</td>\n",
       "      <td>-0.119367</td>\n",
       "      <td>0.050759</td>\n",
       "      <td>-0.018935</td>\n",
       "      <td>0.191490</td>\n",
       "      <td>0.138532</td>\n",
       "      <td>0.389060</td>\n",
       "      <td>0.072308</td>\n",
       "    </tr>\n",
       "    <tr>\n",
       "      <td>num_rev_tl_bal_gt_0</td>\n",
       "      <td>0.155439</td>\n",
       "      <td>0.155439</td>\n",
       "      <td>0.155397</td>\n",
       "      <td>0.052372</td>\n",
       "      <td>0.093661</td>\n",
       "      <td>0.163896</td>\n",
       "      <td>0.111197</td>\n",
       "      <td>0.077176</td>\n",
       "      <td>0.175099</td>\n",
       "      <td>-0.195036</td>\n",
       "      <td>...</td>\n",
       "      <td>-0.021548</td>\n",
       "      <td>0.275268</td>\n",
       "      <td>0.090992</td>\n",
       "      <td>0.105815</td>\n",
       "      <td>-0.005062</td>\n",
       "      <td>0.010018</td>\n",
       "      <td>0.130309</td>\n",
       "      <td>0.162887</td>\n",
       "      <td>0.298762</td>\n",
       "      <td>0.047706</td>\n",
       "    </tr>\n",
       "    <tr>\n",
       "      <td>num_sats</td>\n",
       "      <td>0.175308</td>\n",
       "      <td>0.175308</td>\n",
       "      <td>0.175280</td>\n",
       "      <td>0.070148</td>\n",
       "      <td>0.009659</td>\n",
       "      <td>0.166247</td>\n",
       "      <td>0.066641</td>\n",
       "      <td>0.125957</td>\n",
       "      <td>0.184843</td>\n",
       "      <td>0.023303</td>\n",
       "      <td>...</td>\n",
       "      <td>0.014646</td>\n",
       "      <td>0.390400</td>\n",
       "      <td>0.101040</td>\n",
       "      <td>-0.085762</td>\n",
       "      <td>-0.016418</td>\n",
       "      <td>-0.006784</td>\n",
       "      <td>0.278217</td>\n",
       "      <td>0.394348</td>\n",
       "      <td>0.379155</td>\n",
       "      <td>0.357587</td>\n",
       "    </tr>\n",
       "    <tr>\n",
       "      <td>num_tl_120dpd_2m</td>\n",
       "      <td>0.001309</td>\n",
       "      <td>0.001309</td>\n",
       "      <td>0.001290</td>\n",
       "      <td>-0.001714</td>\n",
       "      <td>0.002042</td>\n",
       "      <td>0.001972</td>\n",
       "      <td>0.002331</td>\n",
       "      <td>0.007504</td>\n",
       "      <td>-0.005109</td>\n",
       "      <td>-0.017419</td>\n",
       "      <td>...</td>\n",
       "      <td>0.070735</td>\n",
       "      <td>-0.006740</td>\n",
       "      <td>-0.019313</td>\n",
       "      <td>-0.013424</td>\n",
       "      <td>-0.001958</td>\n",
       "      <td>0.006961</td>\n",
       "      <td>0.011283</td>\n",
       "      <td>0.003494</td>\n",
       "      <td>-0.000235</td>\n",
       "      <td>0.005501</td>\n",
       "    </tr>\n",
       "    <tr>\n",
       "      <td>num_tl_30dpd</td>\n",
       "      <td>0.002779</td>\n",
       "      <td>0.002779</td>\n",
       "      <td>0.002756</td>\n",
       "      <td>-0.002229</td>\n",
       "      <td>0.004487</td>\n",
       "      <td>0.003984</td>\n",
       "      <td>0.010495</td>\n",
       "      <td>0.010615</td>\n",
       "      <td>0.000820</td>\n",
       "      <td>-0.031172</td>\n",
       "      <td>...</td>\n",
       "      <td>0.005071</td>\n",
       "      <td>-0.006353</td>\n",
       "      <td>-0.037571</td>\n",
       "      <td>-0.018114</td>\n",
       "      <td>-0.014243</td>\n",
       "      <td>0.004934</td>\n",
       "      <td>0.024986</td>\n",
       "      <td>0.007398</td>\n",
       "      <td>0.013584</td>\n",
       "      <td>0.011638</td>\n",
       "    </tr>\n",
       "    <tr>\n",
       "      <td>num_tl_90g_dpd_24m</td>\n",
       "      <td>-0.016588</td>\n",
       "      <td>-0.016588</td>\n",
       "      <td>-0.016617</td>\n",
       "      <td>-0.009737</td>\n",
       "      <td>0.021062</td>\n",
       "      <td>-0.012232</td>\n",
       "      <td>-0.003538</td>\n",
       "      <td>0.003431</td>\n",
       "      <td>-0.012101</td>\n",
       "      <td>-0.099888</td>\n",
       "      <td>...</td>\n",
       "      <td>1.000000</td>\n",
       "      <td>-0.004222</td>\n",
       "      <td>-0.267928</td>\n",
       "      <td>-0.013438</td>\n",
       "      <td>-0.025200</td>\n",
       "      <td>0.001877</td>\n",
       "      <td>0.000124</td>\n",
       "      <td>0.017218</td>\n",
       "      <td>-0.058216</td>\n",
       "      <td>0.031985</td>\n",
       "    </tr>\n",
       "    <tr>\n",
       "      <td>num_tl_op_past_12m</td>\n",
       "      <td>-0.012628</td>\n",
       "      <td>-0.012628</td>\n",
       "      <td>-0.012667</td>\n",
       "      <td>0.016720</td>\n",
       "      <td>0.209866</td>\n",
       "      <td>0.013089</td>\n",
       "      <td>0.036481</td>\n",
       "      <td>0.052820</td>\n",
       "      <td>0.052378</td>\n",
       "      <td>-0.093862</td>\n",
       "      <td>...</td>\n",
       "      <td>-0.004222</td>\n",
       "      <td>1.000000</td>\n",
       "      <td>0.024363</td>\n",
       "      <td>-0.173828</td>\n",
       "      <td>0.087173</td>\n",
       "      <td>0.019169</td>\n",
       "      <td>0.102534</td>\n",
       "      <td>0.126843</td>\n",
       "      <td>0.069684</td>\n",
       "      <td>0.137445</td>\n",
       "    </tr>\n",
       "    <tr>\n",
       "      <td>pct_tl_nvr_dlq</td>\n",
       "      <td>0.067416</td>\n",
       "      <td>0.067416</td>\n",
       "      <td>0.067452</td>\n",
       "      <td>0.036496</td>\n",
       "      <td>-0.047944</td>\n",
       "      <td>0.052710</td>\n",
       "      <td>-0.017413</td>\n",
       "      <td>-0.001677</td>\n",
       "      <td>0.060422</td>\n",
       "      <td>0.295593</td>\n",
       "      <td>...</td>\n",
       "      <td>-0.267928</td>\n",
       "      <td>0.024363</td>\n",
       "      <td>1.000000</td>\n",
       "      <td>-0.021059</td>\n",
       "      <td>0.085867</td>\n",
       "      <td>-0.028302</td>\n",
       "      <td>0.022768</td>\n",
       "      <td>0.051010</td>\n",
       "      <td>0.205474</td>\n",
       "      <td>0.015651</td>\n",
       "    </tr>\n",
       "    <tr>\n",
       "      <td>percent_bc_gt_75</td>\n",
       "      <td>0.040105</td>\n",
       "      <td>0.040105</td>\n",
       "      <td>0.040094</td>\n",
       "      <td>0.038438</td>\n",
       "      <td>0.208784</td>\n",
       "      <td>0.061678</td>\n",
       "      <td>0.035376</td>\n",
       "      <td>-0.000280</td>\n",
       "      <td>0.126620</td>\n",
       "      <td>-0.402020</td>\n",
       "      <td>...</td>\n",
       "      <td>-0.013438</td>\n",
       "      <td>-0.173828</td>\n",
       "      <td>-0.021059</td>\n",
       "      <td>1.000000</td>\n",
       "      <td>-0.026666</td>\n",
       "      <td>-0.014085</td>\n",
       "      <td>0.006261</td>\n",
       "      <td>0.081260</td>\n",
       "      <td>-0.196066</td>\n",
       "      <td>0.027962</td>\n",
       "    </tr>\n",
       "    <tr>\n",
       "      <td>pub_rec_bankruptcies</td>\n",
       "      <td>-0.071035</td>\n",
       "      <td>-0.071035</td>\n",
       "      <td>-0.071069</td>\n",
       "      <td>-0.001897</td>\n",
       "      <td>0.054860</td>\n",
       "      <td>-0.062361</td>\n",
       "      <td>0.005385</td>\n",
       "      <td>-0.036212</td>\n",
       "      <td>-0.011358</td>\n",
       "      <td>-0.204450</td>\n",
       "      <td>...</td>\n",
       "      <td>-0.025200</td>\n",
       "      <td>0.087173</td>\n",
       "      <td>0.085867</td>\n",
       "      <td>-0.026666</td>\n",
       "      <td>1.000000</td>\n",
       "      <td>0.033330</td>\n",
       "      <td>-0.103202</td>\n",
       "      <td>-0.072844</td>\n",
       "      <td>-0.144747</td>\n",
       "      <td>-0.038176</td>\n",
       "    </tr>\n",
       "    <tr>\n",
       "      <td>tax_liens</td>\n",
       "      <td>0.013051</td>\n",
       "      <td>0.013051</td>\n",
       "      <td>0.013026</td>\n",
       "      <td>-0.007403</td>\n",
       "      <td>0.013929</td>\n",
       "      <td>0.018569</td>\n",
       "      <td>0.006460</td>\n",
       "      <td>0.034795</td>\n",
       "      <td>-0.024179</td>\n",
       "      <td>-0.059751</td>\n",
       "      <td>...</td>\n",
       "      <td>0.001877</td>\n",
       "      <td>0.019169</td>\n",
       "      <td>-0.028302</td>\n",
       "      <td>-0.014085</td>\n",
       "      <td>0.033330</td>\n",
       "      <td>1.000000</td>\n",
       "      <td>-0.003063</td>\n",
       "      <td>-0.002624</td>\n",
       "      <td>-0.024177</td>\n",
       "      <td>0.003038</td>\n",
       "    </tr>\n",
       "    <tr>\n",
       "      <td>tot_hi_cred_lim</td>\n",
       "      <td>0.321291</td>\n",
       "      <td>0.321291</td>\n",
       "      <td>0.321331</td>\n",
       "      <td>0.099962</td>\n",
       "      <td>-0.111792</td>\n",
       "      <td>0.282410</td>\n",
       "      <td>0.130405</td>\n",
       "      <td>0.381463</td>\n",
       "      <td>0.020597</td>\n",
       "      <td>0.174649</td>\n",
       "      <td>...</td>\n",
       "      <td>0.000124</td>\n",
       "      <td>0.102534</td>\n",
       "      <td>0.022768</td>\n",
       "      <td>0.006261</td>\n",
       "      <td>-0.103202</td>\n",
       "      <td>-0.003063</td>\n",
       "      <td>1.000000</td>\n",
       "      <td>0.497787</td>\n",
       "      <td>0.391691</td>\n",
       "      <td>0.409692</td>\n",
       "    </tr>\n",
       "    <tr>\n",
       "      <td>total_bal_ex_mort</td>\n",
       "      <td>0.272144</td>\n",
       "      <td>0.272144</td>\n",
       "      <td>0.272133</td>\n",
       "      <td>0.097948</td>\n",
       "      <td>0.027587</td>\n",
       "      <td>0.256854</td>\n",
       "      <td>0.035935</td>\n",
       "      <td>0.296553</td>\n",
       "      <td>0.199963</td>\n",
       "      <td>0.012666</td>\n",
       "      <td>...</td>\n",
       "      <td>0.017218</td>\n",
       "      <td>0.126843</td>\n",
       "      <td>0.051010</td>\n",
       "      <td>0.081260</td>\n",
       "      <td>-0.072844</td>\n",
       "      <td>-0.002624</td>\n",
       "      <td>0.497787</td>\n",
       "      <td>1.000000</td>\n",
       "      <td>0.276939</td>\n",
       "      <td>0.885190</td>\n",
       "    </tr>\n",
       "    <tr>\n",
       "      <td>total_bc_limit</td>\n",
       "      <td>0.346212</td>\n",
       "      <td>0.346212</td>\n",
       "      <td>0.346230</td>\n",
       "      <td>0.065304</td>\n",
       "      <td>-0.184343</td>\n",
       "      <td>0.309070</td>\n",
       "      <td>0.065046</td>\n",
       "      <td>0.253515</td>\n",
       "      <td>0.019644</td>\n",
       "      <td>0.358986</td>\n",
       "      <td>...</td>\n",
       "      <td>-0.058216</td>\n",
       "      <td>0.069684</td>\n",
       "      <td>0.205474</td>\n",
       "      <td>-0.196066</td>\n",
       "      <td>-0.144747</td>\n",
       "      <td>-0.024177</td>\n",
       "      <td>0.391691</td>\n",
       "      <td>0.276939</td>\n",
       "      <td>1.000000</td>\n",
       "      <td>0.128331</td>\n",
       "    </tr>\n",
       "    <tr>\n",
       "      <td>total_il_high_credit_limit</td>\n",
       "      <td>0.214384</td>\n",
       "      <td>0.214384</td>\n",
       "      <td>0.214363</td>\n",
       "      <td>0.086330</td>\n",
       "      <td>0.014440</td>\n",
       "      <td>0.199471</td>\n",
       "      <td>0.028173</td>\n",
       "      <td>0.253781</td>\n",
       "      <td>0.225889</td>\n",
       "      <td>0.052759</td>\n",
       "      <td>...</td>\n",
       "      <td>0.031985</td>\n",
       "      <td>0.137445</td>\n",
       "      <td>0.015651</td>\n",
       "      <td>0.027962</td>\n",
       "      <td>-0.038176</td>\n",
       "      <td>0.003038</td>\n",
       "      <td>0.409692</td>\n",
       "      <td>0.885190</td>\n",
       "      <td>0.128331</td>\n",
       "      <td>1.000000</td>\n",
       "    </tr>\n",
       "  </tbody>\n",
       "</table>\n",
       "<p>60 rows × 60 columns</p>\n",
       "</div>"
      ],
      "text/plain": [
       "                            loan_amnt  funded_amnt  funded_amnt_inv      term  \\\n",
       "loan_amnt                    1.000000     1.000000         0.999993  0.373470   \n",
       "funded_amnt                  1.000000     1.000000         0.999993  0.373470   \n",
       "funded_amnt_inv              0.999993     0.999993         1.000000  0.373709   \n",
       "term                         0.373470     0.373470         0.373709  1.000000   \n",
       "int_rate                     0.172861     0.172861         0.172877  0.394703   \n",
       "installment                  0.954403     0.954403         0.954306  0.148465   \n",
       "emp_length                   0.100000     0.100000         0.100052  0.057616   \n",
       "annual_inc                   0.288178     0.288178         0.288192  0.053819   \n",
       "dti                          0.036103     0.036103         0.036040  0.048137   \n",
       "fico_range_low               0.073641     0.073641         0.073757  0.003056   \n",
       "fico_range_high              0.073642     0.073642         0.073758  0.003056   \n",
       "last_fico_range_high         0.021881     0.021881         0.021924 -0.082793   \n",
       "last_fico_range_low          0.028634     0.028634         0.028677 -0.059141   \n",
       "collections_12_mths_ex_med  -0.019551    -0.019551        -0.019570 -0.007822   \n",
       "acc_now_delinq               0.001097     0.001097         0.001072 -0.003484   \n",
       "tot_coll_amt                -0.017210    -0.017210        -0.017228 -0.008731   \n",
       "tot_cur_bal                  0.302851     0.302851         0.302892  0.103331   \n",
       "open_act_il                  0.032155     0.032155         0.032136  0.034981   \n",
       "open_il_12m                  0.003835     0.003835         0.003814  0.040385   \n",
       "open_il_24m                  0.033948     0.033948         0.033927  0.061504   \n",
       "mths_since_rcnt_il          -0.016274    -0.016274        -0.016258 -0.041710   \n",
       "total_bal_il                 0.158961     0.158961         0.158949  0.077770   \n",
       "open_rv_12m                 -0.036012    -0.036012        -0.036053 -0.015481   \n",
       "open_rv_24m                 -0.018571    -0.018571        -0.018618 -0.007046   \n",
       "max_bal_bc                   0.352611     0.352611         0.352623  0.089209   \n",
       "all_util                     0.014959     0.014959         0.014938  0.049647   \n",
       "total_cu_tl                  0.070039     0.070039         0.070028  0.053014   \n",
       "acc_open_past_24mths         0.019825     0.019825         0.019782  0.035281   \n",
       "avg_cur_bal                  0.217032     0.217032         0.217086  0.075996   \n",
       "bc_open_to_buy               0.185704     0.185704         0.185731  0.019390   \n",
       "bc_util                      0.067797     0.067797         0.067774  0.042180   \n",
       "chargeoff_within_12_mths    -0.002306    -0.002306        -0.002317 -0.003023   \n",
       "mo_sin_old_il_acct           0.107342     0.107342         0.107350  0.056295   \n",
       "mo_sin_old_rev_tl_op         0.146602     0.146602         0.146616  0.038080   \n",
       "mo_sin_rcnt_rev_tl_op        0.034083     0.034083         0.034117  0.007848   \n",
       "mo_sin_rcnt_tl               0.015520     0.015520         0.015546 -0.017431   \n",
       "mort_acc                     0.212000     0.212000         0.212041  0.089345   \n",
       "mths_since_recent_bc         0.019630     0.019630         0.019668  0.007215   \n",
       "num_accts_ever_120_pd       -0.041673    -0.041673        -0.041708 -0.016174   \n",
       "num_actv_bc_tl               0.197155     0.197155         0.197122  0.051714   \n",
       "num_actv_rev_tl              0.159398     0.159398         0.159355  0.055450   \n",
       "num_bc_sats                  0.217513     0.217513         0.217491  0.058574   \n",
       "num_bc_tl                    0.197101     0.197101         0.197073  0.047984   \n",
       "num_il_tl                    0.074557     0.074557         0.074537  0.065668   \n",
       "num_op_rev_tl                0.158490     0.158490         0.158461  0.049697   \n",
       "num_rev_accts                0.161299     0.161299         0.161270  0.048796   \n",
       "num_rev_tl_bal_gt_0          0.155439     0.155439         0.155397  0.052372   \n",
       "num_sats                     0.175308     0.175308         0.175280  0.070148   \n",
       "num_tl_120dpd_2m             0.001309     0.001309         0.001290 -0.001714   \n",
       "num_tl_30dpd                 0.002779     0.002779         0.002756 -0.002229   \n",
       "num_tl_90g_dpd_24m          -0.016588    -0.016588        -0.016617 -0.009737   \n",
       "num_tl_op_past_12m          -0.012628    -0.012628        -0.012667  0.016720   \n",
       "pct_tl_nvr_dlq               0.067416     0.067416         0.067452  0.036496   \n",
       "percent_bc_gt_75             0.040105     0.040105         0.040094  0.038438   \n",
       "pub_rec_bankruptcies        -0.071035    -0.071035        -0.071069 -0.001897   \n",
       "tax_liens                    0.013051     0.013051         0.013026 -0.007403   \n",
       "tot_hi_cred_lim              0.321291     0.321291         0.321331  0.099962   \n",
       "total_bal_ex_mort            0.272144     0.272144         0.272133  0.097948   \n",
       "total_bc_limit               0.346212     0.346212         0.346230  0.065304   \n",
       "total_il_high_credit_limit   0.214384     0.214384         0.214363  0.086330   \n",
       "\n",
       "                            int_rate  installment  emp_length  annual_inc  \\\n",
       "loan_amnt                   0.172861     0.954403    0.100000    0.288178   \n",
       "funded_amnt                 0.172861     0.954403    0.100000    0.288178   \n",
       "funded_amnt_inv             0.172877     0.954306    0.100052    0.288192   \n",
       "term                        0.394703     0.148465    0.057616    0.053819   \n",
       "int_rate                    1.000000     0.216877   -0.018262   -0.070467   \n",
       "installment                 0.216877     1.000000    0.087354    0.270690   \n",
       "emp_length                 -0.018262     0.087354    1.000000    0.099267   \n",
       "annual_inc                 -0.070467     0.270690    0.099267    1.000000   \n",
       "dti                         0.151462     0.047308   -0.016195   -0.122219   \n",
       "fico_range_low             -0.356728     0.020625    0.008150    0.056449   \n",
       "fico_range_high            -0.356725     0.020626    0.008150    0.056448   \n",
       "last_fico_range_high       -0.348806    -0.004779    0.040397    0.064460   \n",
       "last_fico_range_low        -0.265118     0.008290    0.041104    0.060022   \n",
       "collections_12_mths_ex_med  0.014067    -0.016311   -0.007990   -0.007598   \n",
       "acc_now_delinq              0.005268     0.002873    0.010853    0.012692   \n",
       "tot_coll_amt                0.006803    -0.014114    0.001150   -0.001945   \n",
       "tot_cur_bal                -0.081411     0.266939    0.119825    0.370632   \n",
       "open_act_il                 0.033647     0.028944   -0.061235    0.064694   \n",
       "open_il_12m                 0.189657     0.019963    0.049371    0.081081   \n",
       "open_il_24m                 0.169121     0.043702    0.063203    0.104205   \n",
       "mths_since_rcnt_il         -0.097591    -0.020590   -0.042116   -0.064374   \n",
       "total_bal_il                0.037410     0.147926   -0.003073    0.200246   \n",
       "open_rv_12m                 0.147988    -0.010725    0.009649   -0.003237   \n",
       "open_rv_24m                 0.155773     0.007686    0.004701   -0.010015   \n",
       "max_bal_bc                 -0.044168     0.330738    0.071347    0.246513   \n",
       "all_util                    0.251880     0.037409   -0.015123    0.007240   \n",
       "total_cu_tl                 0.018880     0.060262    0.083008    0.043233   \n",
       "acc_open_past_24mths        0.204571     0.042716    0.039987    0.061628   \n",
       "avg_cur_bal                -0.088055     0.185400    0.095495    0.282856   \n",
       "bc_open_to_buy             -0.243405     0.147176    0.021707    0.150397   \n",
       "bc_util                     0.219425     0.091508    0.040460    0.010077   \n",
       "chargeoff_within_12_mths    0.006233    -0.000664    0.006293    0.004338   \n",
       "mo_sin_old_il_acct         -0.066163     0.085472    0.108498    0.099566   \n",
       "mo_sin_old_rev_tl_op       -0.130921     0.121624    0.111624    0.116967   \n",
       "mo_sin_rcnt_rev_tl_op      -0.100513     0.016295    0.012356    0.025114   \n",
       "mo_sin_rcnt_tl             -0.124194     0.002555   -0.023405   -0.028868   \n",
       "mort_acc                   -0.112792     0.174358    0.157707    0.196837   \n",
       "mths_since_recent_bc       -0.092250     0.003083    0.022479    0.022045   \n",
       "num_accts_ever_120_pd       0.036635    -0.033158    0.005325    0.010851   \n",
       "num_actv_bc_tl              0.051725     0.200853    0.076234    0.106459   \n",
       "num_actv_rev_tl             0.092839     0.166778    0.110878    0.078742   \n",
       "num_bc_sats                -0.025517     0.207395    0.069734    0.122657   \n",
       "num_bc_tl                  -0.077065     0.182094    0.090977    0.128218   \n",
       "num_il_tl                   0.015168     0.061304    0.003593    0.093908   \n",
       "num_op_rev_tl               0.004829     0.154592    0.098311    0.077749   \n",
       "num_rev_accts              -0.056550     0.147985    0.116318    0.098235   \n",
       "num_rev_tl_bal_gt_0         0.093661     0.163896    0.111197    0.077176   \n",
       "num_sats                    0.009659     0.166247    0.066641    0.125957   \n",
       "num_tl_120dpd_2m            0.002042     0.001972    0.002331    0.007504   \n",
       "num_tl_30dpd                0.004487     0.003984    0.010495    0.010615   \n",
       "num_tl_90g_dpd_24m          0.021062    -0.012232   -0.003538    0.003431   \n",
       "num_tl_op_past_12m          0.209866     0.013089    0.036481    0.052820   \n",
       "pct_tl_nvr_dlq             -0.047944     0.052710   -0.017413   -0.001677   \n",
       "percent_bc_gt_75            0.208784     0.061678    0.035376   -0.000280   \n",
       "pub_rec_bankruptcies        0.054860    -0.062361    0.005385   -0.036212   \n",
       "tax_liens                   0.013929     0.018569    0.006460    0.034795   \n",
       "tot_hi_cred_lim            -0.111792     0.282410    0.130405    0.381463   \n",
       "total_bal_ex_mort           0.027587     0.256854    0.035935    0.296553   \n",
       "total_bc_limit             -0.184343     0.309070    0.065046    0.253515   \n",
       "total_il_high_credit_limit  0.014440     0.199471    0.028173    0.253781   \n",
       "\n",
       "                                 dti  fico_range_low  ...  num_tl_90g_dpd_24m  \\\n",
       "loan_amnt                   0.036103        0.073641  ...           -0.016588   \n",
       "funded_amnt                 0.036103        0.073641  ...           -0.016588   \n",
       "funded_amnt_inv             0.036040        0.073757  ...           -0.016617   \n",
       "term                        0.048137        0.003056  ...           -0.009737   \n",
       "int_rate                    0.151462       -0.356728  ...            0.021062   \n",
       "installment                 0.047308        0.020625  ...           -0.012232   \n",
       "emp_length                 -0.016195        0.008150  ...           -0.003538   \n",
       "annual_inc                 -0.122219        0.056449  ...            0.003431   \n",
       "dti                         1.000000       -0.050191  ...           -0.012101   \n",
       "fico_range_low             -0.050191        1.000000  ...           -0.099888   \n",
       "fico_range_high            -0.050194        1.000000  ...           -0.099886   \n",
       "last_fico_range_high       -0.070373        0.369687  ...           -0.040604   \n",
       "last_fico_range_low        -0.039856        0.254718  ...           -0.020706   \n",
       "collections_12_mths_ex_med -0.006342       -0.078264  ...            0.124498   \n",
       "acc_now_delinq             -0.001663       -0.041668  ...            0.056850   \n",
       "tot_coll_amt               -0.009014       -0.070424  ...            0.002856   \n",
       "tot_cur_bal                 0.013815        0.111813  ...            0.003539   \n",
       "open_act_il                 0.162316       -0.014137  ...            0.062481   \n",
       "open_il_12m                 0.124568       -0.019937  ...           -0.001809   \n",
       "open_il_24m                 0.170641       -0.016317  ...           -0.022332   \n",
       "mths_since_rcnt_il         -0.159082       -0.008979  ...            0.013921   \n",
       "total_bal_il                0.181542        0.011531  ...            0.037793   \n",
       "open_rv_12m                -0.001656       -0.108723  ...            0.000723   \n",
       "open_rv_24m                 0.021881       -0.132671  ...           -0.022202   \n",
       "max_bal_bc                  0.080815        0.047194  ...           -0.046327   \n",
       "all_util                    0.159151       -0.414033  ...            0.031767   \n",
       "total_cu_tl                 0.090899       -0.001915  ...           -0.002247   \n",
       "acc_open_past_24mths        0.095395       -0.108139  ...           -0.033396   \n",
       "avg_cur_bal                -0.066925        0.104163  ...            0.004162   \n",
       "bc_open_to_buy             -0.060600        0.506944  ...           -0.043693   \n",
       "bc_util                     0.144084       -0.481709  ...           -0.010478   \n",
       "chargeoff_within_12_mths   -0.002197       -0.052327  ...            0.221950   \n",
       "mo_sin_old_il_acct          0.037231        0.005941  ...            0.052545   \n",
       "mo_sin_old_rev_tl_op        0.031902        0.117453  ...            0.023399   \n",
       "mo_sin_rcnt_rev_tl_op      -0.016820        0.102437  ...            0.010627   \n",
       "mo_sin_rcnt_tl             -0.061310        0.066709  ...            0.010522   \n",
       "mort_acc                   -0.012528        0.105708  ...            0.012476   \n",
       "mths_since_recent_bc       -0.008621        0.078317  ...            0.023900   \n",
       "num_accts_ever_120_pd      -0.025608       -0.193050  ...            0.320128   \n",
       "num_actv_bc_tl              0.118944       -0.120830  ...           -0.028882   \n",
       "num_actv_rev_tl             0.171679       -0.194822  ...           -0.014051   \n",
       "num_bc_sats                 0.071320        0.062778  ...           -0.023767   \n",
       "num_bc_tl                   0.051856        0.073844  ...            0.010321   \n",
       "num_il_tl                   0.148537       -0.017943  ...            0.075128   \n",
       "num_op_rev_tl               0.118923        0.013095  ...           -0.022696   \n",
       "num_rev_accts               0.091939        0.030252  ...            0.023057   \n",
       "num_rev_tl_bal_gt_0         0.175099       -0.195036  ...           -0.021548   \n",
       "num_sats                    0.184843        0.023303  ...            0.014646   \n",
       "num_tl_120dpd_2m           -0.005109       -0.017419  ...            0.070735   \n",
       "num_tl_30dpd                0.000820       -0.031172  ...            0.005071   \n",
       "num_tl_90g_dpd_24m         -0.012101       -0.099888  ...            1.000000   \n",
       "num_tl_op_past_12m          0.052378       -0.093862  ...           -0.004222   \n",
       "pct_tl_nvr_dlq              0.060422        0.295593  ...           -0.267928   \n",
       "percent_bc_gt_75            0.126620       -0.402020  ...           -0.013438   \n",
       "pub_rec_bankruptcies       -0.011358       -0.204450  ...           -0.025200   \n",
       "tax_liens                  -0.024179       -0.059751  ...            0.001877   \n",
       "tot_hi_cred_lim             0.020597        0.174649  ...            0.000124   \n",
       "total_bal_ex_mort           0.199963        0.012666  ...            0.017218   \n",
       "total_bc_limit              0.019644        0.358986  ...           -0.058216   \n",
       "total_il_high_credit_limit  0.225889        0.052759  ...            0.031985   \n",
       "\n",
       "                            num_tl_op_past_12m  pct_tl_nvr_dlq  \\\n",
       "loan_amnt                            -0.012628        0.067416   \n",
       "funded_amnt                          -0.012628        0.067416   \n",
       "funded_amnt_inv                      -0.012667        0.067452   \n",
       "term                                  0.016720        0.036496   \n",
       "int_rate                              0.209866       -0.047944   \n",
       "installment                           0.013089        0.052710   \n",
       "emp_length                            0.036481       -0.017413   \n",
       "annual_inc                            0.052820       -0.001677   \n",
       "dti                                   0.052378        0.060422   \n",
       "fico_range_low                       -0.093862        0.295593   \n",
       "fico_range_high                      -0.093865        0.295590   \n",
       "last_fico_range_high                 -0.105637        0.105559   \n",
       "last_fico_range_low                  -0.070173        0.053884   \n",
       "collections_12_mths_ex_med            0.012950       -0.041753   \n",
       "acc_now_delinq                       -0.007060       -0.048179   \n",
       "tot_coll_amt                          0.018633       -0.049356   \n",
       "tot_cur_bal                           0.099711        0.010657   \n",
       "open_act_il                           0.122484       -0.013495   \n",
       "open_il_12m                           0.559356        0.025347   \n",
       "open_il_24m                           0.429027        0.064544   \n",
       "mths_since_rcnt_il                   -0.248101       -0.062983   \n",
       "total_bal_il                          0.156654        0.006291   \n",
       "open_rv_12m                           0.838711        0.006950   \n",
       "open_rv_24m                           0.655155        0.040625   \n",
       "max_bal_bc                           -0.095612        0.128981   \n",
       "all_util                             -0.041784       -0.076382   \n",
       "total_cu_tl                           0.120238        0.046449   \n",
       "acc_open_past_24mths                  0.771219        0.073154   \n",
       "avg_cur_bal                          -0.047148       -0.044784   \n",
       "bc_open_to_buy                        0.117209        0.163457   \n",
       "bc_util                              -0.184813       -0.039465   \n",
       "chargeoff_within_12_mths             -0.001425       -0.080140   \n",
       "mo_sin_old_il_acct                    0.024400       -0.107421   \n",
       "mo_sin_old_rev_tl_op                 -0.012330       -0.069489   \n",
       "mo_sin_rcnt_rev_tl_op                -0.404504       -0.033861   \n",
       "mo_sin_rcnt_tl                       -0.489991       -0.030124   \n",
       "mort_acc                              0.067728       -0.015083   \n",
       "mths_since_recent_bc                 -0.302006       -0.049797   \n",
       "num_accts_ever_120_pd                 0.076213       -0.588266   \n",
       "num_actv_bc_tl                        0.199264        0.109645   \n",
       "num_actv_rev_tl                       0.288163        0.085705   \n",
       "num_bc_sats                           0.269023        0.140222   \n",
       "num_bc_tl                             0.260412        0.065240   \n",
       "num_il_tl                             0.193666       -0.006209   \n",
       "num_op_rev_tl                         0.379874        0.131529   \n",
       "num_rev_accts                         0.329591        0.053768   \n",
       "num_rev_tl_bal_gt_0                   0.275268        0.090992   \n",
       "num_sats                              0.390400        0.101040   \n",
       "num_tl_120dpd_2m                     -0.006740       -0.019313   \n",
       "num_tl_30dpd                         -0.006353       -0.037571   \n",
       "num_tl_90g_dpd_24m                   -0.004222       -0.267928   \n",
       "num_tl_op_past_12m                    1.000000        0.024363   \n",
       "pct_tl_nvr_dlq                        0.024363        1.000000   \n",
       "percent_bc_gt_75                     -0.173828       -0.021059   \n",
       "pub_rec_bankruptcies                  0.087173        0.085867   \n",
       "tax_liens                             0.019169       -0.028302   \n",
       "tot_hi_cred_lim                       0.102534        0.022768   \n",
       "total_bal_ex_mort                     0.126843        0.051010   \n",
       "total_bc_limit                        0.069684        0.205474   \n",
       "total_il_high_credit_limit            0.137445        0.015651   \n",
       "\n",
       "                            percent_bc_gt_75  pub_rec_bankruptcies  tax_liens  \\\n",
       "loan_amnt                           0.040105             -0.071035   0.013051   \n",
       "funded_amnt                         0.040105             -0.071035   0.013051   \n",
       "funded_amnt_inv                     0.040094             -0.071069   0.013026   \n",
       "term                                0.038438             -0.001897  -0.007403   \n",
       "int_rate                            0.208784              0.054860   0.013929   \n",
       "installment                         0.061678             -0.062361   0.018569   \n",
       "emp_length                          0.035376              0.005385   0.006460   \n",
       "annual_inc                         -0.000280             -0.036212   0.034795   \n",
       "dti                                 0.126620             -0.011358  -0.024179   \n",
       "fico_range_low                     -0.402020             -0.204450  -0.059751   \n",
       "fico_range_high                    -0.402016             -0.204447  -0.059750   \n",
       "last_fico_range_high               -0.178195             -0.058159  -0.021791   \n",
       "last_fico_range_low                -0.120771             -0.035460  -0.017784   \n",
       "collections_12_mths_ex_med         -0.028031             -0.008078   0.007789   \n",
       "acc_now_delinq                     -0.026060             -0.011823   0.006829   \n",
       "tot_coll_amt                       -0.025749              0.003026   0.010558   \n",
       "tot_cur_bal                         0.049435             -0.092489  -0.003734   \n",
       "open_act_il                         0.042223             -0.028425  -0.011568   \n",
       "open_il_12m                        -0.068778              0.045381   0.006449   \n",
       "open_il_24m                        -0.052083              0.052110   0.003961   \n",
       "mths_since_rcnt_il                  0.047285             -0.033596   0.001590   \n",
       "total_bal_il                        0.015374             -0.027450   0.001078   \n",
       "open_rv_12m                        -0.163660              0.079932   0.021059   \n",
       "open_rv_24m                        -0.162707              0.111763   0.024318   \n",
       "max_bal_bc                          0.206680             -0.127864  -0.020046   \n",
       "all_util                            0.483346             -0.017558  -0.001896   \n",
       "total_cu_tl                         0.007579              0.017569  -0.014252   \n",
       "acc_open_past_24mths               -0.162042              0.114943   0.020068   \n",
       "avg_cur_bal                         0.075649             -0.080298  -0.000551   \n",
       "bc_open_to_buy                     -0.423756             -0.098489  -0.018768   \n",
       "bc_util                             0.845333             -0.019455  -0.005401   \n",
       "chargeoff_within_12_mths           -0.010095             -0.015201  -0.001650   \n",
       "mo_sin_old_il_acct                  0.053451              0.031736   0.015213   \n",
       "mo_sin_old_rev_tl_op                0.026793              0.048636   0.008809   \n",
       "mo_sin_rcnt_rev_tl_op               0.118868             -0.080005  -0.008746   \n",
       "mo_sin_rcnt_tl                      0.121265             -0.065667  -0.009683   \n",
       "mort_acc                            0.012069             -0.017227  -0.016712   \n",
       "mths_since_recent_bc                0.144699             -0.061440  -0.006237   \n",
       "num_accts_ever_120_pd              -0.023193             -0.048445   0.009945   \n",
       "num_actv_bc_tl                      0.038962             -0.053980   0.014250   \n",
       "num_actv_rev_tl                     0.099557             -0.001905   0.008872   \n",
       "num_bc_sats                        -0.150646             -0.062037   0.004347   \n",
       "num_bc_tl                          -0.157611             -0.004538  -0.009497   \n",
       "num_il_tl                           0.018542             -0.009173  -0.015128   \n",
       "num_op_rev_tl                      -0.134670              0.021009   0.000186   \n",
       "num_rev_accts                      -0.119367              0.050759  -0.018935   \n",
       "num_rev_tl_bal_gt_0                 0.105815             -0.005062   0.010018   \n",
       "num_sats                           -0.085762             -0.016418  -0.006784   \n",
       "num_tl_120dpd_2m                   -0.013424             -0.001958   0.006961   \n",
       "num_tl_30dpd                       -0.018114             -0.014243   0.004934   \n",
       "num_tl_90g_dpd_24m                 -0.013438             -0.025200   0.001877   \n",
       "num_tl_op_past_12m                 -0.173828              0.087173   0.019169   \n",
       "pct_tl_nvr_dlq                     -0.021059              0.085867  -0.028302   \n",
       "percent_bc_gt_75                    1.000000             -0.026666  -0.014085   \n",
       "pub_rec_bankruptcies               -0.026666              1.000000   0.033330   \n",
       "tax_liens                          -0.014085              0.033330   1.000000   \n",
       "tot_hi_cred_lim                     0.006261             -0.103202  -0.003063   \n",
       "total_bal_ex_mort                   0.081260             -0.072844  -0.002624   \n",
       "total_bc_limit                     -0.196066             -0.144747  -0.024177   \n",
       "total_il_high_credit_limit          0.027962             -0.038176   0.003038   \n",
       "\n",
       "                            tot_hi_cred_lim  total_bal_ex_mort  \\\n",
       "loan_amnt                          0.321291           0.272144   \n",
       "funded_amnt                        0.321291           0.272144   \n",
       "funded_amnt_inv                    0.321331           0.272133   \n",
       "term                               0.099962           0.097948   \n",
       "int_rate                          -0.111792           0.027587   \n",
       "installment                        0.282410           0.256854   \n",
       "emp_length                         0.130405           0.035935   \n",
       "annual_inc                         0.381463           0.296553   \n",
       "dti                                0.020597           0.199963   \n",
       "fico_range_low                     0.174649           0.012666   \n",
       "fico_range_high                    0.174649           0.012663   \n",
       "last_fico_range_high               0.152178           0.026381   \n",
       "last_fico_range_low                0.139483           0.049647   \n",
       "collections_12_mths_ex_med        -0.015704          -0.012019   \n",
       "acc_now_delinq                     0.028232           0.008449   \n",
       "tot_coll_amt                      -0.010897          -0.011421   \n",
       "tot_cur_bal                        0.965410           0.517340   \n",
       "open_act_il                        0.132194           0.478780   \n",
       "open_il_12m                        0.100448           0.241179   \n",
       "open_il_24m                        0.135242           0.306727   \n",
       "mths_since_rcnt_il                -0.087726          -0.189968   \n",
       "total_bal_il                       0.351538           0.900623   \n",
       "open_rv_12m                       -0.007102          -0.002879   \n",
       "open_rv_24m                       -0.021566          -0.002203   \n",
       "max_bal_bc                         0.346031           0.331243   \n",
       "all_util                           0.016255           0.294122   \n",
       "total_cu_tl                        0.114659           0.121609   \n",
       "acc_open_past_24mths               0.115618           0.163096   \n",
       "avg_cur_bal                        0.783266           0.286957   \n",
       "bc_open_to_buy                     0.257671           0.106683   \n",
       "bc_util                            0.005411           0.102191   \n",
       "chargeoff_within_12_mths           0.004728          -0.004086   \n",
       "mo_sin_old_il_acct                 0.164817           0.208074   \n",
       "mo_sin_old_rev_tl_op               0.207414           0.100241   \n",
       "mo_sin_rcnt_rev_tl_op              0.024459           0.007884   \n",
       "mo_sin_rcnt_tl                    -0.070737          -0.088766   \n",
       "mort_acc                           0.544436           0.161547   \n",
       "mths_since_recent_bc               0.036353           0.014140   \n",
       "num_accts_ever_120_pd              0.005237           0.032254   \n",
       "num_actv_bc_tl                     0.141872           0.159222   \n",
       "num_actv_rev_tl                    0.132050           0.158010   \n",
       "num_bc_sats                        0.181530           0.149171   \n",
       "num_bc_tl                          0.199949           0.140825   \n",
       "num_il_tl                          0.187042           0.505033   \n",
       "num_op_rev_tl                      0.150137           0.139203   \n",
       "num_rev_accts                      0.191490           0.138532   \n",
       "num_rev_tl_bal_gt_0                0.130309           0.162887   \n",
       "num_sats                           0.278217           0.394348   \n",
       "num_tl_120dpd_2m                   0.011283           0.003494   \n",
       "num_tl_30dpd                       0.024986           0.007398   \n",
       "num_tl_90g_dpd_24m                 0.000124           0.017218   \n",
       "num_tl_op_past_12m                 0.102534           0.126843   \n",
       "pct_tl_nvr_dlq                     0.022768           0.051010   \n",
       "percent_bc_gt_75                   0.006261           0.081260   \n",
       "pub_rec_bankruptcies              -0.103202          -0.072844   \n",
       "tax_liens                         -0.003063          -0.002624   \n",
       "tot_hi_cred_lim                    1.000000           0.497787   \n",
       "total_bal_ex_mort                  0.497787           1.000000   \n",
       "total_bc_limit                     0.391691           0.276939   \n",
       "total_il_high_credit_limit         0.409692           0.885190   \n",
       "\n",
       "                            total_bc_limit  total_il_high_credit_limit  \n",
       "loan_amnt                         0.346212                    0.214384  \n",
       "funded_amnt                       0.346212                    0.214384  \n",
       "funded_amnt_inv                   0.346230                    0.214363  \n",
       "term                              0.065304                    0.086330  \n",
       "int_rate                         -0.184343                    0.014440  \n",
       "installment                       0.309070                    0.199471  \n",
       "emp_length                        0.065046                    0.028173  \n",
       "annual_inc                        0.253515                    0.253781  \n",
       "dti                               0.019644                    0.225889  \n",
       "fico_range_low                    0.358986                    0.052759  \n",
       "fico_range_high                   0.358986                    0.052756  \n",
       "last_fico_range_high              0.205185                    0.030921  \n",
       "last_fico_range_low               0.149769                    0.053911  \n",
       "collections_12_mths_ex_med       -0.030007                   -0.001680  \n",
       "acc_now_delinq                    0.011368                    0.014822  \n",
       "tot_coll_amt                     -0.032863                   -0.001952  \n",
       "tot_cur_bal                       0.309101                    0.418698  \n",
       "open_act_il                      -0.017569                    0.549629  \n",
       "open_il_12m                      -0.035422                    0.283385  \n",
       "open_il_24m                      -0.026379                    0.372282  \n",
       "mths_since_rcnt_il                0.012708                   -0.249409  \n",
       "total_bal_il                      0.082054                    0.957726  \n",
       "open_rv_12m                       0.094967                   -0.016567  \n",
       "open_rv_24m                       0.113809                   -0.020119  \n",
       "max_bal_bc                        0.574207                    0.146042  \n",
       "all_util                         -0.284962                    0.234326  \n",
       "total_cu_tl                      -0.031933                    0.142088  \n",
       "acc_open_past_24mths              0.091847                    0.181390  \n",
       "avg_cur_bal                       0.120469                    0.215608  \n",
       "bc_open_to_buy                    0.839917                    0.064975  \n",
       "bc_util                          -0.238800                    0.036590  \n",
       "chargeoff_within_12_mths         -0.017958                    0.003398  \n",
       "mo_sin_old_il_acct                0.070114                    0.216269  \n",
       "mo_sin_old_rev_tl_op              0.251534                    0.033436  \n",
       "mo_sin_rcnt_rev_tl_op            -0.044272                    0.007695  \n",
       "mo_sin_rcnt_tl                   -0.025828                   -0.110669  \n",
       "mort_acc                          0.215430                    0.124355  \n",
       "mths_since_recent_bc             -0.100681                    0.010533  \n",
       "num_accts_ever_120_pd            -0.119981                    0.055111  \n",
       "num_actv_bc_tl                    0.481391                    0.046571  \n",
       "num_actv_rev_tl                   0.302521                    0.044894  \n",
       "num_bc_sats                       0.620807                    0.055659  \n",
       "num_bc_tl                         0.539876                    0.066578  \n",
       "num_il_tl                         0.001221                    0.569788  \n",
       "num_op_rev_tl                     0.433881                    0.058059  \n",
       "num_rev_accts                     0.389060                    0.072308  \n",
       "num_rev_tl_bal_gt_0               0.298762                    0.047706  \n",
       "num_sats                          0.379155                    0.357587  \n",
       "num_tl_120dpd_2m                 -0.000235                    0.005501  \n",
       "num_tl_30dpd                      0.013584                    0.011638  \n",
       "num_tl_90g_dpd_24m               -0.058216                    0.031985  \n",
       "num_tl_op_past_12m                0.069684                    0.137445  \n",
       "pct_tl_nvr_dlq                    0.205474                    0.015651  \n",
       "percent_bc_gt_75                 -0.196066                    0.027962  \n",
       "pub_rec_bankruptcies             -0.144747                   -0.038176  \n",
       "tax_liens                        -0.024177                    0.003038  \n",
       "tot_hi_cred_lim                   0.391691                    0.409692  \n",
       "total_bal_ex_mort                 0.276939                    0.885190  \n",
       "total_bc_limit                    1.000000                    0.128331  \n",
       "total_il_high_credit_limit        0.128331                    1.000000  \n",
       "\n",
       "[60 rows x 60 columns]"
      ]
     },
     "execution_count": 102,
     "metadata": {},
     "output_type": "execute_result"
    }
   ],
   "source": [
    "# check the actual values of correlations\n",
    "correlation"
   ]
  },
  {
   "cell_type": "code",
   "execution_count": 103,
   "metadata": {},
   "outputs": [],
   "source": [
    "# compare the correlation between features  \n",
    "# remove one of two features that have a correlation >= 0.9\n",
    "\n",
    "columns = np.full((correlation.shape[0],), True, dtype=bool)\n",
    "for i in range(correlation.shape[0]):\n",
    "    for j in range(i + 1, correlation.shape[0]):\n",
    "        if correlation.iloc[i,j] >= 0.9:\n",
    "            if columns[j]:\n",
    "                columns[j] = False\n",
    "selected_columns = num_data.columns[columns]\n",
    "num_data = num_data[selected_columns]"
   ]
  },
  {
   "cell_type": "code",
   "execution_count": 104,
   "metadata": {},
   "outputs": [
    {
     "data": {
      "text/plain": [
       "(366575, 52)"
      ]
     },
     "execution_count": 104,
     "metadata": {},
     "output_type": "execute_result"
    }
   ],
   "source": [
    "num_data.shape"
   ]
  },
  {
   "cell_type": "code",
   "execution_count": 105,
   "metadata": {},
   "outputs": [
    {
     "data": {
      "text/plain": [
       "Index(['loan_amnt', 'term', 'int_rate', 'emp_length', 'annual_inc', 'dti',\n",
       "       'fico_range_low', 'last_fico_range_high', 'last_fico_range_low',\n",
       "       'collections_12_mths_ex_med', 'acc_now_delinq', 'tot_coll_amt',\n",
       "       'tot_cur_bal', 'open_act_il', 'open_il_12m', 'open_il_24m',\n",
       "       'mths_since_rcnt_il', 'total_bal_il', 'open_rv_12m', 'open_rv_24m',\n",
       "       'max_bal_bc', 'all_util', 'total_cu_tl', 'acc_open_past_24mths',\n",
       "       'avg_cur_bal', 'bc_open_to_buy', 'bc_util', 'chargeoff_within_12_mths',\n",
       "       'mo_sin_old_il_acct', 'mo_sin_old_rev_tl_op', 'mo_sin_rcnt_rev_tl_op',\n",
       "       'mo_sin_rcnt_tl', 'mort_acc', 'mths_since_recent_bc',\n",
       "       'num_accts_ever_120_pd', 'num_actv_bc_tl', 'num_actv_rev_tl',\n",
       "       'num_bc_sats', 'num_bc_tl', 'num_il_tl', 'num_op_rev_tl',\n",
       "       'num_rev_accts', 'num_sats', 'num_tl_120dpd_2m', 'num_tl_30dpd',\n",
       "       'num_tl_90g_dpd_24m', 'num_tl_op_past_12m', 'pct_tl_nvr_dlq',\n",
       "       'percent_bc_gt_75', 'pub_rec_bankruptcies', 'tax_liens',\n",
       "       'total_bc_limit'],\n",
       "      dtype='object')"
      ]
     },
     "execution_count": 105,
     "metadata": {},
     "output_type": "execute_result"
    }
   ],
   "source": [
    "num_data.columns"
   ]
  },
  {
   "cell_type": "markdown",
   "metadata": {},
   "source": [
    "#### 5.3 identify feature importance"
   ]
  },
  {
   "cell_type": "markdown",
   "metadata": {},
   "source": [
    "We will use feature imporatence feature in random forest algorithm. Note that columns with missing values cannot be put into the tree classifer, and hence we remove these columns. "
   ]
  },
  {
   "cell_type": "code",
   "execution_count": 106,
   "metadata": {},
   "outputs": [
    {
     "data": {
      "text/plain": [
       "loan_amnt                      0\n",
       "term                           0\n",
       "int_rate                       0\n",
       "emp_length                     0\n",
       "annual_inc                     0\n",
       "dti                            0\n",
       "fico_range_low                 0\n",
       "last_fico_range_high           0\n",
       "last_fico_range_low            0\n",
       "collections_12_mths_ex_med     0\n",
       "acc_now_delinq                 0\n",
       "tot_coll_amt                   0\n",
       "tot_cur_bal                    0\n",
       "open_act_il                   31\n",
       "open_il_12m                   31\n",
       "open_il_24m                   31\n",
       "mths_since_rcnt_il             0\n",
       "total_bal_il                  31\n",
       "open_rv_12m                   31\n",
       "open_rv_24m                   31\n",
       "max_bal_bc                    31\n",
       "all_util                      61\n",
       "total_cu_tl                   32\n",
       "acc_open_past_24mths           0\n",
       "avg_cur_bal                    3\n",
       "bc_open_to_buy                 0\n",
       "bc_util                        0\n",
       "chargeoff_within_12_mths       0\n",
       "mo_sin_old_il_acct             0\n",
       "mo_sin_old_rev_tl_op           0\n",
       "mo_sin_rcnt_rev_tl_op          0\n",
       "mo_sin_rcnt_tl                 0\n",
       "mort_acc                       0\n",
       "mths_since_recent_bc           0\n",
       "num_accts_ever_120_pd          0\n",
       "num_actv_bc_tl                 0\n",
       "num_actv_rev_tl                0\n",
       "num_bc_sats                    0\n",
       "num_bc_tl                      0\n",
       "num_il_tl                      0\n",
       "num_op_rev_tl                  0\n",
       "num_rev_accts                  0\n",
       "num_sats                       0\n",
       "num_tl_120dpd_2m               0\n",
       "num_tl_30dpd                   0\n",
       "num_tl_90g_dpd_24m             0\n",
       "num_tl_op_past_12m             0\n",
       "pct_tl_nvr_dlq                 0\n",
       "percent_bc_gt_75               0\n",
       "pub_rec_bankruptcies           0\n",
       "tax_liens                      0\n",
       "total_bc_limit                 0\n",
       "dtype: int64"
      ]
     },
     "execution_count": 106,
     "metadata": {},
     "output_type": "execute_result"
    }
   ],
   "source": [
    "num_data.isnull().sum()"
   ]
  },
  {
   "cell_type": "code",
   "execution_count": 107,
   "metadata": {},
   "outputs": [
    {
     "name": "stdout",
     "output_type": "stream",
     "text": [
      "(366575, 42)\n"
     ]
    }
   ],
   "source": [
    "num_data = num_data.dropna(axis='columns')\n",
    "print(num_data.shape)"
   ]
  },
  {
   "cell_type": "code",
   "execution_count": 108,
   "metadata": {},
   "outputs": [],
   "source": [
    "from sklearn.ensemble import ExtraTreesClassifier\n",
    "\n",
    "extc = ExtraTreesClassifier(random_state=10)\n",
    "extc = extc.fit(num_data, target)\n",
    "importances = extc.feature_importances_"
   ]
  },
  {
   "cell_type": "code",
   "execution_count": 109,
   "metadata": {},
   "outputs": [
    {
     "name": "stdout",
     "output_type": "stream",
     "text": [
      "(array([ 4,  9, 10, 11, 13, 14, 15, 17, 18, 20, 21, 22, 23, 24, 25, 26, 27,\n",
      "       28, 29, 30, 31, 32, 33, 34, 35, 36, 37, 38, 39, 40, 41]),) [1.42178197e-02 1.20464580e-02 1.70616485e-02 1.00152358e-02\n",
      " 9.94611592e-03 1.23438481e-02 1.34374751e-02 4.02788593e-01\n",
      " 2.64741113e-01 1.66306074e-03 4.86259817e-04 6.12656622e-03\n",
      " 1.11720437e-02 9.59455964e-03 9.34248580e-03 9.53611477e-03\n",
      " 1.06584160e-02 9.09540116e-04 9.96152959e-03 1.07613798e-02\n",
      " 9.28877839e-03 9.20334382e-03 9.31984579e-03 9.34557987e-03\n",
      " 6.15051264e-03 8.54185667e-03 9.78895367e-03 8.35282235e-03\n",
      " 9.05671069e-03 9.45926106e-03 8.93736722e-03 9.40621250e-03\n",
      " 9.13472946e-03 1.35603136e-04 3.68835682e-04 3.13460849e-03\n",
      " 8.89924623e-03 8.60755563e-03 9.05169870e-03 4.62411219e-03\n",
      " 2.70245224e-03 9.67965056e-03]\n"
     ]
    }
   ],
   "source": [
    "# drop features that are not important\n",
    "features_to_drop = (importances <= 0.01)\n",
    "features_indexes = np.where(features_to_drop == True)\n",
    "print(features_indexes, importances)"
   ]
  },
  {
   "cell_type": "code",
   "execution_count": 110,
   "metadata": {},
   "outputs": [],
   "source": [
    "# select num_features that with important > 0.01\n",
    "select = (importances > 0.01)\n",
    "num_data = num_data.iloc[:, select]"
   ]
  },
  {
   "cell_type": "code",
   "execution_count": 111,
   "metadata": {},
   "outputs": [
    {
     "data": {
      "text/html": [
       "<div>\n",
       "<style scoped>\n",
       "    .dataframe tbody tr th:only-of-type {\n",
       "        vertical-align: middle;\n",
       "    }\n",
       "\n",
       "    .dataframe tbody tr th {\n",
       "        vertical-align: top;\n",
       "    }\n",
       "\n",
       "    .dataframe thead th {\n",
       "        text-align: right;\n",
       "    }\n",
       "</style>\n",
       "<table border=\"1\" class=\"dataframe\">\n",
       "  <thead>\n",
       "    <tr style=\"text-align: right;\">\n",
       "      <th></th>\n",
       "      <th>loan_amnt</th>\n",
       "      <th>term</th>\n",
       "      <th>int_rate</th>\n",
       "      <th>emp_length</th>\n",
       "      <th>dti</th>\n",
       "      <th>fico_range_low</th>\n",
       "      <th>last_fico_range_high</th>\n",
       "      <th>last_fico_range_low</th>\n",
       "      <th>tot_cur_bal</th>\n",
       "      <th>bc_util</th>\n",
       "      <th>mo_sin_old_rev_tl_op</th>\n",
       "    </tr>\n",
       "  </thead>\n",
       "  <tbody>\n",
       "    <tr>\n",
       "      <td>1</td>\n",
       "      <td>12000</td>\n",
       "      <td>36</td>\n",
       "      <td>5.32</td>\n",
       "      <td>0.0</td>\n",
       "      <td>26.45</td>\n",
       "      <td>795</td>\n",
       "      <td>809</td>\n",
       "      <td>805</td>\n",
       "      <td>242695</td>\n",
       "      <td>12.9</td>\n",
       "      <td>365</td>\n",
       "    </tr>\n",
       "    <tr>\n",
       "      <td>2</td>\n",
       "      <td>3000</td>\n",
       "      <td>36</td>\n",
       "      <td>13.99</td>\n",
       "      <td>10.0</td>\n",
       "      <td>21.80</td>\n",
       "      <td>670</td>\n",
       "      <td>629</td>\n",
       "      <td>625</td>\n",
       "      <td>99733</td>\n",
       "      <td>87.8</td>\n",
       "      <td>133</td>\n",
       "    </tr>\n",
       "    <tr>\n",
       "      <td>4</td>\n",
       "      <td>18000</td>\n",
       "      <td>60</td>\n",
       "      <td>14.49</td>\n",
       "      <td>10.0</td>\n",
       "      <td>8.46</td>\n",
       "      <td>660</td>\n",
       "      <td>509</td>\n",
       "      <td>505</td>\n",
       "      <td>15803</td>\n",
       "      <td>44.8</td>\n",
       "      <td>32</td>\n",
       "    </tr>\n",
       "    <tr>\n",
       "      <td>5</td>\n",
       "      <td>32200</td>\n",
       "      <td>60</td>\n",
       "      <td>21.49</td>\n",
       "      <td>10.0</td>\n",
       "      <td>11.71</td>\n",
       "      <td>700</td>\n",
       "      <td>734</td>\n",
       "      <td>730</td>\n",
       "      <td>173513</td>\n",
       "      <td>80.8</td>\n",
       "      <td>286</td>\n",
       "    </tr>\n",
       "    <tr>\n",
       "      <td>6</td>\n",
       "      <td>2600</td>\n",
       "      <td>36</td>\n",
       "      <td>8.99</td>\n",
       "      <td>3.0</td>\n",
       "      <td>6.73</td>\n",
       "      <td>770</td>\n",
       "      <td>764</td>\n",
       "      <td>760</td>\n",
       "      <td>19497</td>\n",
       "      <td>1.0</td>\n",
       "      <td>61</td>\n",
       "    </tr>\n",
       "  </tbody>\n",
       "</table>\n",
       "</div>"
      ],
      "text/plain": [
       "   loan_amnt  term  int_rate  emp_length    dti  fico_range_low  \\\n",
       "1      12000    36      5.32         0.0  26.45             795   \n",
       "2       3000    36     13.99        10.0  21.80             670   \n",
       "4      18000    60     14.49        10.0   8.46             660   \n",
       "5      32200    60     21.49        10.0  11.71             700   \n",
       "6       2600    36      8.99         3.0   6.73             770   \n",
       "\n",
       "   last_fico_range_high  last_fico_range_low  tot_cur_bal  bc_util  \\\n",
       "1                   809                  805       242695     12.9   \n",
       "2                   629                  625        99733     87.8   \n",
       "4                   509                  505        15803     44.8   \n",
       "5                   734                  730       173513     80.8   \n",
       "6                   764                  760        19497      1.0   \n",
       "\n",
       "   mo_sin_old_rev_tl_op  \n",
       "1                   365  \n",
       "2                   133  \n",
       "4                    32  \n",
       "5                   286  \n",
       "6                    61  "
      ]
     },
     "execution_count": 111,
     "metadata": {},
     "output_type": "execute_result"
    }
   ],
   "source": [
    "num_data.head()"
   ]
  },
  {
   "cell_type": "markdown",
   "metadata": {},
   "source": [
    "#### 5.4 categorical data"
   ]
  },
  {
   "cell_type": "code",
   "execution_count": 112,
   "metadata": {},
   "outputs": [
    {
     "data": {
      "text/html": [
       "<div>\n",
       "<style scoped>\n",
       "    .dataframe tbody tr th:only-of-type {\n",
       "        vertical-align: middle;\n",
       "    }\n",
       "\n",
       "    .dataframe tbody tr th {\n",
       "        vertical-align: top;\n",
       "    }\n",
       "\n",
       "    .dataframe thead th {\n",
       "        text-align: right;\n",
       "    }\n",
       "</style>\n",
       "<table border=\"1\" class=\"dataframe\">\n",
       "  <thead>\n",
       "    <tr style=\"text-align: right;\">\n",
       "      <th></th>\n",
       "      <th>grade</th>\n",
       "      <th>sub_grade</th>\n",
       "      <th>home_ownership</th>\n",
       "      <th>verification_status</th>\n",
       "      <th>issue_d</th>\n",
       "      <th>purpose</th>\n",
       "      <th>title</th>\n",
       "      <th>zip_code</th>\n",
       "      <th>addr_state</th>\n",
       "      <th>hardship_flag</th>\n",
       "    </tr>\n",
       "  </thead>\n",
       "  <tbody>\n",
       "    <tr>\n",
       "      <td>1</td>\n",
       "      <td>A</td>\n",
       "      <td>A1</td>\n",
       "      <td>MORTGAGE</td>\n",
       "      <td>Not Verified</td>\n",
       "      <td>Sep-16</td>\n",
       "      <td>home_improvement</td>\n",
       "      <td>home improvement</td>\n",
       "      <td>333xx</td>\n",
       "      <td>FL</td>\n",
       "      <td>N</td>\n",
       "    </tr>\n",
       "    <tr>\n",
       "      <td>2</td>\n",
       "      <td>C</td>\n",
       "      <td>C3</td>\n",
       "      <td>MORTGAGE</td>\n",
       "      <td>Source Verified</td>\n",
       "      <td>Sep-16</td>\n",
       "      <td>debt_consolidation</td>\n",
       "      <td>debt consolidation</td>\n",
       "      <td>760xx</td>\n",
       "      <td>TX</td>\n",
       "      <td>N</td>\n",
       "    </tr>\n",
       "    <tr>\n",
       "      <td>4</td>\n",
       "      <td>C</td>\n",
       "      <td>C4</td>\n",
       "      <td>RENT</td>\n",
       "      <td>Not Verified</td>\n",
       "      <td>Sep-16</td>\n",
       "      <td>debt_consolidation</td>\n",
       "      <td>debt consolidation</td>\n",
       "      <td>605xx</td>\n",
       "      <td>IL</td>\n",
       "      <td>N</td>\n",
       "    </tr>\n",
       "    <tr>\n",
       "      <td>5</td>\n",
       "      <td>D</td>\n",
       "      <td>D5</td>\n",
       "      <td>MORTGAGE</td>\n",
       "      <td>Not Verified</td>\n",
       "      <td>Sep-16</td>\n",
       "      <td>credit_card</td>\n",
       "      <td>credit card refinancing</td>\n",
       "      <td>923xx</td>\n",
       "      <td>CA</td>\n",
       "      <td>N</td>\n",
       "    </tr>\n",
       "    <tr>\n",
       "      <td>6</td>\n",
       "      <td>B</td>\n",
       "      <td>B1</td>\n",
       "      <td>RENT</td>\n",
       "      <td>Source Verified</td>\n",
       "      <td>Sep-16</td>\n",
       "      <td>moving</td>\n",
       "      <td>moving and relocation</td>\n",
       "      <td>970xx</td>\n",
       "      <td>OR</td>\n",
       "      <td>N</td>\n",
       "    </tr>\n",
       "    <tr>\n",
       "      <td>...</td>\n",
       "      <td>...</td>\n",
       "      <td>...</td>\n",
       "      <td>...</td>\n",
       "      <td>...</td>\n",
       "      <td>...</td>\n",
       "      <td>...</td>\n",
       "      <td>...</td>\n",
       "      <td>...</td>\n",
       "      <td>...</td>\n",
       "      <td>...</td>\n",
       "    </tr>\n",
       "    <tr>\n",
       "      <td>105442</td>\n",
       "      <td>E</td>\n",
       "      <td>E4</td>\n",
       "      <td>OWN</td>\n",
       "      <td>Source Verified</td>\n",
       "      <td>Apr-17</td>\n",
       "      <td>debt_consolidation</td>\n",
       "      <td>debt consolidation</td>\n",
       "      <td>208xx</td>\n",
       "      <td>MD</td>\n",
       "      <td>N</td>\n",
       "    </tr>\n",
       "    <tr>\n",
       "      <td>105443</td>\n",
       "      <td>C</td>\n",
       "      <td>C3</td>\n",
       "      <td>MORTGAGE</td>\n",
       "      <td>Source Verified</td>\n",
       "      <td>Apr-17</td>\n",
       "      <td>debt_consolidation</td>\n",
       "      <td>debt consolidation</td>\n",
       "      <td>612xx</td>\n",
       "      <td>IL</td>\n",
       "      <td>N</td>\n",
       "    </tr>\n",
       "    <tr>\n",
       "      <td>105444</td>\n",
       "      <td>F</td>\n",
       "      <td>F1</td>\n",
       "      <td>MORTGAGE</td>\n",
       "      <td>Not Verified</td>\n",
       "      <td>Apr-17</td>\n",
       "      <td>home_improvement</td>\n",
       "      <td>home improvement</td>\n",
       "      <td>939xx</td>\n",
       "      <td>CA</td>\n",
       "      <td>N</td>\n",
       "    </tr>\n",
       "    <tr>\n",
       "      <td>105446</td>\n",
       "      <td>E</td>\n",
       "      <td>E2</td>\n",
       "      <td>RENT</td>\n",
       "      <td>Source Verified</td>\n",
       "      <td>Apr-17</td>\n",
       "      <td>other</td>\n",
       "      <td>other</td>\n",
       "      <td>801xx</td>\n",
       "      <td>CO</td>\n",
       "      <td>N</td>\n",
       "    </tr>\n",
       "    <tr>\n",
       "      <td>105450</td>\n",
       "      <td>E</td>\n",
       "      <td>E4</td>\n",
       "      <td>MORTGAGE</td>\n",
       "      <td>Verified</td>\n",
       "      <td>Apr-17</td>\n",
       "      <td>debt_consolidation</td>\n",
       "      <td>debt consolidation</td>\n",
       "      <td>797xx</td>\n",
       "      <td>TX</td>\n",
       "      <td>N</td>\n",
       "    </tr>\n",
       "  </tbody>\n",
       "</table>\n",
       "<p>366575 rows × 10 columns</p>\n",
       "</div>"
      ],
      "text/plain": [
       "       grade sub_grade home_ownership verification_status issue_d  \\\n",
       "1          A        A1       MORTGAGE        Not Verified  Sep-16   \n",
       "2          C        C3       MORTGAGE     Source Verified  Sep-16   \n",
       "4          C        C4           RENT        Not Verified  Sep-16   \n",
       "5          D        D5       MORTGAGE        Not Verified  Sep-16   \n",
       "6          B        B1           RENT     Source Verified  Sep-16   \n",
       "...      ...       ...            ...                 ...     ...   \n",
       "105442     E        E4            OWN     Source Verified  Apr-17   \n",
       "105443     C        C3       MORTGAGE     Source Verified  Apr-17   \n",
       "105444     F        F1       MORTGAGE        Not Verified  Apr-17   \n",
       "105446     E        E2           RENT     Source Verified  Apr-17   \n",
       "105450     E        E4       MORTGAGE            Verified  Apr-17   \n",
       "\n",
       "                   purpose                    title zip_code addr_state  \\\n",
       "1         home_improvement         home improvement    333xx         FL   \n",
       "2       debt_consolidation       debt consolidation    760xx         TX   \n",
       "4       debt_consolidation       debt consolidation    605xx         IL   \n",
       "5              credit_card  credit card refinancing    923xx         CA   \n",
       "6                   moving    moving and relocation    970xx         OR   \n",
       "...                    ...                      ...      ...        ...   \n",
       "105442  debt_consolidation       debt consolidation    208xx         MD   \n",
       "105443  debt_consolidation       debt consolidation    612xx         IL   \n",
       "105444    home_improvement         home improvement    939xx         CA   \n",
       "105446               other                    other    801xx         CO   \n",
       "105450  debt_consolidation       debt consolidation    797xx         TX   \n",
       "\n",
       "       hardship_flag  \n",
       "1                  N  \n",
       "2                  N  \n",
       "4                  N  \n",
       "5                  N  \n",
       "6                  N  \n",
       "...              ...  \n",
       "105442             N  \n",
       "105443             N  \n",
       "105444             N  \n",
       "105446             N  \n",
       "105450             N  \n",
       "\n",
       "[366575 rows x 10 columns]"
      ]
     },
     "execution_count": 112,
     "metadata": {},
     "output_type": "execute_result"
    }
   ],
   "source": [
    "data.select_dtypes(include=['object'])"
   ]
  },
  {
   "cell_type": "code",
   "execution_count": 113,
   "metadata": {},
   "outputs": [],
   "source": [
    "# categorical features\n",
    "cat_data = data.select_dtypes(include=['object']).drop(['sub_grade', 'issue_d', 'zip_code', 'addr_state'], axis=1)"
   ]
  },
  {
   "cell_type": "code",
   "execution_count": 114,
   "metadata": {},
   "outputs": [
    {
     "data": {
      "text/html": [
       "<div>\n",
       "<style scoped>\n",
       "    .dataframe tbody tr th:only-of-type {\n",
       "        vertical-align: middle;\n",
       "    }\n",
       "\n",
       "    .dataframe tbody tr th {\n",
       "        vertical-align: top;\n",
       "    }\n",
       "\n",
       "    .dataframe thead th {\n",
       "        text-align: right;\n",
       "    }\n",
       "</style>\n",
       "<table border=\"1\" class=\"dataframe\">\n",
       "  <thead>\n",
       "    <tr style=\"text-align: right;\">\n",
       "      <th></th>\n",
       "      <th>grade</th>\n",
       "      <th>home_ownership</th>\n",
       "      <th>verification_status</th>\n",
       "      <th>purpose</th>\n",
       "      <th>title</th>\n",
       "      <th>hardship_flag</th>\n",
       "    </tr>\n",
       "  </thead>\n",
       "  <tbody>\n",
       "    <tr>\n",
       "      <td>1</td>\n",
       "      <td>A</td>\n",
       "      <td>MORTGAGE</td>\n",
       "      <td>Not Verified</td>\n",
       "      <td>home_improvement</td>\n",
       "      <td>home improvement</td>\n",
       "      <td>N</td>\n",
       "    </tr>\n",
       "    <tr>\n",
       "      <td>2</td>\n",
       "      <td>C</td>\n",
       "      <td>MORTGAGE</td>\n",
       "      <td>Source Verified</td>\n",
       "      <td>debt_consolidation</td>\n",
       "      <td>debt consolidation</td>\n",
       "      <td>N</td>\n",
       "    </tr>\n",
       "    <tr>\n",
       "      <td>4</td>\n",
       "      <td>C</td>\n",
       "      <td>RENT</td>\n",
       "      <td>Not Verified</td>\n",
       "      <td>debt_consolidation</td>\n",
       "      <td>debt consolidation</td>\n",
       "      <td>N</td>\n",
       "    </tr>\n",
       "    <tr>\n",
       "      <td>5</td>\n",
       "      <td>D</td>\n",
       "      <td>MORTGAGE</td>\n",
       "      <td>Not Verified</td>\n",
       "      <td>credit_card</td>\n",
       "      <td>credit card refinancing</td>\n",
       "      <td>N</td>\n",
       "    </tr>\n",
       "    <tr>\n",
       "      <td>6</td>\n",
       "      <td>B</td>\n",
       "      <td>RENT</td>\n",
       "      <td>Source Verified</td>\n",
       "      <td>moving</td>\n",
       "      <td>moving and relocation</td>\n",
       "      <td>N</td>\n",
       "    </tr>\n",
       "  </tbody>\n",
       "</table>\n",
       "</div>"
      ],
      "text/plain": [
       "  grade home_ownership verification_status             purpose  \\\n",
       "1     A       MORTGAGE        Not Verified    home_improvement   \n",
       "2     C       MORTGAGE     Source Verified  debt_consolidation   \n",
       "4     C           RENT        Not Verified  debt_consolidation   \n",
       "5     D       MORTGAGE        Not Verified         credit_card   \n",
       "6     B           RENT     Source Verified              moving   \n",
       "\n",
       "                     title hardship_flag  \n",
       "1         home improvement             N  \n",
       "2       debt consolidation             N  \n",
       "4       debt consolidation             N  \n",
       "5  credit card refinancing             N  \n",
       "6    moving and relocation             N  "
      ]
     },
     "execution_count": 114,
     "metadata": {},
     "output_type": "execute_result"
    }
   ],
   "source": [
    "cat_data.head()"
   ]
  },
  {
   "cell_type": "markdown",
   "metadata": {},
   "source": [
    "label encode the selected categorical feature. "
   ]
  },
  {
   "cell_type": "code",
   "execution_count": 115,
   "metadata": {},
   "outputs": [],
   "source": [
    "from sklearn.preprocessing import LabelEncoder\n",
    "\n",
    "lb_encode = LabelEncoder()"
   ]
  },
  {
   "cell_type": "code",
   "execution_count": 116,
   "metadata": {},
   "outputs": [],
   "source": [
    "# grade\n",
    "cat_data['grade'] = lb_encode.fit_transform(cat_data['grade'])\n",
    "#cat_data['grade'].value_counts()\n",
    "\n",
    "# home_ownership\n",
    "cat_data['home_ownership'] = lb_encode.fit_transform(cat_data['home_ownership'])\n",
    "#cat_data['home_ownership'].value_counts()\n",
    "\n",
    "# verification_status\n",
    "cat_data['verification_status'] = lb_encode.fit_transform(cat_data['verification_status'])\n",
    "#cat_data['verification_status'].value_counts()\n",
    "\n",
    "cat_data['purpose'] = lb_encode.fit_transform(cat_data['purpose'])\n",
    "#cat_data['purpose'].value_counts()\n",
    "\n",
    "cat_data['title'] = lb_encode.fit_transform(cat_data['title'])\n",
    "#cat_data['title'].value_counts()\n",
    "\n",
    "cat_data['hardship_flag'] = lb_encode.fit_transform(cat_data['hardship_flag'])\n",
    "#cat_data['hardship_flag'].value_counts()"
   ]
  },
  {
   "cell_type": "code",
   "execution_count": 117,
   "metadata": {},
   "outputs": [
    {
     "data": {
      "text/plain": [
       "0    365723\n",
       "1       852\n",
       "Name: hardship_flag, dtype: int64"
      ]
     },
     "execution_count": 117,
     "metadata": {},
     "output_type": "execute_result"
    }
   ],
   "source": [
    "cat_data['hardship_flag'].value_counts()"
   ]
  },
  {
   "cell_type": "markdown",
   "metadata": {},
   "source": [
    "### 5.5 selected feature "
   ]
  },
  {
   "cell_type": "code",
   "execution_count": 118,
   "metadata": {},
   "outputs": [
    {
     "data": {
      "text/html": [
       "<div>\n",
       "<style scoped>\n",
       "    .dataframe tbody tr th:only-of-type {\n",
       "        vertical-align: middle;\n",
       "    }\n",
       "\n",
       "    .dataframe tbody tr th {\n",
       "        vertical-align: top;\n",
       "    }\n",
       "\n",
       "    .dataframe thead th {\n",
       "        text-align: right;\n",
       "    }\n",
       "</style>\n",
       "<table border=\"1\" class=\"dataframe\">\n",
       "  <thead>\n",
       "    <tr style=\"text-align: right;\">\n",
       "      <th></th>\n",
       "      <th>grade</th>\n",
       "      <th>home_ownership</th>\n",
       "      <th>verification_status</th>\n",
       "      <th>purpose</th>\n",
       "      <th>title</th>\n",
       "      <th>hardship_flag</th>\n",
       "    </tr>\n",
       "  </thead>\n",
       "  <tbody>\n",
       "    <tr>\n",
       "      <td>1</td>\n",
       "      <td>0</td>\n",
       "      <td>0</td>\n",
       "      <td>0</td>\n",
       "      <td>3</td>\n",
       "      <td>6</td>\n",
       "      <td>0</td>\n",
       "    </tr>\n",
       "    <tr>\n",
       "      <td>2</td>\n",
       "      <td>2</td>\n",
       "      <td>0</td>\n",
       "      <td>1</td>\n",
       "      <td>2</td>\n",
       "      <td>3</td>\n",
       "      <td>0</td>\n",
       "    </tr>\n",
       "    <tr>\n",
       "      <td>4</td>\n",
       "      <td>2</td>\n",
       "      <td>3</td>\n",
       "      <td>0</td>\n",
       "      <td>2</td>\n",
       "      <td>3</td>\n",
       "      <td>0</td>\n",
       "    </tr>\n",
       "    <tr>\n",
       "      <td>5</td>\n",
       "      <td>3</td>\n",
       "      <td>0</td>\n",
       "      <td>0</td>\n",
       "      <td>1</td>\n",
       "      <td>2</td>\n",
       "      <td>0</td>\n",
       "    </tr>\n",
       "    <tr>\n",
       "      <td>6</td>\n",
       "      <td>1</td>\n",
       "      <td>3</td>\n",
       "      <td>1</td>\n",
       "      <td>7</td>\n",
       "      <td>9</td>\n",
       "      <td>0</td>\n",
       "    </tr>\n",
       "  </tbody>\n",
       "</table>\n",
       "</div>"
      ],
      "text/plain": [
       "   grade  home_ownership  verification_status  purpose  title  hardship_flag\n",
       "1      0               0                    0        3      6              0\n",
       "2      2               0                    1        2      3              0\n",
       "4      2               3                    0        2      3              0\n",
       "5      3               0                    0        1      2              0\n",
       "6      1               3                    1        7      9              0"
      ]
     },
     "execution_count": 118,
     "metadata": {},
     "output_type": "execute_result"
    }
   ],
   "source": [
    "cat_data.head()"
   ]
  },
  {
   "cell_type": "code",
   "execution_count": 119,
   "metadata": {},
   "outputs": [
    {
     "data": {
      "text/html": [
       "<div>\n",
       "<style scoped>\n",
       "    .dataframe tbody tr th:only-of-type {\n",
       "        vertical-align: middle;\n",
       "    }\n",
       "\n",
       "    .dataframe tbody tr th {\n",
       "        vertical-align: top;\n",
       "    }\n",
       "\n",
       "    .dataframe thead th {\n",
       "        text-align: right;\n",
       "    }\n",
       "</style>\n",
       "<table border=\"1\" class=\"dataframe\">\n",
       "  <thead>\n",
       "    <tr style=\"text-align: right;\">\n",
       "      <th></th>\n",
       "      <th>loan_amnt</th>\n",
       "      <th>term</th>\n",
       "      <th>int_rate</th>\n",
       "      <th>emp_length</th>\n",
       "      <th>dti</th>\n",
       "      <th>fico_range_low</th>\n",
       "      <th>last_fico_range_high</th>\n",
       "      <th>last_fico_range_low</th>\n",
       "      <th>tot_cur_bal</th>\n",
       "      <th>bc_util</th>\n",
       "      <th>mo_sin_old_rev_tl_op</th>\n",
       "    </tr>\n",
       "  </thead>\n",
       "  <tbody>\n",
       "    <tr>\n",
       "      <td>1</td>\n",
       "      <td>12000</td>\n",
       "      <td>36</td>\n",
       "      <td>5.32</td>\n",
       "      <td>0.0</td>\n",
       "      <td>26.45</td>\n",
       "      <td>795</td>\n",
       "      <td>809</td>\n",
       "      <td>805</td>\n",
       "      <td>242695</td>\n",
       "      <td>12.9</td>\n",
       "      <td>365</td>\n",
       "    </tr>\n",
       "    <tr>\n",
       "      <td>2</td>\n",
       "      <td>3000</td>\n",
       "      <td>36</td>\n",
       "      <td>13.99</td>\n",
       "      <td>10.0</td>\n",
       "      <td>21.80</td>\n",
       "      <td>670</td>\n",
       "      <td>629</td>\n",
       "      <td>625</td>\n",
       "      <td>99733</td>\n",
       "      <td>87.8</td>\n",
       "      <td>133</td>\n",
       "    </tr>\n",
       "    <tr>\n",
       "      <td>4</td>\n",
       "      <td>18000</td>\n",
       "      <td>60</td>\n",
       "      <td>14.49</td>\n",
       "      <td>10.0</td>\n",
       "      <td>8.46</td>\n",
       "      <td>660</td>\n",
       "      <td>509</td>\n",
       "      <td>505</td>\n",
       "      <td>15803</td>\n",
       "      <td>44.8</td>\n",
       "      <td>32</td>\n",
       "    </tr>\n",
       "    <tr>\n",
       "      <td>5</td>\n",
       "      <td>32200</td>\n",
       "      <td>60</td>\n",
       "      <td>21.49</td>\n",
       "      <td>10.0</td>\n",
       "      <td>11.71</td>\n",
       "      <td>700</td>\n",
       "      <td>734</td>\n",
       "      <td>730</td>\n",
       "      <td>173513</td>\n",
       "      <td>80.8</td>\n",
       "      <td>286</td>\n",
       "    </tr>\n",
       "    <tr>\n",
       "      <td>6</td>\n",
       "      <td>2600</td>\n",
       "      <td>36</td>\n",
       "      <td>8.99</td>\n",
       "      <td>3.0</td>\n",
       "      <td>6.73</td>\n",
       "      <td>770</td>\n",
       "      <td>764</td>\n",
       "      <td>760</td>\n",
       "      <td>19497</td>\n",
       "      <td>1.0</td>\n",
       "      <td>61</td>\n",
       "    </tr>\n",
       "  </tbody>\n",
       "</table>\n",
       "</div>"
      ],
      "text/plain": [
       "   loan_amnt  term  int_rate  emp_length    dti  fico_range_low  \\\n",
       "1      12000    36      5.32         0.0  26.45             795   \n",
       "2       3000    36     13.99        10.0  21.80             670   \n",
       "4      18000    60     14.49        10.0   8.46             660   \n",
       "5      32200    60     21.49        10.0  11.71             700   \n",
       "6       2600    36      8.99         3.0   6.73             770   \n",
       "\n",
       "   last_fico_range_high  last_fico_range_low  tot_cur_bal  bc_util  \\\n",
       "1                   809                  805       242695     12.9   \n",
       "2                   629                  625        99733     87.8   \n",
       "4                   509                  505        15803     44.8   \n",
       "5                   734                  730       173513     80.8   \n",
       "6                   764                  760        19497      1.0   \n",
       "\n",
       "   mo_sin_old_rev_tl_op  \n",
       "1                   365  \n",
       "2                   133  \n",
       "4                    32  \n",
       "5                   286  \n",
       "6                    61  "
      ]
     },
     "execution_count": 119,
     "metadata": {},
     "output_type": "execute_result"
    }
   ],
   "source": [
    "num_data.head()"
   ]
  },
  {
   "cell_type": "code",
   "execution_count": 120,
   "metadata": {},
   "outputs": [],
   "source": [
    "y = data['loan_status']"
   ]
  },
  {
   "cell_type": "code",
   "execution_count": 121,
   "metadata": {},
   "outputs": [
    {
     "data": {
      "text/html": [
       "<div>\n",
       "<style scoped>\n",
       "    .dataframe tbody tr th:only-of-type {\n",
       "        vertical-align: middle;\n",
       "    }\n",
       "\n",
       "    .dataframe tbody tr th {\n",
       "        vertical-align: top;\n",
       "    }\n",
       "\n",
       "    .dataframe thead th {\n",
       "        text-align: right;\n",
       "    }\n",
       "</style>\n",
       "<table border=\"1\" class=\"dataframe\">\n",
       "  <thead>\n",
       "    <tr style=\"text-align: right;\">\n",
       "      <th></th>\n",
       "      <th>loan_amnt</th>\n",
       "      <th>term</th>\n",
       "      <th>int_rate</th>\n",
       "      <th>emp_length</th>\n",
       "      <th>dti</th>\n",
       "      <th>fico_range_low</th>\n",
       "      <th>last_fico_range_high</th>\n",
       "      <th>last_fico_range_low</th>\n",
       "      <th>tot_cur_bal</th>\n",
       "      <th>bc_util</th>\n",
       "      <th>mo_sin_old_rev_tl_op</th>\n",
       "      <th>grade</th>\n",
       "      <th>home_ownership</th>\n",
       "      <th>verification_status</th>\n",
       "      <th>purpose</th>\n",
       "      <th>title</th>\n",
       "      <th>hardship_flag</th>\n",
       "    </tr>\n",
       "  </thead>\n",
       "  <tbody>\n",
       "    <tr>\n",
       "      <td>1</td>\n",
       "      <td>12000</td>\n",
       "      <td>36</td>\n",
       "      <td>5.32</td>\n",
       "      <td>0.0</td>\n",
       "      <td>26.45</td>\n",
       "      <td>795</td>\n",
       "      <td>809</td>\n",
       "      <td>805</td>\n",
       "      <td>242695</td>\n",
       "      <td>12.9</td>\n",
       "      <td>365</td>\n",
       "      <td>0</td>\n",
       "      <td>0</td>\n",
       "      <td>0</td>\n",
       "      <td>3</td>\n",
       "      <td>6</td>\n",
       "      <td>0</td>\n",
       "    </tr>\n",
       "    <tr>\n",
       "      <td>2</td>\n",
       "      <td>3000</td>\n",
       "      <td>36</td>\n",
       "      <td>13.99</td>\n",
       "      <td>10.0</td>\n",
       "      <td>21.80</td>\n",
       "      <td>670</td>\n",
       "      <td>629</td>\n",
       "      <td>625</td>\n",
       "      <td>99733</td>\n",
       "      <td>87.8</td>\n",
       "      <td>133</td>\n",
       "      <td>2</td>\n",
       "      <td>0</td>\n",
       "      <td>1</td>\n",
       "      <td>2</td>\n",
       "      <td>3</td>\n",
       "      <td>0</td>\n",
       "    </tr>\n",
       "    <tr>\n",
       "      <td>4</td>\n",
       "      <td>18000</td>\n",
       "      <td>60</td>\n",
       "      <td>14.49</td>\n",
       "      <td>10.0</td>\n",
       "      <td>8.46</td>\n",
       "      <td>660</td>\n",
       "      <td>509</td>\n",
       "      <td>505</td>\n",
       "      <td>15803</td>\n",
       "      <td>44.8</td>\n",
       "      <td>32</td>\n",
       "      <td>2</td>\n",
       "      <td>3</td>\n",
       "      <td>0</td>\n",
       "      <td>2</td>\n",
       "      <td>3</td>\n",
       "      <td>0</td>\n",
       "    </tr>\n",
       "    <tr>\n",
       "      <td>5</td>\n",
       "      <td>32200</td>\n",
       "      <td>60</td>\n",
       "      <td>21.49</td>\n",
       "      <td>10.0</td>\n",
       "      <td>11.71</td>\n",
       "      <td>700</td>\n",
       "      <td>734</td>\n",
       "      <td>730</td>\n",
       "      <td>173513</td>\n",
       "      <td>80.8</td>\n",
       "      <td>286</td>\n",
       "      <td>3</td>\n",
       "      <td>0</td>\n",
       "      <td>0</td>\n",
       "      <td>1</td>\n",
       "      <td>2</td>\n",
       "      <td>0</td>\n",
       "    </tr>\n",
       "    <tr>\n",
       "      <td>6</td>\n",
       "      <td>2600</td>\n",
       "      <td>36</td>\n",
       "      <td>8.99</td>\n",
       "      <td>3.0</td>\n",
       "      <td>6.73</td>\n",
       "      <td>770</td>\n",
       "      <td>764</td>\n",
       "      <td>760</td>\n",
       "      <td>19497</td>\n",
       "      <td>1.0</td>\n",
       "      <td>61</td>\n",
       "      <td>1</td>\n",
       "      <td>3</td>\n",
       "      <td>1</td>\n",
       "      <td>7</td>\n",
       "      <td>9</td>\n",
       "      <td>0</td>\n",
       "    </tr>\n",
       "  </tbody>\n",
       "</table>\n",
       "</div>"
      ],
      "text/plain": [
       "   loan_amnt  term  int_rate  emp_length    dti  fico_range_low  \\\n",
       "1      12000    36      5.32         0.0  26.45             795   \n",
       "2       3000    36     13.99        10.0  21.80             670   \n",
       "4      18000    60     14.49        10.0   8.46             660   \n",
       "5      32200    60     21.49        10.0  11.71             700   \n",
       "6       2600    36      8.99         3.0   6.73             770   \n",
       "\n",
       "   last_fico_range_high  last_fico_range_low  tot_cur_bal  bc_util  \\\n",
       "1                   809                  805       242695     12.9   \n",
       "2                   629                  625        99733     87.8   \n",
       "4                   509                  505        15803     44.8   \n",
       "5                   734                  730       173513     80.8   \n",
       "6                   764                  760        19497      1.0   \n",
       "\n",
       "   mo_sin_old_rev_tl_op  grade  home_ownership  verification_status  purpose  \\\n",
       "1                   365      0               0                    0        3   \n",
       "2                   133      2               0                    1        2   \n",
       "4                    32      2               3                    0        2   \n",
       "5                   286      3               0                    0        1   \n",
       "6                    61      1               3                    1        7   \n",
       "\n",
       "   title  hardship_flag  \n",
       "1      6              0  \n",
       "2      3              0  \n",
       "4      3              0  \n",
       "5      2              0  \n",
       "6      9              0  "
      ]
     },
     "execution_count": 121,
     "metadata": {},
     "output_type": "execute_result"
    }
   ],
   "source": [
    "X = pd.concat([num_data, cat_data], axis=1)\n",
    "X.head()"
   ]
  },
  {
   "cell_type": "code",
   "execution_count": 122,
   "metadata": {},
   "outputs": [
    {
     "data": {
      "text/plain": [
       "0    264241\n",
       "1    102334\n",
       "Name: loan_status, dtype: int64"
      ]
     },
     "execution_count": 122,
     "metadata": {},
     "output_type": "execute_result"
    }
   ],
   "source": [
    "y.value_counts()"
   ]
  },
  {
   "cell_type": "markdown",
   "metadata": {},
   "source": [
    "## Part 6: Model Selection"
   ]
  },
  {
   "cell_type": "markdown",
   "metadata": {},
   "source": [
    "### 6.1 splitting dataset "
   ]
  },
  {
   "cell_type": "code",
   "execution_count": 123,
   "metadata": {},
   "outputs": [
    {
     "name": "stdout",
     "output_type": "stream",
     "text": [
      "training data has 293260 observation with 17 features\n",
      "test data has 73315 observation with 17 features\n"
     ]
    }
   ],
   "source": [
    "# Splite data into training and testing\n",
    "from sklearn import model_selection\n",
    "\n",
    "# Reserve 20% for testing\n",
    "x_train, x_test, y_train, y_test = model_selection.train_test_split(X, y, test_size=0.2, shuffle = False)\n",
    "\n",
    "print('training data has ' + str(x_train.shape[0]) + ' observation with ' + str(x_train.shape[1]) + ' features')\n",
    "print('test data has ' + str(x_test.shape[0]) + ' observation with ' + str(x_test.shape[1]) + ' features')"
   ]
  },
  {
   "cell_type": "code",
   "execution_count": 124,
   "metadata": {},
   "outputs": [
    {
     "data": {
      "text/plain": [
       "0    210690\n",
       "1     82570\n",
       "Name: loan_status, dtype: int64"
      ]
     },
     "execution_count": 124,
     "metadata": {},
     "output_type": "execute_result"
    }
   ],
   "source": [
    "y_train.value_counts()"
   ]
  },
  {
   "cell_type": "code",
   "execution_count": 125,
   "metadata": {},
   "outputs": [
    {
     "data": {
      "text/plain": [
       "0    0.718441\n",
       "1    0.281559\n",
       "Name: loan_status, dtype: float64"
      ]
     },
     "execution_count": 125,
     "metadata": {},
     "output_type": "execute_result"
    }
   ],
   "source": [
    "y_train.value_counts() / len(y_train)"
   ]
  },
  {
   "cell_type": "code",
   "execution_count": 126,
   "metadata": {},
   "outputs": [
    {
     "name": "stdout",
     "output_type": "stream",
     "text": [
      "[27.91625179]\n"
     ]
    }
   ],
   "source": [
    "# check the propotion of y = 1\n",
    "print(y.sum() / y.shape * 100)"
   ]
  },
  {
   "cell_type": "markdown",
   "metadata": {},
   "source": [
    "We see that the dataset is imbalanced. Before we train the model, we need to resample."
   ]
  },
  {
   "cell_type": "markdown",
   "metadata": {},
   "source": [
    "### 6.2 random downsampling"
   ]
  },
  {
   "cell_type": "code",
   "execution_count": 127,
   "metadata": {},
   "outputs": [],
   "source": [
    "# add y_train to the X_train to get a new df\n",
    "x_train['loan_status'] = y_train\n",
    "df = x_train"
   ]
  },
  {
   "cell_type": "code",
   "execution_count": 128,
   "metadata": {},
   "outputs": [
    {
     "data": {
      "text/html": [
       "<div>\n",
       "<style scoped>\n",
       "    .dataframe tbody tr th:only-of-type {\n",
       "        vertical-align: middle;\n",
       "    }\n",
       "\n",
       "    .dataframe tbody tr th {\n",
       "        vertical-align: top;\n",
       "    }\n",
       "\n",
       "    .dataframe thead th {\n",
       "        text-align: right;\n",
       "    }\n",
       "</style>\n",
       "<table border=\"1\" class=\"dataframe\">\n",
       "  <thead>\n",
       "    <tr style=\"text-align: right;\">\n",
       "      <th></th>\n",
       "      <th>loan_amnt</th>\n",
       "      <th>term</th>\n",
       "      <th>int_rate</th>\n",
       "      <th>emp_length</th>\n",
       "      <th>dti</th>\n",
       "      <th>fico_range_low</th>\n",
       "      <th>last_fico_range_high</th>\n",
       "      <th>last_fico_range_low</th>\n",
       "      <th>tot_cur_bal</th>\n",
       "      <th>bc_util</th>\n",
       "      <th>mo_sin_old_rev_tl_op</th>\n",
       "      <th>grade</th>\n",
       "      <th>home_ownership</th>\n",
       "      <th>verification_status</th>\n",
       "      <th>purpose</th>\n",
       "      <th>title</th>\n",
       "      <th>hardship_flag</th>\n",
       "      <th>loan_status</th>\n",
       "    </tr>\n",
       "  </thead>\n",
       "  <tbody>\n",
       "    <tr>\n",
       "      <td>1</td>\n",
       "      <td>12000</td>\n",
       "      <td>36</td>\n",
       "      <td>5.32</td>\n",
       "      <td>0.0</td>\n",
       "      <td>26.45</td>\n",
       "      <td>795</td>\n",
       "      <td>809</td>\n",
       "      <td>805</td>\n",
       "      <td>242695</td>\n",
       "      <td>12.9</td>\n",
       "      <td>365</td>\n",
       "      <td>0</td>\n",
       "      <td>0</td>\n",
       "      <td>0</td>\n",
       "      <td>3</td>\n",
       "      <td>6</td>\n",
       "      <td>0</td>\n",
       "      <td>0</td>\n",
       "    </tr>\n",
       "    <tr>\n",
       "      <td>2</td>\n",
       "      <td>3000</td>\n",
       "      <td>36</td>\n",
       "      <td>13.99</td>\n",
       "      <td>10.0</td>\n",
       "      <td>21.80</td>\n",
       "      <td>670</td>\n",
       "      <td>629</td>\n",
       "      <td>625</td>\n",
       "      <td>99733</td>\n",
       "      <td>87.8</td>\n",
       "      <td>133</td>\n",
       "      <td>2</td>\n",
       "      <td>0</td>\n",
       "      <td>1</td>\n",
       "      <td>2</td>\n",
       "      <td>3</td>\n",
       "      <td>0</td>\n",
       "      <td>1</td>\n",
       "    </tr>\n",
       "    <tr>\n",
       "      <td>4</td>\n",
       "      <td>18000</td>\n",
       "      <td>60</td>\n",
       "      <td>14.49</td>\n",
       "      <td>10.0</td>\n",
       "      <td>8.46</td>\n",
       "      <td>660</td>\n",
       "      <td>509</td>\n",
       "      <td>505</td>\n",
       "      <td>15803</td>\n",
       "      <td>44.8</td>\n",
       "      <td>32</td>\n",
       "      <td>2</td>\n",
       "      <td>3</td>\n",
       "      <td>0</td>\n",
       "      <td>2</td>\n",
       "      <td>3</td>\n",
       "      <td>0</td>\n",
       "      <td>1</td>\n",
       "    </tr>\n",
       "    <tr>\n",
       "      <td>5</td>\n",
       "      <td>32200</td>\n",
       "      <td>60</td>\n",
       "      <td>21.49</td>\n",
       "      <td>10.0</td>\n",
       "      <td>11.71</td>\n",
       "      <td>700</td>\n",
       "      <td>734</td>\n",
       "      <td>730</td>\n",
       "      <td>173513</td>\n",
       "      <td>80.8</td>\n",
       "      <td>286</td>\n",
       "      <td>3</td>\n",
       "      <td>0</td>\n",
       "      <td>0</td>\n",
       "      <td>1</td>\n",
       "      <td>2</td>\n",
       "      <td>0</td>\n",
       "      <td>0</td>\n",
       "    </tr>\n",
       "    <tr>\n",
       "      <td>6</td>\n",
       "      <td>2600</td>\n",
       "      <td>36</td>\n",
       "      <td>8.99</td>\n",
       "      <td>3.0</td>\n",
       "      <td>6.73</td>\n",
       "      <td>770</td>\n",
       "      <td>764</td>\n",
       "      <td>760</td>\n",
       "      <td>19497</td>\n",
       "      <td>1.0</td>\n",
       "      <td>61</td>\n",
       "      <td>1</td>\n",
       "      <td>3</td>\n",
       "      <td>1</td>\n",
       "      <td>7</td>\n",
       "      <td>9</td>\n",
       "      <td>0</td>\n",
       "      <td>0</td>\n",
       "    </tr>\n",
       "  </tbody>\n",
       "</table>\n",
       "</div>"
      ],
      "text/plain": [
       "   loan_amnt  term  int_rate  emp_length    dti  fico_range_low  \\\n",
       "1      12000    36      5.32         0.0  26.45             795   \n",
       "2       3000    36     13.99        10.0  21.80             670   \n",
       "4      18000    60     14.49        10.0   8.46             660   \n",
       "5      32200    60     21.49        10.0  11.71             700   \n",
       "6       2600    36      8.99         3.0   6.73             770   \n",
       "\n",
       "   last_fico_range_high  last_fico_range_low  tot_cur_bal  bc_util  \\\n",
       "1                   809                  805       242695     12.9   \n",
       "2                   629                  625        99733     87.8   \n",
       "4                   509                  505        15803     44.8   \n",
       "5                   734                  730       173513     80.8   \n",
       "6                   764                  760        19497      1.0   \n",
       "\n",
       "   mo_sin_old_rev_tl_op  grade  home_ownership  verification_status  purpose  \\\n",
       "1                   365      0               0                    0        3   \n",
       "2                   133      2               0                    1        2   \n",
       "4                    32      2               3                    0        2   \n",
       "5                   286      3               0                    0        1   \n",
       "6                    61      1               3                    1        7   \n",
       "\n",
       "   title  hardship_flag  loan_status  \n",
       "1      6              0            0  \n",
       "2      3              0            1  \n",
       "4      3              0            1  \n",
       "5      2              0            0  \n",
       "6      9              0            0  "
      ]
     },
     "execution_count": 128,
     "metadata": {},
     "output_type": "execute_result"
    }
   ],
   "source": [
    "x_train.head()"
   ]
  },
  {
   "cell_type": "code",
   "execution_count": 129,
   "metadata": {},
   "outputs": [
    {
     "name": "stdout",
     "output_type": "stream",
     "text": [
      "Number of default 82570\n",
      "Number of undefault 82570\n",
      "(165140, 18)\n"
     ]
    }
   ],
   "source": [
    "# downsampling: balance the labels so we have the same number of default loan as undefault.\n",
    "default_number = len(df[df['loan_status'] == 1])\n",
    "print(\"Number of default\", default_number)\n",
    "\n",
    "default = (df[df['loan_status'] == 1])\n",
    "\n",
    "undefault = df[df['loan_status'] == 0].sample(n = default_number)\n",
    "print(\"Number of undefault\", len(undefault))\n",
    "\n",
    "df2 = default.append(undefault)\n",
    "print (df2.shape)"
   ]
  },
  {
   "cell_type": "code",
   "execution_count": 130,
   "metadata": {},
   "outputs": [
    {
     "name": "stdout",
     "output_type": "stream",
     "text": [
      "(165140, 17)\n",
      "(165140,)\n"
     ]
    }
   ],
   "source": [
    "# Y_train\n",
    "Y_train = df2['loan_status']\n",
    "\n",
    "# X_train\n",
    "to_drop = ['loan_status']\n",
    "X_train = df2.drop(to_drop, axis=1)\n",
    "\n",
    "print (X_train.shape)\n",
    "print (Y_train.shape)"
   ]
  },
  {
   "cell_type": "markdown",
   "metadata": {},
   "source": [
    "### 6.3 scale dataset"
   ]
  },
  {
   "cell_type": "code",
   "execution_count": 131,
   "metadata": {},
   "outputs": [],
   "source": [
    "# Scale the data, using standardization\n",
    "# standardization (x-mean)/std\n",
    "from sklearn.preprocessing import StandardScaler\n",
    "\n",
    "scaler = StandardScaler()\n",
    "X_train = scaler.fit_transform(X_train)\n",
    "x_test = scaler.transform(x_test)"
   ]
  },
  {
   "cell_type": "markdown",
   "metadata": {},
   "source": [
    "### 6.4 model training"
   ]
  },
  {
   "cell_type": "code",
   "execution_count": 132,
   "metadata": {},
   "outputs": [],
   "source": [
    "#@title build models\n",
    "from sklearn.ensemble import RandomForestClassifier\n",
    "from sklearn.linear_model import LogisticRegression\n",
    "\n",
    "# Logistic Regression\n",
    "classifier_logistic = LogisticRegression()\n",
    "\n",
    "# Random Forest\n",
    "classifier_RF = RandomForestClassifier()"
   ]
  },
  {
   "cell_type": "code",
   "execution_count": 133,
   "metadata": {},
   "outputs": [
    {
     "name": "stdout",
     "output_type": "stream",
     "text": [
      "[0.92766743 0.9246397  0.91964394 0.92772799 0.89660288]\n",
      "Model accuracy of Logistic Regression is 0.9192563885188326\n",
      "[0.9210367  0.92133947 0.91479956 0.9239736  0.88888216]\n",
      "Model accuracy of Random Forest is 0.9140062976868112\n"
     ]
    }
   ],
   "source": [
    "# Use 5-fold Cross Validation to get the accuracy for different models\n",
    "model_names = ['Logistic Regression', 'Random Forest']\n",
    "model_list = [classifier_logistic, classifier_RF]\n",
    "count = 0\n",
    "\n",
    "for classifier in model_list:\n",
    "    cv_score = model_selection.cross_val_score(classifier, X_train, Y_train, cv=5)\n",
    "    print(cv_score)\n",
    "    print('Model accuracy of ' + model_names[count] + ' is ' + str(cv_score.mean()))\n",
    "    count += 1"
   ]
  },
  {
   "cell_type": "markdown",
   "metadata": {},
   "source": [
    "#### 6.4.1 Use Grid Search to Find Optimal Hyperparameters"
   ]
  },
  {
   "cell_type": "code",
   "execution_count": 134,
   "metadata": {},
   "outputs": [],
   "source": [
    "from sklearn.model_selection import GridSearchCV\n",
    "\n",
    "# helper function for printing out grid search results \n",
    "def print_grid_search_metrics(gs):\n",
    "    print (\"Best score: \" + str(gs.best_score_))\n",
    "    print (\"Best parameters set:\")\n",
    "    best_parameters = gs.best_params_\n",
    "    for param_name in sorted(parameters.keys()):\n",
    "        print(param_name + ':' + str(best_parameters[param_name]))"
   ]
  },
  {
   "cell_type": "markdown",
   "metadata": {},
   "source": [
    "##### Find Optimal Hyperparameters - LogisticRegression"
   ]
  },
  {
   "cell_type": "code",
   "execution_count": 135,
   "metadata": {},
   "outputs": [
    {
     "data": {
      "text/plain": [
       "GridSearchCV(cv=5, error_score='raise-deprecating',\n",
       "             estimator=LogisticRegression(C=1.0, class_weight=None, dual=False,\n",
       "                                          fit_intercept=True,\n",
       "                                          intercept_scaling=1, l1_ratio=None,\n",
       "                                          max_iter=100, multi_class='warn',\n",
       "                                          n_jobs=None, penalty='l2',\n",
       "                                          random_state=None, solver='warn',\n",
       "                                          tol=0.0001, verbose=0,\n",
       "                                          warm_start=False),\n",
       "             iid='warn', n_jobs=None,\n",
       "             param_grid={'C': (1, 5, 10), 'penalty': ('l1', 'l2')},\n",
       "             pre_dispatch='2*n_jobs', refit=True, return_train_score=False,\n",
       "             scoring=None, verbose=0)"
      ]
     },
     "execution_count": 135,
     "metadata": {},
     "output_type": "execute_result"
    }
   ],
   "source": [
    "# Possible hyperparamter options for Logistic Regression Regularization\n",
    "# Penalty is choosed from L1 or L2\n",
    "# C is the lambda value(weight) for L1 and L2\n",
    "\n",
    "parameters = {\n",
    "    'penalty':('l1', 'l2'), \n",
    "    'C':(1, 5, 10)\n",
    "}\n",
    "Grid_LR = GridSearchCV(LogisticRegression(),parameters, cv=5)\n",
    "Grid_LR.fit(X_train, Y_train)"
   ]
  },
  {
   "cell_type": "code",
   "execution_count": 136,
   "metadata": {},
   "outputs": [
    {
     "name": "stdout",
     "output_type": "stream",
     "text": [
      "Best score: 0.9192866658592709\n",
      "Best parameters set:\n",
      "C:5\n",
      "penalty:l1\n"
     ]
    }
   ],
   "source": [
    "# the best hyperparameter combination\n",
    "print_grid_search_metrics(Grid_LR)"
   ]
  },
  {
   "cell_type": "code",
   "execution_count": 137,
   "metadata": {},
   "outputs": [],
   "source": [
    "# best model\n",
    "best_LR_model = Grid_LR.best_estimator_"
   ]
  },
  {
   "cell_type": "markdown",
   "metadata": {},
   "source": [
    "##### Find Optimal Hyperparameters - Random Forest"
   ]
  },
  {
   "cell_type": "code",
   "execution_count": 138,
   "metadata": {},
   "outputs": [
    {
     "data": {
      "text/plain": [
       "GridSearchCV(cv=5, error_score='raise-deprecating',\n",
       "             estimator=RandomForestClassifier(bootstrap=True, class_weight=None,\n",
       "                                              criterion='gini', max_depth=None,\n",
       "                                              max_features='auto',\n",
       "                                              max_leaf_nodes=None,\n",
       "                                              min_impurity_decrease=0.0,\n",
       "                                              min_impurity_split=None,\n",
       "                                              min_samples_leaf=1,\n",
       "                                              min_samples_split=2,\n",
       "                                              min_weight_fraction_leaf=0.0,\n",
       "                                              n_estimators='warn', n_jobs=None,\n",
       "                                              oob_score=False,\n",
       "                                              random_state=None, verbose=0,\n",
       "                                              warm_start=False),\n",
       "             iid='warn', n_jobs=None, param_grid={'n_estimators': [5, 10, 15]},\n",
       "             pre_dispatch='2*n_jobs', refit=True, return_train_score=False,\n",
       "             scoring=None, verbose=0)"
      ]
     },
     "execution_count": 138,
     "metadata": {},
     "output_type": "execute_result"
    }
   ],
   "source": [
    "# Possible hyperparamter options for Random Forest\n",
    "# Choose the number of trees\n",
    "parameters = {\n",
    "    'n_estimators' : [5,10,15]\n",
    "}\n",
    "Grid_RF = GridSearchCV(RandomForestClassifier(),parameters, cv=5)\n",
    "Grid_RF.fit(X_train, Y_train)"
   ]
  },
  {
   "cell_type": "code",
   "execution_count": 139,
   "metadata": {},
   "outputs": [
    {
     "name": "stdout",
     "output_type": "stream",
     "text": [
      "Best score: 0.9166040934964272\n",
      "Best parameters set:\n",
      "n_estimators:15\n"
     ]
    }
   ],
   "source": [
    "# best number of tress\n",
    "print_grid_search_metrics(Grid_RF)"
   ]
  },
  {
   "cell_type": "code",
   "execution_count": 140,
   "metadata": {},
   "outputs": [],
   "source": [
    "# best random forest\n",
    "best_RF_model = Grid_RF.best_estimator_"
   ]
  },
  {
   "cell_type": "markdown",
   "metadata": {},
   "source": [
    "## Part 7: Model Evaluation"
   ]
  },
  {
   "cell_type": "code",
   "execution_count": 141,
   "metadata": {},
   "outputs": [],
   "source": [
    "from sklearn.metrics import confusion_matrix\n",
    "from sklearn.metrics import classification_report\n",
    "from sklearn.metrics import precision_score\n",
    "from sklearn.metrics import recall_score\n",
    "\n",
    "# calculate accuracy, precision and recall, [[tn, fp],[]]\n",
    "def cal_evaluation(classifier, cm):\n",
    "    tn = cm[0][0]\n",
    "    fp = cm[0][1]\n",
    "    fn = cm[1][0]\n",
    "    tp = cm[1][1]\n",
    "    accuracy  = (tp + tn) / (tp + fp + fn + tn + 0.0)\n",
    "    precision = tp / (tp + fp + 0.0)\n",
    "    recall = tp / (tp + fn + 0.0)\n",
    "    print (classifier)\n",
    "    print (\"Accuracy is: \" + str(accuracy))\n",
    "    print (\"precision is: \" + str(precision))\n",
    "    print (\"recall is: \" + str(recall))\n",
    "\n",
    "# print out confusion matrices\n",
    "def draw_confusion_matrices(confusion_matricies):\n",
    "    class_names = ['non-default','default']\n",
    "    for cm in confusion_matrices:\n",
    "        classifier, cm = cm[0], cm[1]\n",
    "        cal_evaluation(classifier, cm)\n",
    "        fig = plt.figure()\n",
    "        ax = fig.add_subplot(111)\n",
    "        cax = ax.matshow(cm, interpolation='nearest',cmap=plt.get_cmap('Reds'))\n",
    "        plt.title('Confusion matrix for ' + classifier)\n",
    "        fig.colorbar(cax)\n",
    "        ax.set_xticklabels([''] + class_names)\n",
    "        ax.set_yticklabels([''] + class_names)\n",
    "        plt.xlabel('Predicted')\n",
    "        plt.ylabel('True')\n",
    "        plt.show()"
   ]
  },
  {
   "cell_type": "code",
   "execution_count": 142,
   "metadata": {},
   "outputs": [
    {
     "name": "stdout",
     "output_type": "stream",
     "text": [
      "Logistic Regression\n",
      "Accuracy is: 0.9281047534610926\n",
      "precision is: 0.8767742941818749\n",
      "recall is: 0.853217972070431\n"
     ]
    },
    {
     "data": {
      "image/png": "[encoded data removed]",
      "text/plain": [
       "<Figure size 432x288 with 2 Axes>"
      ]
     },
     "metadata": {
      "needs_background": "light"
     },
     "output_type": "display_data"
    },
    {
     "name": "stdout",
     "output_type": "stream",
     "text": [
      "Random Forest\n",
      "Accuracy is: 0.9250221646320671\n",
      "precision is: 0.865314692477083\n",
      "recall is: 0.8549382716049383\n"
     ]
    },
    {
     "data": {
      "image/png": "[encoded data removed]",
      "text/plain": [
       "<Figure size 432x288 with 2 Axes>"
      ]
     },
     "metadata": {
      "needs_background": "light"
     },
     "output_type": "display_data"
    }
   ],
   "source": [
    "# Confusion matrix, accuracy, precison and recall for random forest and logistic regression\n",
    "confusion_matrices = [\n",
    "    (\"Logistic Regression\", confusion_matrix(y_test,best_LR_model.predict(x_test))),\n",
    "    (\"Random Forest\", confusion_matrix(y_test,best_RF_model.predict(x_test)))\n",
    "]\n",
    "\n",
    "draw_confusion_matrices(confusion_matrices)"
   ]
  },
  {
   "cell_type": "markdown",
   "metadata": {},
   "source": [
    "## Part 8: Summary"
   ]
  },
  {
   "cell_type": "markdown",
   "metadata": {},
   "source": [
    "The goal of this project is to build a model that informs investor which loans they should invest. The Lending Club loan data consists in 8 files collected quartely in year of 2016 and 2017. There are 118647 rows and 152 columns in the combined dataset. \n",
    "\n",
    "The target variable is loan_status, and we categorized the 'loan_status' in terms of final prediction values: default or non-default. \n",
    "\n",
    "Since there are more than 100 features, we reduce the number of features by doing the following \n",
    "\n",
    "1. drop the features with more than 10% missing data;\n",
    "\n",
    "2. drop the customer behavior features that are unknown before the loan is issued; \n",
    "\n",
    "3. remove highly correlated features.\n",
    "\n",
    "Then we used the feature importance from tree classifier to select top 10 numberical features, and we also manually selected 6 categorical features. \n",
    "\n",
    "We implemented logistic regression and random forest models to classify the loan_status with approximately 90% accuracy. \n",
    "\n",
    "There are still several places that we can improve this project. \n",
    "\n",
    "1. Here we only considered 16 features. It is definitey worth to try to put more feature to see whether it can imporve the model performance. \n",
    "\n",
    "2. We built two predicted models. There are lots of other binary classification models, such as gradient boosting and neural network models. \n",
    "\n",
    "3. We used down-sampling to resample the training set. There are several other resampling methods, for exmaple, over-sampling and Synthetic Minority Oversampling Technique (SMOTE). And it is worth to compare the these results with the dataset without any resampling. \n",
    "\n",
    "4. Here, the dataset consists two-year (2016 and 2017) data values. It is also a good idea to add data in most recent years and modify the models based on the new dataset. "
   ]
  },
  {
   "cell_type": "code",
   "execution_count": null,
   "metadata": {},
   "outputs": [],
   "source": []
  }
 ],
 "metadata": {
  "kernelspec": {
   "display_name": "Python 3",
   "language": "python",
   "name": "python3"
  },
  "language_info": {
   "codemirror_mode": {
    "name": "ipython",
    "version": 3
   },
   "file_extension": ".py",
   "mimetype": "text/x-python",
   "name": "python",
   "nbconvert_exporter": "python",
   "pygments_lexer": "ipython3",
   "version": "3.7.4"
  }
 },
 "nbformat": 4,
 "nbformat_minor": 2
}
